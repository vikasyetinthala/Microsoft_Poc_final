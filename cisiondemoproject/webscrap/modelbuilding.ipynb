{
 "cells": [
  {
   "cell_type": "code",
   "execution_count": 1,
   "metadata": {},
   "outputs": [],
   "source": [
    "#from pyspark.sql import SparkSession"
   ]
  },
  {
   "cell_type": "code",
   "execution_count": 2,
   "metadata": {},
   "outputs": [],
   "source": [
    "#spark=SparkSession.builder.master(\"local[*]\").appName(\"news scraper\").getOrCreate()"
   ]
  },
  {
   "cell_type": "code",
   "execution_count": 3,
   "metadata": {},
   "outputs": [],
   "source": [
    "#df=spark.read.format(\"parquet\").load(\"hdfs://10.128.0.24:8020/nonpartnewsdata/*.parquet\")"
   ]
  },
  {
   "cell_type": "code",
   "execution_count": 3,
   "metadata": {},
   "outputs": [
    {
     "name": "stdout",
     "output_type": "stream",
     "text": [
      "Collecting nltk\n",
      "  Downloading nltk-3.6.7-py3-none-any.whl (1.5 MB)\n",
      "     |████████████████████████████████| 1.5 MB 7.9 MB/s            \n",
      "\u001b[?25hRequirement already satisfied: joblib in /opt/conda/lib/python3.7/site-packages (from nltk) (1.1.0)\n",
      "Requirement already satisfied: tqdm in /opt/conda/lib/python3.7/site-packages (from nltk) (4.62.3)\n",
      "Collecting regex>=2021.8.3\n",
      "  Downloading regex-2021.11.10-cp37-cp37m-manylinux_2_17_x86_64.manylinux2014_x86_64.whl (749 kB)\n",
      "     |████████████████████████████████| 749 kB 67.5 MB/s            \n",
      "\u001b[?25hRequirement already satisfied: click in /opt/conda/lib/python3.7/site-packages (from nltk) (8.0.3)\n",
      "Requirement already satisfied: importlib-metadata in /opt/conda/lib/python3.7/site-packages (from click->nltk) (4.9.0)\n",
      "Requirement already satisfied: typing-extensions>=3.6.4 in /opt/conda/lib/python3.7/site-packages (from importlib-metadata->click->nltk) (4.0.1)\n",
      "Requirement already satisfied: zipp>=0.5 in /opt/conda/lib/python3.7/site-packages (from importlib-metadata->click->nltk) (3.6.0)\n",
      "Installing collected packages: regex, nltk\n",
      "Successfully installed nltk-3.6.7 regex-2021.11.10\n"
     ]
    }
   ],
   "source": [
    "!pip install nltk"
   ]
  },
  {
   "cell_type": "code",
   "execution_count": 4,
   "metadata": {},
   "outputs": [
    {
     "name": "stderr",
     "output_type": "stream",
     "text": [
      "[nltk_data] Downloading package stopwords to\n",
      "[nltk_data]     /home/jupyter/nltk_data...\n",
      "[nltk_data]   Unzipping corpora/stopwords.zip.\n",
      "[nltk_data] Downloading package wordnet to /home/jupyter/nltk_data...\n",
      "[nltk_data]   Unzipping corpora/wordnet.zip.\n",
      "[nltk_data] Downloading package punkt to /home/jupyter/nltk_data...\n",
      "[nltk_data]   Unzipping tokenizers/punkt.zip.\n"
     ]
    }
   ],
   "source": [
    "import pandas as pd\n",
    "import numpy as np\n",
    "from sklearn.feature_extraction.text import TfidfVectorizer\n",
    "from sklearn.feature_selection import chi2\n",
    "import pickle\n",
    "import re\n",
    "# from pyspark.sql.types import *\n",
    "import matplotlib.pyplot as plt\n",
    "import matplotlib.cm as cm\n",
    "from matplotlib.colors import Normalize\n",
    "from numpy.random import rand\n",
    "#from wordcloud import WordCloud\n",
    "\n",
    "%matplotlib inline\n",
    "\n",
    "#1\n",
    "from sklearn.feature_extraction.text import CountVectorizer\n",
    "from sklearn.model_selection import train_test_split\n",
    "from sklearn.naive_bayes import MultinomialNB\n",
    "\n",
    "import re\n",
    "import nltk\n",
    "from nltk.corpus import stopwords\n",
    "nltk.download('stopwords')\n",
    "from nltk.stem import PorterStemmer\n",
    "from nltk.stem import WordNetLemmatizer\n",
    "nltk.download('wordnet')\n",
    "from nltk.tokenize import word_tokenize\n",
    "from nltk.tokenize import sent_tokenize\n",
    "nltk.download('punkt')\n",
    "#from wordcloud import WordCloud\n",
    "from sklearn.feature_extraction.text import CountVectorizer\n",
    "from sklearn.feature_extraction.text import TfidfVectorizer\n",
    "\n",
    "from sklearn.model_selection import train_test_split\n",
    "from sklearn.metrics import accuracy_score\n",
    "from sklearn.metrics import confusion_matrix\n",
    "from sklearn.metrics import classification_report\n",
    "from sklearn.metrics import make_scorer, roc_curve, roc_auc_score\n",
    "from sklearn.metrics import precision_recall_fscore_support as score\n",
    "from sklearn.metrics.pairwise import cosine_similarity\n",
    "\n",
    "from sklearn.multiclass import OneVsRestClassifier\n",
    "from sklearn.linear_model import LogisticRegression\n",
    "from sklearn.svm import SVC, LinearSVC\n",
    "from sklearn.tree import DecisionTreeClassifier\n",
    "from sklearn.ensemble import RandomForestClassifier\n",
    "from sklearn.neighbors import KNeighborsClassifier\n",
    "from sklearn.naive_bayes import GaussianNB,MultinomialNB,BernoulliNB"
   ]
  },
  {
   "cell_type": "code",
   "execution_count": null,
   "metadata": {},
   "outputs": [],
   "source": []
  },
  {
   "cell_type": "code",
   "execution_count": null,
   "metadata": {},
   "outputs": [],
   "source": []
  },
  {
   "cell_type": "code",
   "execution_count": 11,
   "metadata": {},
   "outputs": [],
   "source": [
    "df=pd.read_parquet(r\"newsdata/news-output-vertexai_part-00000-0beb61c3-292c-4f40-a40f-ac309274cedd-c000.snappy.parquet\")\n",
    "df1=pd.read_parquet(r\"newsdata/news-output-vertexai_part-00001-0beb61c3-292c-4f40-a40f-ac309274cedd-c000.snappy.parquet\")\n",
    "df2=pd.read_parquet(r\"newsdata/news-output-vertexai_part-00003-0beb61c3-292c-4f40-a40f-ac309274cedd-c000.snappy.parquet\")\n",
    "df3=pd.read_parquet(r\"newsdata/news-output-vertexai_part-00004-0beb61c3-292c-4f40-a40f-ac309274cedd-c000.snappy.parquet\")\n",
    "df4=pd.read_parquet(r\"newsdata/news-output-vertexai_part-00006-0beb61c3-292c-4f40-a40f-ac309274cedd-c000.snappy.parquet\")"
   ]
  },
  {
   "cell_type": "code",
   "execution_count": 12,
   "metadata": {},
   "outputs": [],
   "source": [
    "dfinal=pd.concat([df,df1,df2,df3,df4])"
   ]
  },
  {
   "cell_type": "code",
   "execution_count": 13,
   "metadata": {},
   "outputs": [],
   "source": [
    "dff = dfinal.copy(deep=True)"
   ]
  },
  {
   "cell_type": "code",
   "execution_count": 14,
   "metadata": {},
   "outputs": [
    {
     "data": {
      "text/plain": [
       "14259"
      ]
     },
     "execution_count": 14,
     "metadata": {},
     "output_type": "execute_result"
    }
   ],
   "source": [
    "len(dff)"
   ]
  },
  {
   "cell_type": "code",
   "execution_count": 15,
   "metadata": {},
   "outputs": [
    {
     "data": {
      "text/html": [
       "<div>\n",
       "<style scoped>\n",
       "    .dataframe tbody tr th:only-of-type {\n",
       "        vertical-align: middle;\n",
       "    }\n",
       "\n",
       "    .dataframe tbody tr th {\n",
       "        vertical-align: top;\n",
       "    }\n",
       "\n",
       "    .dataframe thead th {\n",
       "        text-align: right;\n",
       "    }\n",
       "</style>\n",
       "<table border=\"1\" class=\"dataframe\">\n",
       "  <thead>\n",
       "    <tr style=\"text-align: right;\">\n",
       "      <th></th>\n",
       "      <th>Title</th>\n",
       "      <th>Link</th>\n",
       "      <th>Published</th>\n",
       "      <th>News</th>\n",
       "      <th>Category</th>\n",
       "      <th>Date</th>\n",
       "      <th>__index_level_0__</th>\n",
       "    </tr>\n",
       "  </thead>\n",
       "  <tbody>\n",
       "    <tr>\n",
       "      <th>0</th>\n",
       "      <td>China's Alibaba sets $100 billion target for S...</td>\n",
       "      <td>https://economictimes.indiatimes.com/news/inte...</td>\n",
       "      <td>Last Updated: Dec 17, 2021, 12:42 PM IST</td>\n",
       "      <td>Chinese e-commerce giant Alibaba has set a tar...</td>\n",
       "      <td>business</td>\n",
       "      <td>2021-12-28</td>\n",
       "      <td>0</td>\n",
       "    </tr>\n",
       "    <tr>\n",
       "      <th>1</th>\n",
       "      <td>Tesla hit by string of US sex harassment lawsuits</td>\n",
       "      <td>https://economictimes.indiatimes.com/news/inte...</td>\n",
       "      <td>Last Updated: Dec 15, 2021, 08:02 AM IST</td>\n",
       "      <td>Six women sued Tesla on Tuesday, alleging a cu...</td>\n",
       "      <td>business</td>\n",
       "      <td>2021-12-28</td>\n",
       "      <td>1</td>\n",
       "    </tr>\n",
       "    <tr>\n",
       "      <th>2</th>\n",
       "      <td>Pakistan acquires USD 15.3 billion loans in FY...</td>\n",
       "      <td>https://economictimes.indiatimes.com/news/inte...</td>\n",
       "      <td>Last Updated: Dec 14, 2021, 04:23 PM IST</td>\n",
       "      <td>Cash-strapped Pakistan contracted USD 15.32 bi...</td>\n",
       "      <td>business</td>\n",
       "      <td>2021-12-28</td>\n",
       "      <td>2</td>\n",
       "    </tr>\n",
       "    <tr>\n",
       "      <th>3</th>\n",
       "      <td>JP Morgan fined $200 mn after employees found ...</td>\n",
       "      <td>https://economictimes.indiatimes.com/news/inte...</td>\n",
       "      <td>Last Updated: Dec 18, 2021, 11:28 AM IST</td>\n",
       "      <td>U.S. regulators fined J.P. Morgan Securities $...</td>\n",
       "      <td>business</td>\n",
       "      <td>2021-12-28</td>\n",
       "      <td>3</td>\n",
       "    </tr>\n",
       "  </tbody>\n",
       "</table>\n",
       "</div>"
      ],
      "text/plain": [
       "                                               Title  \\\n",
       "0  China's Alibaba sets $100 billion target for S...   \n",
       "1  Tesla hit by string of US sex harassment lawsuits   \n",
       "2  Pakistan acquires USD 15.3 billion loans in FY...   \n",
       "3  JP Morgan fined $200 mn after employees found ...   \n",
       "\n",
       "                                                Link  \\\n",
       "0  https://economictimes.indiatimes.com/news/inte...   \n",
       "1  https://economictimes.indiatimes.com/news/inte...   \n",
       "2  https://economictimes.indiatimes.com/news/inte...   \n",
       "3  https://economictimes.indiatimes.com/news/inte...   \n",
       "\n",
       "                                  Published  \\\n",
       "0  Last Updated: Dec 17, 2021, 12:42 PM IST   \n",
       "1  Last Updated: Dec 15, 2021, 08:02 AM IST   \n",
       "2  Last Updated: Dec 14, 2021, 04:23 PM IST   \n",
       "3  Last Updated: Dec 18, 2021, 11:28 AM IST   \n",
       "\n",
       "                                                News  Category        Date  \\\n",
       "0  Chinese e-commerce giant Alibaba has set a tar...  business  2021-12-28   \n",
       "1  Six women sued Tesla on Tuesday, alleging a cu...  business  2021-12-28   \n",
       "2  Cash-strapped Pakistan contracted USD 15.32 bi...  business  2021-12-28   \n",
       "3  U.S. regulators fined J.P. Morgan Securities $...  business  2021-12-28   \n",
       "\n",
       "   __index_level_0__  \n",
       "0                  0  \n",
       "1                  1  \n",
       "2                  2  \n",
       "3                  3  "
      ]
     },
     "execution_count": 15,
     "metadata": {},
     "output_type": "execute_result"
    }
   ],
   "source": [
    "dff.head(4)"
   ]
  },
  {
   "cell_type": "code",
   "execution_count": 16,
   "metadata": {},
   "outputs": [
    {
     "data": {
      "text/html": [
       "<div>\n",
       "<style scoped>\n",
       "    .dataframe tbody tr th:only-of-type {\n",
       "        vertical-align: middle;\n",
       "    }\n",
       "\n",
       "    .dataframe tbody tr th {\n",
       "        vertical-align: top;\n",
       "    }\n",
       "\n",
       "    .dataframe thead th {\n",
       "        text-align: right;\n",
       "    }\n",
       "</style>\n",
       "<table border=\"1\" class=\"dataframe\">\n",
       "  <thead>\n",
       "    <tr style=\"text-align: right;\">\n",
       "      <th></th>\n",
       "      <th>Title</th>\n",
       "      <th>Link</th>\n",
       "      <th>Published</th>\n",
       "      <th>News</th>\n",
       "      <th>Category</th>\n",
       "      <th>Date</th>\n",
       "      <th>__index_level_0__</th>\n",
       "    </tr>\n",
       "  </thead>\n",
       "  <tbody>\n",
       "    <tr>\n",
       "      <th>0</th>\n",
       "      <td>China's Alibaba sets $100 billion target for S...</td>\n",
       "      <td>https://economictimes.indiatimes.com/news/inte...</td>\n",
       "      <td>Last Updated: Dec 17, 2021, 12:42 PM IST</td>\n",
       "      <td>Chinese e-commerce giant Alibaba has set a tar...</td>\n",
       "      <td>business</td>\n",
       "      <td>2021-12-28</td>\n",
       "      <td>0</td>\n",
       "    </tr>\n",
       "    <tr>\n",
       "      <th>1</th>\n",
       "      <td>Tesla hit by string of US sex harassment lawsuits</td>\n",
       "      <td>https://economictimes.indiatimes.com/news/inte...</td>\n",
       "      <td>Last Updated: Dec 15, 2021, 08:02 AM IST</td>\n",
       "      <td>Six women sued Tesla on Tuesday, alleging a cu...</td>\n",
       "      <td>business</td>\n",
       "      <td>2021-12-28</td>\n",
       "      <td>1</td>\n",
       "    </tr>\n",
       "    <tr>\n",
       "      <th>2</th>\n",
       "      <td>Pakistan acquires USD 15.3 billion loans in FY...</td>\n",
       "      <td>https://economictimes.indiatimes.com/news/inte...</td>\n",
       "      <td>Last Updated: Dec 14, 2021, 04:23 PM IST</td>\n",
       "      <td>Cash-strapped Pakistan contracted USD 15.32 bi...</td>\n",
       "      <td>business</td>\n",
       "      <td>2021-12-28</td>\n",
       "      <td>2</td>\n",
       "    </tr>\n",
       "    <tr>\n",
       "      <th>3</th>\n",
       "      <td>JP Morgan fined $200 mn after employees found ...</td>\n",
       "      <td>https://economictimes.indiatimes.com/news/inte...</td>\n",
       "      <td>Last Updated: Dec 18, 2021, 11:28 AM IST</td>\n",
       "      <td>U.S. regulators fined J.P. Morgan Securities $...</td>\n",
       "      <td>business</td>\n",
       "      <td>2021-12-28</td>\n",
       "      <td>3</td>\n",
       "    </tr>\n",
       "    <tr>\n",
       "      <th>4</th>\n",
       "      <td>CEO of battery startup awarded 'staggering' El...</td>\n",
       "      <td>https://economictimes.indiatimes.com/news/inte...</td>\n",
       "      <td>Last Updated: Dec 17, 2021, 08:06 AM IST</td>\n",
       "      <td>Shareholders of QuantumScape Corp, the solid-s...</td>\n",
       "      <td>business</td>\n",
       "      <td>2021-12-28</td>\n",
       "      <td>4</td>\n",
       "    </tr>\n",
       "  </tbody>\n",
       "</table>\n",
       "</div>"
      ],
      "text/plain": [
       "                                               Title  \\\n",
       "0  China's Alibaba sets $100 billion target for S...   \n",
       "1  Tesla hit by string of US sex harassment lawsuits   \n",
       "2  Pakistan acquires USD 15.3 billion loans in FY...   \n",
       "3  JP Morgan fined $200 mn after employees found ...   \n",
       "4  CEO of battery startup awarded 'staggering' El...   \n",
       "\n",
       "                                                Link  \\\n",
       "0  https://economictimes.indiatimes.com/news/inte...   \n",
       "1  https://economictimes.indiatimes.com/news/inte...   \n",
       "2  https://economictimes.indiatimes.com/news/inte...   \n",
       "3  https://economictimes.indiatimes.com/news/inte...   \n",
       "4  https://economictimes.indiatimes.com/news/inte...   \n",
       "\n",
       "                                  Published  \\\n",
       "0  Last Updated: Dec 17, 2021, 12:42 PM IST   \n",
       "1  Last Updated: Dec 15, 2021, 08:02 AM IST   \n",
       "2  Last Updated: Dec 14, 2021, 04:23 PM IST   \n",
       "3  Last Updated: Dec 18, 2021, 11:28 AM IST   \n",
       "4  Last Updated: Dec 17, 2021, 08:06 AM IST   \n",
       "\n",
       "                                                News  Category        Date  \\\n",
       "0  Chinese e-commerce giant Alibaba has set a tar...  business  2021-12-28   \n",
       "1  Six women sued Tesla on Tuesday, alleging a cu...  business  2021-12-28   \n",
       "2  Cash-strapped Pakistan contracted USD 15.32 bi...  business  2021-12-28   \n",
       "3  U.S. regulators fined J.P. Morgan Securities $...  business  2021-12-28   \n",
       "4  Shareholders of QuantumScape Corp, the solid-s...  business  2021-12-28   \n",
       "\n",
       "   __index_level_0__  \n",
       "0                  0  \n",
       "1                  1  \n",
       "2                  2  \n",
       "3                  3  \n",
       "4                  4  "
      ]
     },
     "execution_count": 16,
     "metadata": {},
     "output_type": "execute_result"
    }
   ],
   "source": [
    "dff.head()"
   ]
  },
  {
   "cell_type": "code",
   "execution_count": 17,
   "metadata": {},
   "outputs": [
    {
     "name": "stdout",
     "output_type": "stream",
     "text": [
      "<class 'pandas.core.frame.DataFrame'>\n",
      "Int64Index: 14259 entries, 0 to 29\n",
      "Data columns (total 7 columns):\n",
      " #   Column             Non-Null Count  Dtype \n",
      "---  ------             --------------  ----- \n",
      " 0   Title              14259 non-null  object\n",
      " 1   Link               14259 non-null  object\n",
      " 2   Published          14259 non-null  object\n",
      " 3   News               14259 non-null  object\n",
      " 4   Category           14259 non-null  object\n",
      " 5   Date               14259 non-null  object\n",
      " 6   __index_level_0__  14259 non-null  int64 \n",
      "dtypes: int64(1), object(6)\n",
      "memory usage: 891.2+ KB\n"
     ]
    }
   ],
   "source": [
    "dff.info()"
   ]
  },
  {
   "cell_type": "code",
   "execution_count": 18,
   "metadata": {},
   "outputs": [
    {
     "data": {
      "text/html": [
       "<div>\n",
       "<style scoped>\n",
       "    .dataframe tbody tr th:only-of-type {\n",
       "        vertical-align: middle;\n",
       "    }\n",
       "\n",
       "    .dataframe tbody tr th {\n",
       "        vertical-align: top;\n",
       "    }\n",
       "\n",
       "    .dataframe thead th {\n",
       "        text-align: right;\n",
       "    }\n",
       "</style>\n",
       "<table border=\"1\" class=\"dataframe\">\n",
       "  <thead>\n",
       "    <tr style=\"text-align: right;\">\n",
       "      <th></th>\n",
       "      <th>__index_level_0__</th>\n",
       "    </tr>\n",
       "  </thead>\n",
       "  <tbody>\n",
       "    <tr>\n",
       "      <th>count</th>\n",
       "      <td>14259.000000</td>\n",
       "    </tr>\n",
       "    <tr>\n",
       "      <th>mean</th>\n",
       "      <td>939.009608</td>\n",
       "    </tr>\n",
       "    <tr>\n",
       "      <th>std</th>\n",
       "      <td>589.772497</td>\n",
       "    </tr>\n",
       "    <tr>\n",
       "      <th>min</th>\n",
       "      <td>0.000000</td>\n",
       "    </tr>\n",
       "    <tr>\n",
       "      <th>25%</th>\n",
       "      <td>420.000000</td>\n",
       "    </tr>\n",
       "    <tr>\n",
       "      <th>50%</th>\n",
       "      <td>929.000000</td>\n",
       "    </tr>\n",
       "    <tr>\n",
       "      <th>75%</th>\n",
       "      <td>1438.500000</td>\n",
       "    </tr>\n",
       "    <tr>\n",
       "      <th>max</th>\n",
       "      <td>2015.000000</td>\n",
       "    </tr>\n",
       "  </tbody>\n",
       "</table>\n",
       "</div>"
      ],
      "text/plain": [
       "       __index_level_0__\n",
       "count       14259.000000\n",
       "mean          939.009608\n",
       "std           589.772497\n",
       "min             0.000000\n",
       "25%           420.000000\n",
       "50%           929.000000\n",
       "75%          1438.500000\n",
       "max          2015.000000"
      ]
     },
     "execution_count": 18,
     "metadata": {},
     "output_type": "execute_result"
    }
   ],
   "source": [
    "dff.describe()"
   ]
  },
  {
   "cell_type": "code",
   "execution_count": 19,
   "metadata": {},
   "outputs": [
    {
     "data": {
      "text/plain": [
       "14259"
      ]
     },
     "execution_count": 19,
     "metadata": {},
     "output_type": "execute_result"
    }
   ],
   "source": [
    "len(dff)"
   ]
  },
  {
   "cell_type": "code",
   "execution_count": 20,
   "metadata": {},
   "outputs": [
    {
     "data": {
      "text/plain": [
       "Category\n",
       "arts                        54\n",
       "business                  2016\n",
       "entertainment             2015\n",
       "information-technology     100\n",
       "international-news        2014\n",
       "local-stories             2086\n",
       "marketing                  169\n",
       "politics                  1684\n",
       "science                   1999\n",
       "social-issues               30\n",
       "sports                    2092\n",
       "Name: Category, dtype: int64"
      ]
     },
     "execution_count": 20,
     "metadata": {},
     "output_type": "execute_result"
    }
   ],
   "source": [
    "dff.groupby('Category').Category.count()"
   ]
  },
  {
   "cell_type": "code",
   "execution_count": 21,
   "metadata": {
    "scrolled": true
   },
   "outputs": [
    {
     "name": "stdout",
     "output_type": "stream",
     "text": [
      "['business' 'entertainment' 'international-news' 'science' 'sports'\n",
      " 'local-stories' 'politics' 'marketing' 'information-technology' 'arts'\n",
      " 'social-issues']\n"
     ]
    }
   ],
   "source": [
    "target_category = dff['Category'].unique()\n",
    "print(target_category)"
   ]
  },
  {
   "cell_type": "code",
   "execution_count": 22,
   "metadata": {
    "scrolled": true
   },
   "outputs": [
    {
     "data": {
      "text/html": [
       "<div>\n",
       "<style scoped>\n",
       "    .dataframe tbody tr th:only-of-type {\n",
       "        vertical-align: middle;\n",
       "    }\n",
       "\n",
       "    .dataframe tbody tr th {\n",
       "        vertical-align: top;\n",
       "    }\n",
       "\n",
       "    .dataframe thead th {\n",
       "        text-align: right;\n",
       "    }\n",
       "</style>\n",
       "<table border=\"1\" class=\"dataframe\">\n",
       "  <thead>\n",
       "    <tr style=\"text-align: right;\">\n",
       "      <th></th>\n",
       "      <th>Title</th>\n",
       "      <th>Link</th>\n",
       "      <th>Published</th>\n",
       "      <th>News</th>\n",
       "      <th>Category</th>\n",
       "      <th>Date</th>\n",
       "      <th>__index_level_0__</th>\n",
       "      <th>CategoryId</th>\n",
       "    </tr>\n",
       "  </thead>\n",
       "  <tbody>\n",
       "    <tr>\n",
       "      <th>0</th>\n",
       "      <td>China's Alibaba sets $100 billion target for S...</td>\n",
       "      <td>https://economictimes.indiatimes.com/news/inte...</td>\n",
       "      <td>Last Updated: Dec 17, 2021, 12:42 PM IST</td>\n",
       "      <td>Chinese e-commerce giant Alibaba has set a tar...</td>\n",
       "      <td>business</td>\n",
       "      <td>2021-12-28</td>\n",
       "      <td>0</td>\n",
       "      <td>0</td>\n",
       "    </tr>\n",
       "    <tr>\n",
       "      <th>1</th>\n",
       "      <td>Tesla hit by string of US sex harassment lawsuits</td>\n",
       "      <td>https://economictimes.indiatimes.com/news/inte...</td>\n",
       "      <td>Last Updated: Dec 15, 2021, 08:02 AM IST</td>\n",
       "      <td>Six women sued Tesla on Tuesday, alleging a cu...</td>\n",
       "      <td>business</td>\n",
       "      <td>2021-12-28</td>\n",
       "      <td>1</td>\n",
       "      <td>0</td>\n",
       "    </tr>\n",
       "    <tr>\n",
       "      <th>2</th>\n",
       "      <td>Pakistan acquires USD 15.3 billion loans in FY...</td>\n",
       "      <td>https://economictimes.indiatimes.com/news/inte...</td>\n",
       "      <td>Last Updated: Dec 14, 2021, 04:23 PM IST</td>\n",
       "      <td>Cash-strapped Pakistan contracted USD 15.32 bi...</td>\n",
       "      <td>business</td>\n",
       "      <td>2021-12-28</td>\n",
       "      <td>2</td>\n",
       "      <td>0</td>\n",
       "    </tr>\n",
       "    <tr>\n",
       "      <th>3</th>\n",
       "      <td>JP Morgan fined $200 mn after employees found ...</td>\n",
       "      <td>https://economictimes.indiatimes.com/news/inte...</td>\n",
       "      <td>Last Updated: Dec 18, 2021, 11:28 AM IST</td>\n",
       "      <td>U.S. regulators fined J.P. Morgan Securities $...</td>\n",
       "      <td>business</td>\n",
       "      <td>2021-12-28</td>\n",
       "      <td>3</td>\n",
       "      <td>0</td>\n",
       "    </tr>\n",
       "    <tr>\n",
       "      <th>4</th>\n",
       "      <td>CEO of battery startup awarded 'staggering' El...</td>\n",
       "      <td>https://economictimes.indiatimes.com/news/inte...</td>\n",
       "      <td>Last Updated: Dec 17, 2021, 08:06 AM IST</td>\n",
       "      <td>Shareholders of QuantumScape Corp, the solid-s...</td>\n",
       "      <td>business</td>\n",
       "      <td>2021-12-28</td>\n",
       "      <td>4</td>\n",
       "      <td>0</td>\n",
       "    </tr>\n",
       "  </tbody>\n",
       "</table>\n",
       "</div>"
      ],
      "text/plain": [
       "                                               Title  \\\n",
       "0  China's Alibaba sets $100 billion target for S...   \n",
       "1  Tesla hit by string of US sex harassment lawsuits   \n",
       "2  Pakistan acquires USD 15.3 billion loans in FY...   \n",
       "3  JP Morgan fined $200 mn after employees found ...   \n",
       "4  CEO of battery startup awarded 'staggering' El...   \n",
       "\n",
       "                                                Link  \\\n",
       "0  https://economictimes.indiatimes.com/news/inte...   \n",
       "1  https://economictimes.indiatimes.com/news/inte...   \n",
       "2  https://economictimes.indiatimes.com/news/inte...   \n",
       "3  https://economictimes.indiatimes.com/news/inte...   \n",
       "4  https://economictimes.indiatimes.com/news/inte...   \n",
       "\n",
       "                                  Published  \\\n",
       "0  Last Updated: Dec 17, 2021, 12:42 PM IST   \n",
       "1  Last Updated: Dec 15, 2021, 08:02 AM IST   \n",
       "2  Last Updated: Dec 14, 2021, 04:23 PM IST   \n",
       "3  Last Updated: Dec 18, 2021, 11:28 AM IST   \n",
       "4  Last Updated: Dec 17, 2021, 08:06 AM IST   \n",
       "\n",
       "                                                News  Category        Date  \\\n",
       "0  Chinese e-commerce giant Alibaba has set a tar...  business  2021-12-28   \n",
       "1  Six women sued Tesla on Tuesday, alleging a cu...  business  2021-12-28   \n",
       "2  Cash-strapped Pakistan contracted USD 15.32 bi...  business  2021-12-28   \n",
       "3  U.S. regulators fined J.P. Morgan Securities $...  business  2021-12-28   \n",
       "4  Shareholders of QuantumScape Corp, the solid-s...  business  2021-12-28   \n",
       "\n",
       "   __index_level_0__  CategoryId  \n",
       "0                  0           0  \n",
       "1                  1           0  \n",
       "2                  2           0  \n",
       "3                  3           0  \n",
       "4                  4           0  "
      ]
     },
     "execution_count": 22,
     "metadata": {},
     "output_type": "execute_result"
    }
   ],
   "source": [
    "dff['CategoryId'] = dff['Category'].factorize()[0]\n",
    "dff.head()"
   ]
  },
  {
   "cell_type": "code",
   "execution_count": 83,
   "metadata": {},
   "outputs": [],
   "source": [
    "mappingdata=dict(dff[['Category','CategoryId']].value_counts())"
   ]
  },
  {
   "cell_type": "code",
   "execution_count": 88,
   "metadata": {},
   "outputs": [],
   "source": [
    "final_dict=dict(mappingdata.keys())"
   ]
  },
  {
   "cell_type": "code",
   "execution_count": 89,
   "metadata": {},
   "outputs": [
    {
     "data": {
      "text/plain": [
       "{'sports': 4,\n",
       " 'local-stories': 5,\n",
       " 'business': 0,\n",
       " 'entertainment': 1,\n",
       " 'international-news': 2,\n",
       " 'science': 3,\n",
       " 'politics': 6,\n",
       " 'marketing': 7,\n",
       " 'information-technology': 8,\n",
       " 'arts': 9,\n",
       " 'social-issues': 10}"
      ]
     },
     "execution_count": 89,
     "metadata": {},
     "output_type": "execute_result"
    }
   ],
   "source": [
    "final_dict"
   ]
  },
  {
   "cell_type": "code",
   "execution_count": 23,
   "metadata": {},
   "outputs": [
    {
     "data": {
      "text/html": [
       "<div>\n",
       "<style scoped>\n",
       "    .dataframe tbody tr th:only-of-type {\n",
       "        vertical-align: middle;\n",
       "    }\n",
       "\n",
       "    .dataframe tbody tr th {\n",
       "        vertical-align: top;\n",
       "    }\n",
       "\n",
       "    .dataframe thead th {\n",
       "        text-align: right;\n",
       "    }\n",
       "</style>\n",
       "<table border=\"1\" class=\"dataframe\">\n",
       "  <thead>\n",
       "    <tr style=\"text-align: right;\">\n",
       "      <th></th>\n",
       "      <th>count</th>\n",
       "    </tr>\n",
       "    <tr>\n",
       "      <th>CategoryId</th>\n",
       "      <th></th>\n",
       "    </tr>\n",
       "  </thead>\n",
       "  <tbody>\n",
       "    <tr>\n",
       "      <th>0</th>\n",
       "      <td>2016</td>\n",
       "    </tr>\n",
       "    <tr>\n",
       "      <th>1</th>\n",
       "      <td>2015</td>\n",
       "    </tr>\n",
       "    <tr>\n",
       "      <th>2</th>\n",
       "      <td>2014</td>\n",
       "    </tr>\n",
       "    <tr>\n",
       "      <th>3</th>\n",
       "      <td>1999</td>\n",
       "    </tr>\n",
       "    <tr>\n",
       "      <th>4</th>\n",
       "      <td>2092</td>\n",
       "    </tr>\n",
       "    <tr>\n",
       "      <th>5</th>\n",
       "      <td>2086</td>\n",
       "    </tr>\n",
       "    <tr>\n",
       "      <th>6</th>\n",
       "      <td>1684</td>\n",
       "    </tr>\n",
       "    <tr>\n",
       "      <th>7</th>\n",
       "      <td>169</td>\n",
       "    </tr>\n",
       "    <tr>\n",
       "      <th>8</th>\n",
       "      <td>100</td>\n",
       "    </tr>\n",
       "    <tr>\n",
       "      <th>9</th>\n",
       "      <td>54</td>\n",
       "    </tr>\n",
       "    <tr>\n",
       "      <th>10</th>\n",
       "      <td>30</td>\n",
       "    </tr>\n",
       "  </tbody>\n",
       "</table>\n",
       "</div>"
      ],
      "text/plain": [
       "            count\n",
       "CategoryId       \n",
       "0            2016\n",
       "1            2015\n",
       "2            2014\n",
       "3            1999\n",
       "4            2092\n",
       "5            2086\n",
       "6            1684\n",
       "7             169\n",
       "8             100\n",
       "9              54\n",
       "10             30"
      ]
     },
     "execution_count": 23,
     "metadata": {},
     "output_type": "execute_result"
    }
   ],
   "source": [
    "c_id_count = pd.DataFrame(dff.groupby('CategoryId').Category.agg(['count']).rename(columns={'Category':'Count'}))\n",
    "c_id_count"
   ]
  },
  {
   "cell_type": "code",
   "execution_count": 26,
   "metadata": {},
   "outputs": [
    {
     "ename": "NameError",
     "evalue": "name 'category' is not defined",
     "output_type": "error",
     "traceback": [
      "\u001b[0;31m---------------------------------------------------------------------------\u001b[0m",
      "\u001b[0;31mNameError\u001b[0m                                 Traceback (most recent call last)",
      "\u001b[0;32m/tmp/ipykernel_31048/1037900679.py\u001b[0m in \u001b[0;36m<module>\u001b[0;34m\u001b[0m\n\u001b[0;32m----> 1\u001b[0;31m \u001b[0mcat_id_count\u001b[0m \u001b[0;34m=\u001b[0m \u001b[0mpd\u001b[0m\u001b[0;34m.\u001b[0m\u001b[0mmerge\u001b[0m\u001b[0;34m(\u001b[0m\u001b[0mcategory\u001b[0m\u001b[0;34m,\u001b[0m \u001b[0mc_id_count\u001b[0m\u001b[0;34m,\u001b[0m \u001b[0mon\u001b[0m\u001b[0;34m=\u001b[0m\u001b[0;34m'CategoryId'\u001b[0m\u001b[0;34m)\u001b[0m\u001b[0;34m\u001b[0m\u001b[0;34m\u001b[0m\u001b[0m\n\u001b[0m\u001b[1;32m      2\u001b[0m \u001b[0mcat_id_count\u001b[0m\u001b[0;34m\u001b[0m\u001b[0;34m\u001b[0m\u001b[0m\n",
      "\u001b[0;31mNameError\u001b[0m: name 'category' is not defined"
     ]
    }
   ],
   "source": [
    "cat_id_count = pd.merge(category, c_id_count, on='CategoryId')\n",
    "cat_id_count\n"
   ]
  },
  {
   "cell_type": "code",
   "execution_count": 27,
   "metadata": {},
   "outputs": [
    {
     "data": {
      "image/png": "[encoded data removed]",
      "text/plain": [
       "<Figure size 432x288 with 1 Axes>"
      ]
     },
     "metadata": {
      "needs_background": "light"
     },
     "output_type": "display_data"
    }
   ],
   "source": [
    "dff.groupby('Category').CategoryId.value_counts().plot(kind = \"bar\", color =np.random.rand(11,3))\n",
    "plt.title(\"News Categories Distribution\")\n",
    "plt.xlabel('Category')\n",
    "plt.ylabel('Counts')\n",
    "plt.show()"
   ]
  },
  {
   "cell_type": "code",
   "execution_count": 29,
   "metadata": {},
   "outputs": [],
   "source": [
    "dff_500 = dff[~dff.Category.isin(dff['Category'].value_counts()[dff['Category'].value_counts()<500].index)]"
   ]
  },
  {
   "cell_type": "code",
   "execution_count": 30,
   "metadata": {},
   "outputs": [
    {
     "data": {
      "text/html": [
       "<div>\n",
       "<style scoped>\n",
       "    .dataframe tbody tr th:only-of-type {\n",
       "        vertical-align: middle;\n",
       "    }\n",
       "\n",
       "    .dataframe tbody tr th {\n",
       "        vertical-align: top;\n",
       "    }\n",
       "\n",
       "    .dataframe thead th {\n",
       "        text-align: right;\n",
       "    }\n",
       "</style>\n",
       "<table border=\"1\" class=\"dataframe\">\n",
       "  <thead>\n",
       "    <tr style=\"text-align: right;\">\n",
       "      <th></th>\n",
       "      <th>Title</th>\n",
       "      <th>Link</th>\n",
       "      <th>Published</th>\n",
       "      <th>News</th>\n",
       "      <th>Category</th>\n",
       "      <th>Date</th>\n",
       "      <th>__index_level_0__</th>\n",
       "      <th>CategoryId</th>\n",
       "    </tr>\n",
       "  </thead>\n",
       "  <tbody>\n",
       "    <tr>\n",
       "      <th>0</th>\n",
       "      <td>China's Alibaba sets $100 billion target for S...</td>\n",
       "      <td>https://economictimes.indiatimes.com/news/inte...</td>\n",
       "      <td>Last Updated: Dec 17, 2021, 12:42 PM IST</td>\n",
       "      <td>Chinese e-commerce giant Alibaba has set a tar...</td>\n",
       "      <td>business</td>\n",
       "      <td>2021-12-28</td>\n",
       "      <td>0</td>\n",
       "      <td>0</td>\n",
       "    </tr>\n",
       "    <tr>\n",
       "      <th>1</th>\n",
       "      <td>Tesla hit by string of US sex harassment lawsuits</td>\n",
       "      <td>https://economictimes.indiatimes.com/news/inte...</td>\n",
       "      <td>Last Updated: Dec 15, 2021, 08:02 AM IST</td>\n",
       "      <td>Six women sued Tesla on Tuesday, alleging a cu...</td>\n",
       "      <td>business</td>\n",
       "      <td>2021-12-28</td>\n",
       "      <td>1</td>\n",
       "      <td>0</td>\n",
       "    </tr>\n",
       "    <tr>\n",
       "      <th>2</th>\n",
       "      <td>Pakistan acquires USD 15.3 billion loans in FY...</td>\n",
       "      <td>https://economictimes.indiatimes.com/news/inte...</td>\n",
       "      <td>Last Updated: Dec 14, 2021, 04:23 PM IST</td>\n",
       "      <td>Cash-strapped Pakistan contracted USD 15.32 bi...</td>\n",
       "      <td>business</td>\n",
       "      <td>2021-12-28</td>\n",
       "      <td>2</td>\n",
       "      <td>0</td>\n",
       "    </tr>\n",
       "    <tr>\n",
       "      <th>3</th>\n",
       "      <td>JP Morgan fined $200 mn after employees found ...</td>\n",
       "      <td>https://economictimes.indiatimes.com/news/inte...</td>\n",
       "      <td>Last Updated: Dec 18, 2021, 11:28 AM IST</td>\n",
       "      <td>U.S. regulators fined J.P. Morgan Securities $...</td>\n",
       "      <td>business</td>\n",
       "      <td>2021-12-28</td>\n",
       "      <td>3</td>\n",
       "      <td>0</td>\n",
       "    </tr>\n",
       "    <tr>\n",
       "      <th>4</th>\n",
       "      <td>CEO of battery startup awarded 'staggering' El...</td>\n",
       "      <td>https://economictimes.indiatimes.com/news/inte...</td>\n",
       "      <td>Last Updated: Dec 17, 2021, 08:06 AM IST</td>\n",
       "      <td>Shareholders of QuantumScape Corp, the solid-s...</td>\n",
       "      <td>business</td>\n",
       "      <td>2021-12-28</td>\n",
       "      <td>4</td>\n",
       "      <td>0</td>\n",
       "    </tr>\n",
       "    <tr>\n",
       "      <th>...</th>\n",
       "      <td>...</td>\n",
       "      <td>...</td>\n",
       "      <td>...</td>\n",
       "      <td>...</td>\n",
       "      <td>...</td>\n",
       "      <td>...</td>\n",
       "      <td>...</td>\n",
       "      <td>...</td>\n",
       "    </tr>\n",
       "    <tr>\n",
       "      <th>532</th>\n",
       "      <td>Solskjaer pays price for failing to rekindle M...</td>\n",
       "      <td>https://economictimes.indiatimes.com/news/spor...</td>\n",
       "      <td>Last Updated: Nov 21, 2021, 04:36 PM IST</td>\n",
       "      <td>As Ole Gunnar Solskjaer trudged forlornly towa...</td>\n",
       "      <td>sports</td>\n",
       "      <td>2021-12-27</td>\n",
       "      <td>93</td>\n",
       "      <td>4</td>\n",
       "    </tr>\n",
       "    <tr>\n",
       "      <th>533</th>\n",
       "      <td>2019 US Open champ Bianca Andreescu to skip Au...</td>\n",
       "      <td>https://economictimes.indiatimes.com/news/spor...</td>\n",
       "      <td>Last Updated: Dec 08, 2021, 07:06 AM IST</td>\n",
       "      <td>Canada tennis star Bianca Andreescu has announ...</td>\n",
       "      <td>sports</td>\n",
       "      <td>2021-12-27</td>\n",
       "      <td>94</td>\n",
       "      <td>4</td>\n",
       "    </tr>\n",
       "    <tr>\n",
       "      <th>534</th>\n",
       "      <td>SportZchain partners with Tamil Thalaivas as o...</td>\n",
       "      <td>https://economictimes.indiatimes.com/markets/c...</td>\n",
       "      <td>Last Updated: Dec 09, 2021, 01:24 PM IST</td>\n",
       "      <td>NEW DELHI: Tamil Thalaivas, the Tamil Nadu bas...</td>\n",
       "      <td>sports</td>\n",
       "      <td>2021-12-27</td>\n",
       "      <td>95</td>\n",
       "      <td>4</td>\n",
       "    </tr>\n",
       "    <tr>\n",
       "      <th>535</th>\n",
       "      <td>Right way to go, says former coach Shastri in ...</td>\n",
       "      <td>https://economictimes.indiatimes.com/news/spor...</td>\n",
       "      <td>Last Updated: Dec 27, 2021, 01:38 PM IST</td>\n",
       "      <td>Former India coach Ravi Shastri has supported ...</td>\n",
       "      <td>sports</td>\n",
       "      <td>2021-12-27</td>\n",
       "      <td>96</td>\n",
       "      <td>4</td>\n",
       "    </tr>\n",
       "    <tr>\n",
       "      <th>536</th>\n",
       "      <td>Muguruza beats Kontaveit in 2 sets to win WTA ...</td>\n",
       "      <td>https://economictimes.indiatimes.com/news/spor...</td>\n",
       "      <td>Last Updated: Nov 18, 2021, 09:59 AM IST</td>\n",
       "      <td>Garbine Muguruza said earlier in the week that...</td>\n",
       "      <td>sports</td>\n",
       "      <td>2021-12-27</td>\n",
       "      <td>97</td>\n",
       "      <td>4</td>\n",
       "    </tr>\n",
       "  </tbody>\n",
       "</table>\n",
       "<p>13906 rows × 8 columns</p>\n",
       "</div>"
      ],
      "text/plain": [
       "                                                 Title  \\\n",
       "0    China's Alibaba sets $100 billion target for S...   \n",
       "1    Tesla hit by string of US sex harassment lawsuits   \n",
       "2    Pakistan acquires USD 15.3 billion loans in FY...   \n",
       "3    JP Morgan fined $200 mn after employees found ...   \n",
       "4    CEO of battery startup awarded 'staggering' El...   \n",
       "..                                                 ...   \n",
       "532  Solskjaer pays price for failing to rekindle M...   \n",
       "533  2019 US Open champ Bianca Andreescu to skip Au...   \n",
       "534  SportZchain partners with Tamil Thalaivas as o...   \n",
       "535  Right way to go, says former coach Shastri in ...   \n",
       "536  Muguruza beats Kontaveit in 2 sets to win WTA ...   \n",
       "\n",
       "                                                  Link  \\\n",
       "0    https://economictimes.indiatimes.com/news/inte...   \n",
       "1    https://economictimes.indiatimes.com/news/inte...   \n",
       "2    https://economictimes.indiatimes.com/news/inte...   \n",
       "3    https://economictimes.indiatimes.com/news/inte...   \n",
       "4    https://economictimes.indiatimes.com/news/inte...   \n",
       "..                                                 ...   \n",
       "532  https://economictimes.indiatimes.com/news/spor...   \n",
       "533  https://economictimes.indiatimes.com/news/spor...   \n",
       "534  https://economictimes.indiatimes.com/markets/c...   \n",
       "535  https://economictimes.indiatimes.com/news/spor...   \n",
       "536  https://economictimes.indiatimes.com/news/spor...   \n",
       "\n",
       "                                    Published  \\\n",
       "0    Last Updated: Dec 17, 2021, 12:42 PM IST   \n",
       "1    Last Updated: Dec 15, 2021, 08:02 AM IST   \n",
       "2    Last Updated: Dec 14, 2021, 04:23 PM IST   \n",
       "3    Last Updated: Dec 18, 2021, 11:28 AM IST   \n",
       "4    Last Updated: Dec 17, 2021, 08:06 AM IST   \n",
       "..                                        ...   \n",
       "532  Last Updated: Nov 21, 2021, 04:36 PM IST   \n",
       "533  Last Updated: Dec 08, 2021, 07:06 AM IST   \n",
       "534  Last Updated: Dec 09, 2021, 01:24 PM IST   \n",
       "535  Last Updated: Dec 27, 2021, 01:38 PM IST   \n",
       "536  Last Updated: Nov 18, 2021, 09:59 AM IST   \n",
       "\n",
       "                                                  News  Category        Date  \\\n",
       "0    Chinese e-commerce giant Alibaba has set a tar...  business  2021-12-28   \n",
       "1    Six women sued Tesla on Tuesday, alleging a cu...  business  2021-12-28   \n",
       "2    Cash-strapped Pakistan contracted USD 15.32 bi...  business  2021-12-28   \n",
       "3    U.S. regulators fined J.P. Morgan Securities $...  business  2021-12-28   \n",
       "4    Shareholders of QuantumScape Corp, the solid-s...  business  2021-12-28   \n",
       "..                                                 ...       ...         ...   \n",
       "532  As Ole Gunnar Solskjaer trudged forlornly towa...    sports  2021-12-27   \n",
       "533  Canada tennis star Bianca Andreescu has announ...    sports  2021-12-27   \n",
       "534  NEW DELHI: Tamil Thalaivas, the Tamil Nadu bas...    sports  2021-12-27   \n",
       "535  Former India coach Ravi Shastri has supported ...    sports  2021-12-27   \n",
       "536  Garbine Muguruza said earlier in the week that...    sports  2021-12-27   \n",
       "\n",
       "     __index_level_0__  CategoryId  \n",
       "0                    0           0  \n",
       "1                    1           0  \n",
       "2                    2           0  \n",
       "3                    3           0  \n",
       "4                    4           0  \n",
       "..                 ...         ...  \n",
       "532                 93           4  \n",
       "533                 94           4  \n",
       "534                 95           4  \n",
       "535                 96           4  \n",
       "536                 97           4  \n",
       "\n",
       "[13906 rows x 8 columns]"
      ]
     },
     "execution_count": 30,
     "metadata": {},
     "output_type": "execute_result"
    }
   ],
   "source": [
    "dff_500"
   ]
  },
  {
   "cell_type": "code",
   "execution_count": null,
   "metadata": {},
   "outputs": [],
   "source": []
  },
  {
   "cell_type": "code",
   "execution_count": 31,
   "metadata": {},
   "outputs": [
    {
     "ename": "NameError",
     "evalue": "name 'cat_id_count' is not defined",
     "output_type": "error",
     "traceback": [
      "\u001b[0;31m---------------------------------------------------------------------------\u001b[0m",
      "\u001b[0;31mNameError\u001b[0m                                 Traceback (most recent call last)",
      "\u001b[0;32m/tmp/ipykernel_31048/2721593287.py\u001b[0m in \u001b[0;36m<module>\u001b[0;34m\u001b[0m\n\u001b[0;32m----> 1\u001b[0;31m \u001b[0mcat_id_count\u001b[0m\u001b[0;34m[\u001b[0m\u001b[0mcat_id_count\u001b[0m\u001b[0;34m[\u001b[0m\u001b[0;34m\"CategoryId\"\u001b[0m\u001b[0;34m]\u001b[0m\u001b[0;34m==\u001b[0m\u001b[0mdff_500\u001b[0m\u001b[0;34m[\u001b[0m\u001b[0;34m\"CategoryId\"\u001b[0m\u001b[0;34m]\u001b[0m\u001b[0;34m]\u001b[0m\u001b[0;34m\u001b[0m\u001b[0;34m\u001b[0m\u001b[0m\n\u001b[0m",
      "\u001b[0;31mNameError\u001b[0m: name 'cat_id_count' is not defined"
     ]
    }
   ],
   "source": [
    "cat_id_count[cat_id_count[\"CategoryId\"]==dff_500[\"CategoryId\"]]"
   ]
  },
  {
   "cell_type": "code",
   "execution_count": 32,
   "metadata": {},
   "outputs": [
    {
     "data": {
      "text/plain": [
       "sports                2092\n",
       "local-stories         2086\n",
       "business              2016\n",
       "entertainment         2015\n",
       "international-news    2014\n",
       "science               1999\n",
       "politics              1684\n",
       "Name: Category, dtype: int64"
      ]
     },
     "execution_count": 32,
     "metadata": {},
     "output_type": "execute_result"
    }
   ],
   "source": [
    "dff_500['Category'].value_counts()"
   ]
  },
  {
   "cell_type": "code",
   "execution_count": null,
   "metadata": {},
   "outputs": [],
   "source": []
  },
  {
   "cell_type": "code",
   "execution_count": null,
   "metadata": {},
   "outputs": [],
   "source": []
  },
  {
   "cell_type": "markdown",
   "metadata": {},
   "source": [
    "# Remove Non-Alphanumeric Characters"
   ]
  },
  {
   "cell_type": "code",
   "execution_count": 33,
   "metadata": {},
   "outputs": [
    {
     "data": {
      "text/html": [
       "<div>\n",
       "<style scoped>\n",
       "    .dataframe tbody tr th:only-of-type {\n",
       "        vertical-align: middle;\n",
       "    }\n",
       "\n",
       "    .dataframe tbody tr th {\n",
       "        vertical-align: top;\n",
       "    }\n",
       "\n",
       "    .dataframe thead th {\n",
       "        text-align: right;\n",
       "    }\n",
       "</style>\n",
       "<table border=\"1\" class=\"dataframe\">\n",
       "  <thead>\n",
       "    <tr style=\"text-align: right;\">\n",
       "      <th></th>\n",
       "      <th>Title</th>\n",
       "      <th>Link</th>\n",
       "      <th>Published</th>\n",
       "      <th>News</th>\n",
       "      <th>Category</th>\n",
       "      <th>Date</th>\n",
       "      <th>__index_level_0__</th>\n",
       "      <th>CategoryId</th>\n",
       "    </tr>\n",
       "  </thead>\n",
       "  <tbody>\n",
       "    <tr>\n",
       "      <th>0</th>\n",
       "      <td>China's Alibaba sets $100 billion target for S...</td>\n",
       "      <td>https://economictimes.indiatimes.com/news/inte...</td>\n",
       "      <td>Last Updated: Dec 17, 2021, 12:42 PM IST</td>\n",
       "      <td>Chinese e-commerce giant Alibaba has set a tar...</td>\n",
       "      <td>business</td>\n",
       "      <td>2021-12-28</td>\n",
       "      <td>0</td>\n",
       "      <td>0</td>\n",
       "    </tr>\n",
       "    <tr>\n",
       "      <th>1</th>\n",
       "      <td>Tesla hit by string of US sex harassment lawsuits</td>\n",
       "      <td>https://economictimes.indiatimes.com/news/inte...</td>\n",
       "      <td>Last Updated: Dec 15, 2021, 08:02 AM IST</td>\n",
       "      <td>Six women sued Tesla on Tuesday, alleging a cu...</td>\n",
       "      <td>business</td>\n",
       "      <td>2021-12-28</td>\n",
       "      <td>1</td>\n",
       "      <td>0</td>\n",
       "    </tr>\n",
       "    <tr>\n",
       "      <th>2</th>\n",
       "      <td>Pakistan acquires USD 15.3 billion loans in FY...</td>\n",
       "      <td>https://economictimes.indiatimes.com/news/inte...</td>\n",
       "      <td>Last Updated: Dec 14, 2021, 04:23 PM IST</td>\n",
       "      <td>Cash-strapped Pakistan contracted USD 15.32 bi...</td>\n",
       "      <td>business</td>\n",
       "      <td>2021-12-28</td>\n",
       "      <td>2</td>\n",
       "      <td>0</td>\n",
       "    </tr>\n",
       "  </tbody>\n",
       "</table>\n",
       "</div>"
      ],
      "text/plain": [
       "                                               Title  \\\n",
       "0  China's Alibaba sets $100 billion target for S...   \n",
       "1  Tesla hit by string of US sex harassment lawsuits   \n",
       "2  Pakistan acquires USD 15.3 billion loans in FY...   \n",
       "\n",
       "                                                Link  \\\n",
       "0  https://economictimes.indiatimes.com/news/inte...   \n",
       "1  https://economictimes.indiatimes.com/news/inte...   \n",
       "2  https://economictimes.indiatimes.com/news/inte...   \n",
       "\n",
       "                                  Published  \\\n",
       "0  Last Updated: Dec 17, 2021, 12:42 PM IST   \n",
       "1  Last Updated: Dec 15, 2021, 08:02 AM IST   \n",
       "2  Last Updated: Dec 14, 2021, 04:23 PM IST   \n",
       "\n",
       "                                                News  Category        Date  \\\n",
       "0  Chinese e-commerce giant Alibaba has set a tar...  business  2021-12-28   \n",
       "1  Six women sued Tesla on Tuesday, alleging a cu...  business  2021-12-28   \n",
       "2  Cash-strapped Pakistan contracted USD 15.32 bi...  business  2021-12-28   \n",
       "\n",
       "   __index_level_0__  CategoryId  \n",
       "0                  0           0  \n",
       "1                  1           0  \n",
       "2                  2           0  "
      ]
     },
     "execution_count": 33,
     "metadata": {},
     "output_type": "execute_result"
    }
   ],
   "source": [
    "dff.head(3)"
   ]
  },
  {
   "cell_type": "code",
   "execution_count": 74,
   "metadata": {},
   "outputs": [],
   "source": [
    "dfk=pd.DataFrame(dff,columns=['Category','CategoryId'])"
   ]
  },
  {
   "cell_type": "code",
   "execution_count": null,
   "metadata": {},
   "outputs": [],
   "source": [
    "dfk."
   ]
  },
  {
   "cell_type": "code",
   "execution_count": 34,
   "metadata": {},
   "outputs": [],
   "source": [
    "df_news = dff.copy()"
   ]
  },
  {
   "cell_type": "code",
   "execution_count": 35,
   "metadata": {},
   "outputs": [],
   "source": [
    "for row in range(len(df_news)):\n",
    "    line = df_news.iloc[row,0]\n",
    "    df_news.iloc[row,0] = re.sub(\"[^a-zA-Z0-9]\", \" \", line)"
   ]
  },
  {
   "cell_type": "code",
   "execution_count": 36,
   "metadata": {
    "scrolled": true
   },
   "outputs": [
    {
     "data": {
      "text/html": [
       "<div>\n",
       "<style scoped>\n",
       "    .dataframe tbody tr th:only-of-type {\n",
       "        vertical-align: middle;\n",
       "    }\n",
       "\n",
       "    .dataframe tbody tr th {\n",
       "        vertical-align: top;\n",
       "    }\n",
       "\n",
       "    .dataframe thead th {\n",
       "        text-align: right;\n",
       "    }\n",
       "</style>\n",
       "<table border=\"1\" class=\"dataframe\">\n",
       "  <thead>\n",
       "    <tr style=\"text-align: right;\">\n",
       "      <th></th>\n",
       "      <th>Title</th>\n",
       "      <th>Link</th>\n",
       "      <th>Published</th>\n",
       "      <th>News</th>\n",
       "      <th>Category</th>\n",
       "      <th>Date</th>\n",
       "      <th>__index_level_0__</th>\n",
       "      <th>CategoryId</th>\n",
       "    </tr>\n",
       "  </thead>\n",
       "  <tbody>\n",
       "    <tr>\n",
       "      <th>0</th>\n",
       "      <td>China s Alibaba sets  100 billion target for S...</td>\n",
       "      <td>https://economictimes.indiatimes.com/news/inte...</td>\n",
       "      <td>Last Updated: Dec 17, 2021, 12:42 PM IST</td>\n",
       "      <td>Chinese e-commerce giant Alibaba has set a tar...</td>\n",
       "      <td>business</td>\n",
       "      <td>2021-12-28</td>\n",
       "      <td>0</td>\n",
       "      <td>0</td>\n",
       "    </tr>\n",
       "    <tr>\n",
       "      <th>1</th>\n",
       "      <td>Tesla hit by string of US sex harassment lawsuits</td>\n",
       "      <td>https://economictimes.indiatimes.com/news/inte...</td>\n",
       "      <td>Last Updated: Dec 15, 2021, 08:02 AM IST</td>\n",
       "      <td>Six women sued Tesla on Tuesday, alleging a cu...</td>\n",
       "      <td>business</td>\n",
       "      <td>2021-12-28</td>\n",
       "      <td>1</td>\n",
       "      <td>0</td>\n",
       "    </tr>\n",
       "    <tr>\n",
       "      <th>2</th>\n",
       "      <td>Pakistan acquires USD 15 3 billion loans in FY...</td>\n",
       "      <td>https://economictimes.indiatimes.com/news/inte...</td>\n",
       "      <td>Last Updated: Dec 14, 2021, 04:23 PM IST</td>\n",
       "      <td>Cash-strapped Pakistan contracted USD 15.32 bi...</td>\n",
       "      <td>business</td>\n",
       "      <td>2021-12-28</td>\n",
       "      <td>2</td>\n",
       "      <td>0</td>\n",
       "    </tr>\n",
       "  </tbody>\n",
       "</table>\n",
       "</div>"
      ],
      "text/plain": [
       "                                               Title  \\\n",
       "0  China s Alibaba sets  100 billion target for S...   \n",
       "1  Tesla hit by string of US sex harassment lawsuits   \n",
       "2  Pakistan acquires USD 15 3 billion loans in FY...   \n",
       "\n",
       "                                                Link  \\\n",
       "0  https://economictimes.indiatimes.com/news/inte...   \n",
       "1  https://economictimes.indiatimes.com/news/inte...   \n",
       "2  https://economictimes.indiatimes.com/news/inte...   \n",
       "\n",
       "                                  Published  \\\n",
       "0  Last Updated: Dec 17, 2021, 12:42 PM IST   \n",
       "1  Last Updated: Dec 15, 2021, 08:02 AM IST   \n",
       "2  Last Updated: Dec 14, 2021, 04:23 PM IST   \n",
       "\n",
       "                                                News  Category        Date  \\\n",
       "0  Chinese e-commerce giant Alibaba has set a tar...  business  2021-12-28   \n",
       "1  Six women sued Tesla on Tuesday, alleging a cu...  business  2021-12-28   \n",
       "2  Cash-strapped Pakistan contracted USD 15.32 bi...  business  2021-12-28   \n",
       "\n",
       "   __index_level_0__  CategoryId  \n",
       "0                  0           0  \n",
       "1                  1           0  \n",
       "2                  2           0  "
      ]
     },
     "execution_count": 36,
     "metadata": {},
     "output_type": "execute_result"
    }
   ],
   "source": [
    "df_news.head(3)"
   ]
  },
  {
   "cell_type": "code",
   "execution_count": 37,
   "metadata": {},
   "outputs": [],
   "source": [
    "def remove_tags(text):\n",
    "  remove = re.compile(r'')\n",
    "  return re.sub(remove, '', text)\n",
    "df_news['Category'] = df_news['Category'].apply(remove_tags)"
   ]
  },
  {
   "cell_type": "code",
   "execution_count": 38,
   "metadata": {},
   "outputs": [
    {
     "data": {
      "text/html": [
       "<div>\n",
       "<style scoped>\n",
       "    .dataframe tbody tr th:only-of-type {\n",
       "        vertical-align: middle;\n",
       "    }\n",
       "\n",
       "    .dataframe tbody tr th {\n",
       "        vertical-align: top;\n",
       "    }\n",
       "\n",
       "    .dataframe thead th {\n",
       "        text-align: right;\n",
       "    }\n",
       "</style>\n",
       "<table border=\"1\" class=\"dataframe\">\n",
       "  <thead>\n",
       "    <tr style=\"text-align: right;\">\n",
       "      <th></th>\n",
       "      <th>Title</th>\n",
       "      <th>Link</th>\n",
       "      <th>Published</th>\n",
       "      <th>News</th>\n",
       "      <th>Category</th>\n",
       "      <th>Date</th>\n",
       "      <th>__index_level_0__</th>\n",
       "      <th>CategoryId</th>\n",
       "    </tr>\n",
       "  </thead>\n",
       "  <tbody>\n",
       "    <tr>\n",
       "      <th>0</th>\n",
       "      <td>China's Alibaba sets $100 billion target for S...</td>\n",
       "      <td>https://economictimes.indiatimes.com/news/inte...</td>\n",
       "      <td>Last Updated: Dec 17, 2021, 12:42 PM IST</td>\n",
       "      <td>Chinese e-commerce giant Alibaba has set a tar...</td>\n",
       "      <td>business</td>\n",
       "      <td>2021-12-28</td>\n",
       "      <td>0</td>\n",
       "      <td>0</td>\n",
       "    </tr>\n",
       "    <tr>\n",
       "      <th>1</th>\n",
       "      <td>Tesla hit by string of US sex harassment lawsuits</td>\n",
       "      <td>https://economictimes.indiatimes.com/news/inte...</td>\n",
       "      <td>Last Updated: Dec 15, 2021, 08:02 AM IST</td>\n",
       "      <td>Six women sued Tesla on Tuesday, alleging a cu...</td>\n",
       "      <td>business</td>\n",
       "      <td>2021-12-28</td>\n",
       "      <td>1</td>\n",
       "      <td>0</td>\n",
       "    </tr>\n",
       "    <tr>\n",
       "      <th>2</th>\n",
       "      <td>Pakistan acquires USD 15.3 billion loans in FY...</td>\n",
       "      <td>https://economictimes.indiatimes.com/news/inte...</td>\n",
       "      <td>Last Updated: Dec 14, 2021, 04:23 PM IST</td>\n",
       "      <td>Cash-strapped Pakistan contracted USD 15.32 bi...</td>\n",
       "      <td>business</td>\n",
       "      <td>2021-12-28</td>\n",
       "      <td>2</td>\n",
       "      <td>0</td>\n",
       "    </tr>\n",
       "  </tbody>\n",
       "</table>\n",
       "</div>"
      ],
      "text/plain": [
       "                                               Title  \\\n",
       "0  China's Alibaba sets $100 billion target for S...   \n",
       "1  Tesla hit by string of US sex harassment lawsuits   \n",
       "2  Pakistan acquires USD 15.3 billion loans in FY...   \n",
       "\n",
       "                                                Link  \\\n",
       "0  https://economictimes.indiatimes.com/news/inte...   \n",
       "1  https://economictimes.indiatimes.com/news/inte...   \n",
       "2  https://economictimes.indiatimes.com/news/inte...   \n",
       "\n",
       "                                  Published  \\\n",
       "0  Last Updated: Dec 17, 2021, 12:42 PM IST   \n",
       "1  Last Updated: Dec 15, 2021, 08:02 AM IST   \n",
       "2  Last Updated: Dec 14, 2021, 04:23 PM IST   \n",
       "\n",
       "                                                News  Category        Date  \\\n",
       "0  Chinese e-commerce giant Alibaba has set a tar...  business  2021-12-28   \n",
       "1  Six women sued Tesla on Tuesday, alleging a cu...  business  2021-12-28   \n",
       "2  Cash-strapped Pakistan contracted USD 15.32 bi...  business  2021-12-28   \n",
       "\n",
       "   __index_level_0__  CategoryId  \n",
       "0                  0           0  \n",
       "1                  1           0  \n",
       "2                  2           0  "
      ]
     },
     "execution_count": 38,
     "metadata": {},
     "output_type": "execute_result"
    }
   ],
   "source": [
    "dff.head(3)"
   ]
  },
  {
   "cell_type": "code",
   "execution_count": 39,
   "metadata": {},
   "outputs": [],
   "source": [
    "def special_char(text):\n",
    "  reviews = ''\n",
    "  for x in text:\n",
    "    if x.isalnum():\n",
    "      reviews = reviews + x\n",
    "    else:\n",
    "      reviews = reviews + ' '\n",
    "  return reviews\n",
    "df_news['Category'] = df_news['Category'].apply(special_char)"
   ]
  },
  {
   "cell_type": "code",
   "execution_count": 40,
   "metadata": {},
   "outputs": [
    {
     "data": {
      "text/html": [
       "<div>\n",
       "<style scoped>\n",
       "    .dataframe tbody tr th:only-of-type {\n",
       "        vertical-align: middle;\n",
       "    }\n",
       "\n",
       "    .dataframe tbody tr th {\n",
       "        vertical-align: top;\n",
       "    }\n",
       "\n",
       "    .dataframe thead th {\n",
       "        text-align: right;\n",
       "    }\n",
       "</style>\n",
       "<table border=\"1\" class=\"dataframe\">\n",
       "  <thead>\n",
       "    <tr style=\"text-align: right;\">\n",
       "      <th></th>\n",
       "      <th>Title</th>\n",
       "      <th>Link</th>\n",
       "      <th>Published</th>\n",
       "      <th>News</th>\n",
       "      <th>Category</th>\n",
       "      <th>Date</th>\n",
       "      <th>__index_level_0__</th>\n",
       "      <th>CategoryId</th>\n",
       "    </tr>\n",
       "  </thead>\n",
       "  <tbody>\n",
       "    <tr>\n",
       "      <th>0</th>\n",
       "      <td>China s Alibaba sets  100 billion target for S...</td>\n",
       "      <td>https://economictimes.indiatimes.com/news/inte...</td>\n",
       "      <td>Last Updated: Dec 17, 2021, 12:42 PM IST</td>\n",
       "      <td>Chinese e-commerce giant Alibaba has set a tar...</td>\n",
       "      <td>business</td>\n",
       "      <td>2021-12-28</td>\n",
       "      <td>0</td>\n",
       "      <td>0</td>\n",
       "    </tr>\n",
       "    <tr>\n",
       "      <th>1</th>\n",
       "      <td>Tesla hit by string of US sex harassment lawsuits</td>\n",
       "      <td>https://economictimes.indiatimes.com/news/inte...</td>\n",
       "      <td>Last Updated: Dec 15, 2021, 08:02 AM IST</td>\n",
       "      <td>Six women sued Tesla on Tuesday, alleging a cu...</td>\n",
       "      <td>business</td>\n",
       "      <td>2021-12-28</td>\n",
       "      <td>1</td>\n",
       "      <td>0</td>\n",
       "    </tr>\n",
       "    <tr>\n",
       "      <th>2</th>\n",
       "      <td>Pakistan acquires USD 15 3 billion loans in FY...</td>\n",
       "      <td>https://economictimes.indiatimes.com/news/inte...</td>\n",
       "      <td>Last Updated: Dec 14, 2021, 04:23 PM IST</td>\n",
       "      <td>Cash-strapped Pakistan contracted USD 15.32 bi...</td>\n",
       "      <td>business</td>\n",
       "      <td>2021-12-28</td>\n",
       "      <td>2</td>\n",
       "      <td>0</td>\n",
       "    </tr>\n",
       "    <tr>\n",
       "      <th>3</th>\n",
       "      <td>JP Morgan fined  200 mn after employees found ...</td>\n",
       "      <td>https://economictimes.indiatimes.com/news/inte...</td>\n",
       "      <td>Last Updated: Dec 18, 2021, 11:28 AM IST</td>\n",
       "      <td>U.S. regulators fined J.P. Morgan Securities $...</td>\n",
       "      <td>business</td>\n",
       "      <td>2021-12-28</td>\n",
       "      <td>3</td>\n",
       "      <td>0</td>\n",
       "    </tr>\n",
       "    <tr>\n",
       "      <th>4</th>\n",
       "      <td>CEO of battery startup awarded  staggering  El...</td>\n",
       "      <td>https://economictimes.indiatimes.com/news/inte...</td>\n",
       "      <td>Last Updated: Dec 17, 2021, 08:06 AM IST</td>\n",
       "      <td>Shareholders of QuantumScape Corp, the solid-s...</td>\n",
       "      <td>business</td>\n",
       "      <td>2021-12-28</td>\n",
       "      <td>4</td>\n",
       "      <td>0</td>\n",
       "    </tr>\n",
       "    <tr>\n",
       "      <th>...</th>\n",
       "      <td>...</td>\n",
       "      <td>...</td>\n",
       "      <td>...</td>\n",
       "      <td>...</td>\n",
       "      <td>...</td>\n",
       "      <td>...</td>\n",
       "      <td>...</td>\n",
       "      <td>...</td>\n",
       "    </tr>\n",
       "    <tr>\n",
       "      <th>25</th>\n",
       "      <td>Zomato and Fabindia face flak on social media</td>\n",
       "      <td>https://economictimes.indiatimes.com/tech/tech...</td>\n",
       "      <td>Last Updated: Oct 20, 2021, 06:00 AM IST</td>\n",
       "      <td>Food delivery app Zomato and ethnic apparel br...</td>\n",
       "      <td>social issues</td>\n",
       "      <td>2021-12-27</td>\n",
       "      <td>25</td>\n",
       "      <td>10</td>\n",
       "    </tr>\n",
       "    <tr>\n",
       "      <th>26</th>\n",
       "      <td>Optimism on philanthropy helps solve issues of...</td>\n",
       "      <td>https://economictimes.indiatimes.com/magazines...</td>\n",
       "      <td>Last Updated: Dec 24, 2021, 11:09 AM IST</td>\n",
       "      <td>GiveIndia poll shows 85% of respondents are bu...</td>\n",
       "      <td>social issues</td>\n",
       "      <td>2021-12-27</td>\n",
       "      <td>26</td>\n",
       "      <td>10</td>\n",
       "    </tr>\n",
       "    <tr>\n",
       "      <th>27</th>\n",
       "      <td>Aadhaar UAN linking deadline extended till Nov...</td>\n",
       "      <td>https://economictimes.indiatimes.com/wealth/in...</td>\n",
       "      <td>Last Updated: Nov 22, 2021, 01:45 PM IST</td>\n",
       "      <td>The Employees Provident Fund Organisation (EPF...</td>\n",
       "      <td>social issues</td>\n",
       "      <td>2021-12-27</td>\n",
       "      <td>27</td>\n",
       "      <td>10</td>\n",
       "    </tr>\n",
       "    <tr>\n",
       "      <th>28</th>\n",
       "      <td>Transparency on algorithms needs to be conscio...</td>\n",
       "      <td>https://economictimes.indiatimes.com/news/indi...</td>\n",
       "      <td>Last Updated: Nov 21, 2021, 01:10 PM IST</td>\n",
       "      <td>Taking transparent and consistent approach to ...</td>\n",
       "      <td>social issues</td>\n",
       "      <td>2021-12-27</td>\n",
       "      <td>28</td>\n",
       "      <td>10</td>\n",
       "    </tr>\n",
       "    <tr>\n",
       "      <th>29</th>\n",
       "      <td>Warrant issued to seize Alec Baldwin s iPhone ...</td>\n",
       "      <td>https://economictimes.indiatimes.com/magazines...</td>\n",
       "      <td>Last Updated: Dec 17, 2021, 08:55 AM IST</td>\n",
       "      <td>TAOS, N.M.: Police obtained a search warrant o...</td>\n",
       "      <td>social issues</td>\n",
       "      <td>2021-12-27</td>\n",
       "      <td>29</td>\n",
       "      <td>10</td>\n",
       "    </tr>\n",
       "  </tbody>\n",
       "</table>\n",
       "<p>14259 rows × 8 columns</p>\n",
       "</div>"
      ],
      "text/plain": [
       "                                                Title  \\\n",
       "0   China s Alibaba sets  100 billion target for S...   \n",
       "1   Tesla hit by string of US sex harassment lawsuits   \n",
       "2   Pakistan acquires USD 15 3 billion loans in FY...   \n",
       "3   JP Morgan fined  200 mn after employees found ...   \n",
       "4   CEO of battery startup awarded  staggering  El...   \n",
       "..                                                ...   \n",
       "25      Zomato and Fabindia face flak on social media   \n",
       "26  Optimism on philanthropy helps solve issues of...   \n",
       "27  Aadhaar UAN linking deadline extended till Nov...   \n",
       "28  Transparency on algorithms needs to be conscio...   \n",
       "29  Warrant issued to seize Alec Baldwin s iPhone ...   \n",
       "\n",
       "                                                 Link  \\\n",
       "0   https://economictimes.indiatimes.com/news/inte...   \n",
       "1   https://economictimes.indiatimes.com/news/inte...   \n",
       "2   https://economictimes.indiatimes.com/news/inte...   \n",
       "3   https://economictimes.indiatimes.com/news/inte...   \n",
       "4   https://economictimes.indiatimes.com/news/inte...   \n",
       "..                                                ...   \n",
       "25  https://economictimes.indiatimes.com/tech/tech...   \n",
       "26  https://economictimes.indiatimes.com/magazines...   \n",
       "27  https://economictimes.indiatimes.com/wealth/in...   \n",
       "28  https://economictimes.indiatimes.com/news/indi...   \n",
       "29  https://economictimes.indiatimes.com/magazines...   \n",
       "\n",
       "                                   Published  \\\n",
       "0   Last Updated: Dec 17, 2021, 12:42 PM IST   \n",
       "1   Last Updated: Dec 15, 2021, 08:02 AM IST   \n",
       "2   Last Updated: Dec 14, 2021, 04:23 PM IST   \n",
       "3   Last Updated: Dec 18, 2021, 11:28 AM IST   \n",
       "4   Last Updated: Dec 17, 2021, 08:06 AM IST   \n",
       "..                                       ...   \n",
       "25  Last Updated: Oct 20, 2021, 06:00 AM IST   \n",
       "26  Last Updated: Dec 24, 2021, 11:09 AM IST   \n",
       "27  Last Updated: Nov 22, 2021, 01:45 PM IST   \n",
       "28  Last Updated: Nov 21, 2021, 01:10 PM IST   \n",
       "29  Last Updated: Dec 17, 2021, 08:55 AM IST   \n",
       "\n",
       "                                                 News       Category  \\\n",
       "0   Chinese e-commerce giant Alibaba has set a tar...       business   \n",
       "1   Six women sued Tesla on Tuesday, alleging a cu...       business   \n",
       "2   Cash-strapped Pakistan contracted USD 15.32 bi...       business   \n",
       "3   U.S. regulators fined J.P. Morgan Securities $...       business   \n",
       "4   Shareholders of QuantumScape Corp, the solid-s...       business   \n",
       "..                                                ...            ...   \n",
       "25  Food delivery app Zomato and ethnic apparel br...  social issues   \n",
       "26  GiveIndia poll shows 85% of respondents are bu...  social issues   \n",
       "27  The Employees Provident Fund Organisation (EPF...  social issues   \n",
       "28  Taking transparent and consistent approach to ...  social issues   \n",
       "29  TAOS, N.M.: Police obtained a search warrant o...  social issues   \n",
       "\n",
       "          Date  __index_level_0__  CategoryId  \n",
       "0   2021-12-28                  0           0  \n",
       "1   2021-12-28                  1           0  \n",
       "2   2021-12-28                  2           0  \n",
       "3   2021-12-28                  3           0  \n",
       "4   2021-12-28                  4           0  \n",
       "..         ...                ...         ...  \n",
       "25  2021-12-27                 25          10  \n",
       "26  2021-12-27                 26          10  \n",
       "27  2021-12-27                 27          10  \n",
       "28  2021-12-27                 28          10  \n",
       "29  2021-12-27                 29          10  \n",
       "\n",
       "[14259 rows x 8 columns]"
      ]
     },
     "execution_count": 40,
     "metadata": {},
     "output_type": "execute_result"
    }
   ],
   "source": [
    "df_news"
   ]
  },
  {
   "cell_type": "code",
   "execution_count": 41,
   "metadata": {},
   "outputs": [
    {
     "ename": "SyntaxError",
     "evalue": "invalid syntax (766075205.py, line 3)",
     "output_type": "error",
     "traceback": [
      "\u001b[0;36m  File \u001b[0;32m\"/tmp/ipykernel_31048/766075205.py\"\u001b[0;36m, line \u001b[0;32m3\u001b[0m\n\u001b[0;31m    sports     4           2092\u001b[0m\n\u001b[0m               ^\u001b[0m\n\u001b[0;31mSyntaxError\u001b[0m\u001b[0;31m:\u001b[0m invalid syntax\n"
     ]
    }
   ],
   "source": [
    "stop = set(stopwords.words('english'))\n",
    "\n",
    "sports     4           2092\n",
    "local-stories  5        2086\n",
    "business   0           2016\n",
    "entertainment  1        2015\n",
    "international-news  2  2014\n",
    "\n",
    "sports\n",
    "local-stories\n",
    "business\n",
    "entertainmen\n",
    "international-news\n",
    "\n",
    "business = df_news[df_news['CategoryId'] == 0]\n",
    "business = business['Catrgory']\n",
    "\n",
    "international-news = dataset[dataset['CategoryId'] ==2]\n",
    "international-news = international-news['Text']\n",
    "\n",
    "#politics = dataset[dataset['CategoryId'] == 2]\n",
    "#politics = politics['Text']\n",
    "\n",
    "sport = df_news[dataset['CategoryId'] == 4]\n",
    "sport = sport['Text']\n",
    "\n",
    "entertainment = df_news[df_news['CategoryId'] == 1]\n",
    "entertainment = entertainment['Text']\n",
    "\n",
    "\n",
    "def wordcloud_draw(dataset, color = 'white'):\n",
    "  words = ' '.join(dataset)\n",
    "  cleaned_word = ' '.join([word for word in words.split()\n",
    "                           if (word != 'news' and word != 'text')])\n",
    "  wordcloud = WordCloud(stopwords = stop,\n",
    "                        background_color = color,\n",
    "                        width = 2500, height = 2500).generate(cleaned_word)\n",
    "\n",
    "  plt.figure(1, figsize = (10,7))\n",
    "  plt.imshow(wordcloud)\n",
    "  plt.axis(\"off\")\n",
    "  plt.show()\n",
    "\n",
    "print(\"business related words:\")\n",
    "wordcloud_draw(business, 'white')\n",
    "\n",
    "print(\"tech related words:\")\n",
    "wordcloud_draw(tech, 'white')\n",
    "\n",
    "print(\"politics related words:\")\n",
    "wordcloud_draw(politics, 'white')\n",
    "\n",
    "print(\"sport related words:\")\n",
    "wordcloud_draw(sport, 'white')\n",
    "\n",
    "print(\"entertainment related words:\")\n",
    "wordcloud_draw(entertainment, 'white')"
   ]
  },
  {
   "cell_type": "code",
   "execution_count": 42,
   "metadata": {},
   "outputs": [
    {
     "data": {
      "text/plain": [
       "0     China s Alibaba sets  100 billion target for S...\n",
       "1     Tesla hit by string of US sex harassment lawsuits\n",
       "2     Pakistan acquires USD 15 3 billion loans in FY...\n",
       "3     JP Morgan fined  200 mn after employees found ...\n",
       "4     CEO of battery startup awarded  staggering  El...\n",
       "                            ...                        \n",
       "95    China suspends energy projects in Sri Lankan i...\n",
       "96    EU adds more pieces to its  elusive  capital m...\n",
       "97    Economists wargame how Omicron will impact glo...\n",
       "98    COVID 19 threatens to knock away Germany s las...\n",
       "99    Afghan economy nears collapse as pressure buil...\n",
       "Name: Title, Length: 100, dtype: object"
      ]
     },
     "execution_count": 42,
     "metadata": {},
     "output_type": "execute_result"
    }
   ],
   "source": [
    "text = df_news[\"Title\"]\n",
    "text.head(100)"
   ]
  },
  {
   "cell_type": "code",
   "execution_count": 39,
   "metadata": {},
   "outputs": [
    {
     "data": {
      "text/plain": [
       "array(['social issues', 'marketing', 'local stories', 'politics',\n",
       "       'information technology', 'sports', 'arts', 'science', 'business',\n",
       "       'entertainment', 'international news'], dtype=object)"
      ]
     },
     "execution_count": 39,
     "metadata": {},
     "output_type": "execute_result"
    }
   ],
   "source": [
    "category = df_news['Category']\n",
    "category.unique()"
   ]
  },
  {
   "cell_type": "markdown",
   "metadata": {},
   "source": [
    "# Remove all Tags"
   ]
  },
  {
   "cell_type": "code",
   "execution_count": 43,
   "metadata": {},
   "outputs": [
    {
     "data": {
      "text/plain": [
       "1    Tesla hit by string of US sex harassment lawsuits\n",
       "1    NASA s class of 10 astronauts include cyclists...\n",
       "1    Thriving during the lockdown  Game plan of sma...\n",
       "1    Indian Youth wants more participation for itse...\n",
       "Name: Title, dtype: object"
      ]
     },
     "execution_count": 43,
     "metadata": {},
     "output_type": "execute_result"
    }
   ],
   "source": [
    "def remove_tags(text):\n",
    "  remove = re.compile(r'<.*?>')\n",
    "  return re.sub(remove, '', text)\n",
    "\n",
    "df_news['Title'] = df_news['Title'].apply(remove_tags)\n",
    "df_news['Title'][1]"
   ]
  },
  {
   "cell_type": "markdown",
   "metadata": {},
   "source": [
    "# remove special characters\n"
   ]
  },
  {
   "cell_type": "code",
   "execution_count": 44,
   "metadata": {},
   "outputs": [
    {
     "data": {
      "text/plain": [
       "1    Tesla hit by string of US sex harassment lawsuits\n",
       "1    NASA s class of 10 astronauts include cyclists...\n",
       "1    Thriving during the lockdown  Game plan of sma...\n",
       "1    Indian Youth wants more participation for itse...\n",
       "Name: Title, dtype: object"
      ]
     },
     "execution_count": 44,
     "metadata": {},
     "output_type": "execute_result"
    }
   ],
   "source": [
    "def special_char(text):\n",
    "  reviews = ''\n",
    "  for x in text:\n",
    "    if x.isalnum():\n",
    "      reviews = reviews + x\n",
    "    else:\n",
    "      reviews = reviews + ' '\n",
    "  return reviews\n",
    "df_news['Title'] = df_news['Title'].apply(special_char)\n",
    "df_news['Title'][1]"
   ]
  },
  {
   "cell_type": "markdown",
   "metadata": {},
   "source": [
    "# convert everything in lower case"
   ]
  },
  {
   "cell_type": "code",
   "execution_count": 45,
   "metadata": {},
   "outputs": [
    {
     "data": {
      "text/plain": [
       "1    tesla hit by string of us sex harassment lawsuits\n",
       "1    nasa s class of 10 astronauts include cyclists...\n",
       "1    thriving during the lockdown  game plan of sma...\n",
       "1    indian youth wants more participation for itse...\n",
       "Name: Title, dtype: object"
      ]
     },
     "execution_count": 45,
     "metadata": {},
     "output_type": "execute_result"
    }
   ],
   "source": [
    "def convert_lower(text):\n",
    "   return text.lower()\n",
    "\n",
    "df_news['Title'] = df_news['Title'].apply(convert_lower)\n",
    "df_news['Title'][1]"
   ]
  },
  {
   "cell_type": "markdown",
   "metadata": {},
   "source": [
    "# remove all stopwords"
   ]
  },
  {
   "cell_type": "code",
   "execution_count": 46,
   "metadata": {},
   "outputs": [
    {
     "name": "stderr",
     "output_type": "stream",
     "text": [
      "[nltk_data] Downloading package omw-1.4 to /home/jupyter/nltk_data...\n",
      "[nltk_data]   Unzipping corpora/omw-1.4.zip.\n"
     ]
    },
    {
     "data": {
      "text/plain": [
       "True"
      ]
     },
     "execution_count": 46,
     "metadata": {},
     "output_type": "execute_result"
    }
   ],
   "source": [
    "import nltk\n",
    "nltk.download('omw-1.4')"
   ]
  },
  {
   "cell_type": "code",
   "execution_count": 47,
   "metadata": {},
   "outputs": [
    {
     "data": {
      "text/plain": [
       "1    [tesla, hit, string, us, sex, harassment, laws...\n",
       "1    [nasa, class, 10, astronauts, include, cyclist...\n",
       "1    [thriving, lockdown, game, plan, small, indian...\n",
       "1    [indian, youth, wants, participation, action, ...\n",
       "Name: Title, dtype: object"
      ]
     },
     "execution_count": 47,
     "metadata": {},
     "output_type": "execute_result"
    }
   ],
   "source": [
    "def remove_stopwords(text):\n",
    "  stop_words = set(stopwords.words('english'))\n",
    "  words = word_tokenize(text)\n",
    "  return [x for x in words if x not in stop_words]\n",
    "\n",
    "df_news['Title'] = df_news['Title'].apply(remove_stopwords)\n",
    "df_news['Title'][1]"
   ]
  },
  {
   "cell_type": "markdown",
   "metadata": {},
   "source": [
    "# lemmatizing or stemming the words"
   ]
  },
  {
   "cell_type": "code",
   "execution_count": 48,
   "metadata": {},
   "outputs": [
    {
     "data": {
      "text/plain": [
       "1            tesla hit string u sex harassment lawsuit\n",
       "1    nasa class 10 astronaut include cyclist physic...\n",
       "1       thriving lockdown game plan small indian brand\n",
       "1    indian youth want participation action climate...\n",
       "Name: Title, dtype: object"
      ]
     },
     "execution_count": 48,
     "metadata": {},
     "output_type": "execute_result"
    }
   ],
   "source": [
    "def lemmatize_word(text):\n",
    "  wordnet = WordNetLemmatizer()\n",
    "  return \" \".join([wordnet.lemmatize(word) for word in text])\n",
    "\n",
    "df_news['Title'] = df_news['Title'].apply(lemmatize_word)\n",
    "df_news['Title'][1]"
   ]
  },
  {
   "cell_type": "markdown",
   "metadata": {},
   "source": [
    "# after text_preprocessing print datase"
   ]
  },
  {
   "cell_type": "code",
   "execution_count": 49,
   "metadata": {},
   "outputs": [
    {
     "data": {
      "text/html": [
       "<div>\n",
       "<style scoped>\n",
       "    .dataframe tbody tr th:only-of-type {\n",
       "        vertical-align: middle;\n",
       "    }\n",
       "\n",
       "    .dataframe tbody tr th {\n",
       "        vertical-align: top;\n",
       "    }\n",
       "\n",
       "    .dataframe thead th {\n",
       "        text-align: right;\n",
       "    }\n",
       "</style>\n",
       "<table border=\"1\" class=\"dataframe\">\n",
       "  <thead>\n",
       "    <tr style=\"text-align: right;\">\n",
       "      <th></th>\n",
       "      <th>Title</th>\n",
       "      <th>Link</th>\n",
       "      <th>Published</th>\n",
       "      <th>News</th>\n",
       "      <th>Category</th>\n",
       "      <th>Date</th>\n",
       "      <th>__index_level_0__</th>\n",
       "      <th>CategoryId</th>\n",
       "    </tr>\n",
       "  </thead>\n",
       "  <tbody>\n",
       "    <tr>\n",
       "      <th>0</th>\n",
       "      <td>china alibaba set 100 billion target southeast...</td>\n",
       "      <td>https://economictimes.indiatimes.com/news/inte...</td>\n",
       "      <td>Last Updated: Dec 17, 2021, 12:42 PM IST</td>\n",
       "      <td>Chinese e-commerce giant Alibaba has set a tar...</td>\n",
       "      <td>business</td>\n",
       "      <td>2021-12-28</td>\n",
       "      <td>0</td>\n",
       "      <td>0</td>\n",
       "    </tr>\n",
       "    <tr>\n",
       "      <th>1</th>\n",
       "      <td>tesla hit string u sex harassment lawsuit</td>\n",
       "      <td>https://economictimes.indiatimes.com/news/inte...</td>\n",
       "      <td>Last Updated: Dec 15, 2021, 08:02 AM IST</td>\n",
       "      <td>Six women sued Tesla on Tuesday, alleging a cu...</td>\n",
       "      <td>business</td>\n",
       "      <td>2021-12-28</td>\n",
       "      <td>1</td>\n",
       "      <td>0</td>\n",
       "    </tr>\n",
       "    <tr>\n",
       "      <th>2</th>\n",
       "      <td>pakistan acquires usd 15 3 billion loan fy21 r...</td>\n",
       "      <td>https://economictimes.indiatimes.com/news/inte...</td>\n",
       "      <td>Last Updated: Dec 14, 2021, 04:23 PM IST</td>\n",
       "      <td>Cash-strapped Pakistan contracted USD 15.32 bi...</td>\n",
       "      <td>business</td>\n",
       "      <td>2021-12-28</td>\n",
       "      <td>2</td>\n",
       "      <td>0</td>\n",
       "    </tr>\n",
       "    <tr>\n",
       "      <th>3</th>\n",
       "      <td>jp morgan fined 200 mn employee found using pe...</td>\n",
       "      <td>https://economictimes.indiatimes.com/news/inte...</td>\n",
       "      <td>Last Updated: Dec 18, 2021, 11:28 AM IST</td>\n",
       "      <td>U.S. regulators fined J.P. Morgan Securities $...</td>\n",
       "      <td>business</td>\n",
       "      <td>2021-12-28</td>\n",
       "      <td>3</td>\n",
       "      <td>0</td>\n",
       "    </tr>\n",
       "    <tr>\n",
       "      <th>4</th>\n",
       "      <td>ceo battery startup awarded staggering elon mu...</td>\n",
       "      <td>https://economictimes.indiatimes.com/news/inte...</td>\n",
       "      <td>Last Updated: Dec 17, 2021, 08:06 AM IST</td>\n",
       "      <td>Shareholders of QuantumScape Corp, the solid-s...</td>\n",
       "      <td>business</td>\n",
       "      <td>2021-12-28</td>\n",
       "      <td>4</td>\n",
       "      <td>0</td>\n",
       "    </tr>\n",
       "    <tr>\n",
       "      <th>...</th>\n",
       "      <td>...</td>\n",
       "      <td>...</td>\n",
       "      <td>...</td>\n",
       "      <td>...</td>\n",
       "      <td>...</td>\n",
       "      <td>...</td>\n",
       "      <td>...</td>\n",
       "      <td>...</td>\n",
       "    </tr>\n",
       "    <tr>\n",
       "      <th>25</th>\n",
       "      <td>zomato fabindia face flak social medium</td>\n",
       "      <td>https://economictimes.indiatimes.com/tech/tech...</td>\n",
       "      <td>Last Updated: Oct 20, 2021, 06:00 AM IST</td>\n",
       "      <td>Food delivery app Zomato and ethnic apparel br...</td>\n",
       "      <td>social issues</td>\n",
       "      <td>2021-12-27</td>\n",
       "      <td>25</td>\n",
       "      <td>10</td>\n",
       "    </tr>\n",
       "    <tr>\n",
       "      <th>26</th>\n",
       "      <td>optimism philanthropy help solve issue health ...</td>\n",
       "      <td>https://economictimes.indiatimes.com/magazines...</td>\n",
       "      <td>Last Updated: Dec 24, 2021, 11:09 AM IST</td>\n",
       "      <td>GiveIndia poll shows 85% of respondents are bu...</td>\n",
       "      <td>social issues</td>\n",
       "      <td>2021-12-27</td>\n",
       "      <td>26</td>\n",
       "      <td>10</td>\n",
       "    </tr>\n",
       "    <tr>\n",
       "      <th>27</th>\n",
       "      <td>aadhaar uan linking deadline extended till nov...</td>\n",
       "      <td>https://economictimes.indiatimes.com/wealth/in...</td>\n",
       "      <td>Last Updated: Nov 22, 2021, 01:45 PM IST</td>\n",
       "      <td>The Employees Provident Fund Organisation (EPF...</td>\n",
       "      <td>social issues</td>\n",
       "      <td>2021-12-27</td>\n",
       "      <td>27</td>\n",
       "      <td>10</td>\n",
       "    </tr>\n",
       "    <tr>\n",
       "      <th>28</th>\n",
       "      <td>transparency algorithm need conscious step soc...</td>\n",
       "      <td>https://economictimes.indiatimes.com/news/indi...</td>\n",
       "      <td>Last Updated: Nov 21, 2021, 01:10 PM IST</td>\n",
       "      <td>Taking transparent and consistent approach to ...</td>\n",
       "      <td>social issues</td>\n",
       "      <td>2021-12-27</td>\n",
       "      <td>28</td>\n",
       "      <td>10</td>\n",
       "    </tr>\n",
       "    <tr>\n",
       "      <th>29</th>\n",
       "      <td>warrant issued seize alec baldwin iphone rust ...</td>\n",
       "      <td>https://economictimes.indiatimes.com/magazines...</td>\n",
       "      <td>Last Updated: Dec 17, 2021, 08:55 AM IST</td>\n",
       "      <td>TAOS, N.M.: Police obtained a search warrant o...</td>\n",
       "      <td>social issues</td>\n",
       "      <td>2021-12-27</td>\n",
       "      <td>29</td>\n",
       "      <td>10</td>\n",
       "    </tr>\n",
       "  </tbody>\n",
       "</table>\n",
       "<p>14259 rows × 8 columns</p>\n",
       "</div>"
      ],
      "text/plain": [
       "                                                Title  \\\n",
       "0   china alibaba set 100 billion target southeast...   \n",
       "1           tesla hit string u sex harassment lawsuit   \n",
       "2   pakistan acquires usd 15 3 billion loan fy21 r...   \n",
       "3   jp morgan fined 200 mn employee found using pe...   \n",
       "4   ceo battery startup awarded staggering elon mu...   \n",
       "..                                                ...   \n",
       "25            zomato fabindia face flak social medium   \n",
       "26  optimism philanthropy help solve issue health ...   \n",
       "27  aadhaar uan linking deadline extended till nov...   \n",
       "28  transparency algorithm need conscious step soc...   \n",
       "29  warrant issued seize alec baldwin iphone rust ...   \n",
       "\n",
       "                                                 Link  \\\n",
       "0   https://economictimes.indiatimes.com/news/inte...   \n",
       "1   https://economictimes.indiatimes.com/news/inte...   \n",
       "2   https://economictimes.indiatimes.com/news/inte...   \n",
       "3   https://economictimes.indiatimes.com/news/inte...   \n",
       "4   https://economictimes.indiatimes.com/news/inte...   \n",
       "..                                                ...   \n",
       "25  https://economictimes.indiatimes.com/tech/tech...   \n",
       "26  https://economictimes.indiatimes.com/magazines...   \n",
       "27  https://economictimes.indiatimes.com/wealth/in...   \n",
       "28  https://economictimes.indiatimes.com/news/indi...   \n",
       "29  https://economictimes.indiatimes.com/magazines...   \n",
       "\n",
       "                                   Published  \\\n",
       "0   Last Updated: Dec 17, 2021, 12:42 PM IST   \n",
       "1   Last Updated: Dec 15, 2021, 08:02 AM IST   \n",
       "2   Last Updated: Dec 14, 2021, 04:23 PM IST   \n",
       "3   Last Updated: Dec 18, 2021, 11:28 AM IST   \n",
       "4   Last Updated: Dec 17, 2021, 08:06 AM IST   \n",
       "..                                       ...   \n",
       "25  Last Updated: Oct 20, 2021, 06:00 AM IST   \n",
       "26  Last Updated: Dec 24, 2021, 11:09 AM IST   \n",
       "27  Last Updated: Nov 22, 2021, 01:45 PM IST   \n",
       "28  Last Updated: Nov 21, 2021, 01:10 PM IST   \n",
       "29  Last Updated: Dec 17, 2021, 08:55 AM IST   \n",
       "\n",
       "                                                 News       Category  \\\n",
       "0   Chinese e-commerce giant Alibaba has set a tar...       business   \n",
       "1   Six women sued Tesla on Tuesday, alleging a cu...       business   \n",
       "2   Cash-strapped Pakistan contracted USD 15.32 bi...       business   \n",
       "3   U.S. regulators fined J.P. Morgan Securities $...       business   \n",
       "4   Shareholders of QuantumScape Corp, the solid-s...       business   \n",
       "..                                                ...            ...   \n",
       "25  Food delivery app Zomato and ethnic apparel br...  social issues   \n",
       "26  GiveIndia poll shows 85% of respondents are bu...  social issues   \n",
       "27  The Employees Provident Fund Organisation (EPF...  social issues   \n",
       "28  Taking transparent and consistent approach to ...  social issues   \n",
       "29  TAOS, N.M.: Police obtained a search warrant o...  social issues   \n",
       "\n",
       "          Date  __index_level_0__  CategoryId  \n",
       "0   2021-12-28                  0           0  \n",
       "1   2021-12-28                  1           0  \n",
       "2   2021-12-28                  2           0  \n",
       "3   2021-12-28                  3           0  \n",
       "4   2021-12-28                  4           0  \n",
       "..         ...                ...         ...  \n",
       "25  2021-12-27                 25          10  \n",
       "26  2021-12-27                 26          10  \n",
       "27  2021-12-27                 27          10  \n",
       "28  2021-12-27                 28          10  \n",
       "29  2021-12-27                 29          10  \n",
       "\n",
       "[14259 rows x 8 columns]"
      ]
     },
     "execution_count": 49,
     "metadata": {},
     "output_type": "execute_result"
    }
   ],
   "source": [
    "df_news"
   ]
  },
  {
   "cell_type": "code",
   "execution_count": 69,
   "metadata": {},
   "outputs": [
    {
     "data": {
      "text/plain": [
       "sports                    2092\n",
       "local stories             2086\n",
       "business                  2016\n",
       "entertainment             2015\n",
       "international news        2014\n",
       "science                   1999\n",
       "politics                  1684\n",
       "marketing                  169\n",
       "information technology     100\n",
       "arts                        54\n",
       "social issues               30\n",
       "Name: Category, dtype: int64"
      ]
     },
     "execution_count": 69,
     "metadata": {},
     "output_type": "execute_result"
    }
   ],
   "source": [
    "df_news['Category'].value_counts()"
   ]
  },
  {
   "cell_type": "code",
   "execution_count": 70,
   "metadata": {},
   "outputs": [
    {
     "data": {
      "text/plain": [
       "4     2092\n",
       "5     2086\n",
       "0     2016\n",
       "1     2015\n",
       "2     2014\n",
       "3     1999\n",
       "6     1684\n",
       "7      169\n",
       "8      100\n",
       "9       54\n",
       "10      30\n",
       "Name: CategoryId, dtype: int64"
      ]
     },
     "execution_count": 70,
     "metadata": {},
     "output_type": "execute_result"
    }
   ],
   "source": [
    "df_news['CategoryId'].value_counts()"
   ]
  },
  {
   "cell_type": "markdown",
   "metadata": {},
   "source": [
    "# declared dependent and independent value\n"
   ]
  },
  {
   "cell_type": "code",
   "execution_count": 50,
   "metadata": {},
   "outputs": [],
   "source": [
    "x = df_news['Title']\n",
    "y = df_news['Category']"
   ]
  },
  {
   "cell_type": "markdown",
   "metadata": {},
   "source": [
    "# create and fit bag of words model\n"
   ]
  },
  {
   "cell_type": "code",
   "execution_count": 71,
   "metadata": {},
   "outputs": [
    {
     "name": "stdout",
     "output_type": "stream",
     "text": [
      "X.shape =  (14259, 5000)\n",
      "y.shape =  (14259,)\n"
     ]
    }
   ],
   "source": [
    "from sklearn.feature_extraction.text import CountVectorizer\n",
    "\n",
    "x = np.array(df_news.iloc[:,0].values)\n",
    "y = np.array(df_news.CategoryId.values)\n",
    "\n",
    "cv = CountVectorizer(max_features = 5000)\n",
    "x = cv.fit_transform(df_news.Title).toarray()\n",
    "\n",
    "print(\"X.shape = \",x.shape)\n",
    "print(\"y.shape = \",y.shape)\n"
   ]
  },
  {
   "cell_type": "code",
   "execution_count": 52,
   "metadata": {},
   "outputs": [
    {
     "name": "stdout",
     "output_type": "stream",
     "text": [
      "[[0 0 0 ... 0 0 0]\n",
      " [0 0 0 ... 0 0 0]\n",
      " [0 0 0 ... 0 0 0]\n",
      " ...\n",
      " [0 0 0 ... 0 0 0]\n",
      " [0 0 0 ... 0 0 0]\n",
      " [0 0 0 ... 0 0 0]]\n"
     ]
    }
   ],
   "source": [
    "print(x)"
   ]
  },
  {
   "cell_type": "code",
   "execution_count": 72,
   "metadata": {},
   "outputs": [
    {
     "name": "stdout",
     "output_type": "stream",
     "text": [
      "[ 0  0  0 ... 10 10 10]\n"
     ]
    }
   ],
   "source": [
    "print(y)"
   ]
  },
  {
   "cell_type": "markdown",
   "metadata": {},
   "source": [
    "# train test and split the dataset into training and test set\n"
   ]
  },
  {
   "cell_type": "code",
   "execution_count": 53,
   "metadata": {},
   "outputs": [
    {
     "name": "stdout",
     "output_type": "stream",
     "text": [
      "9981\n",
      "4278\n"
     ]
    }
   ],
   "source": [
    "from sklearn.model_selection import train_test_split\n",
    "x_train, x_test, y_train, y_test = train_test_split(x, y, test_size = 0.3, random_state = 0, shuffle = True)\n",
    "\n",
    "\n",
    "print(len(x_train))\n",
    "print(len(x_test))"
   ]
  },
  {
   "cell_type": "code",
   "execution_count": 54,
   "metadata": {},
   "outputs": [
    {
     "name": "stdout",
     "output_type": "stream",
     "text": [
      "[[0 0 0 ... 0 0 0]\n",
      " [0 0 0 ... 0 0 0]\n",
      " [0 0 0 ... 0 0 0]\n",
      " ...\n",
      " [0 0 0 ... 0 0 0]\n",
      " [0 0 0 ... 0 0 0]\n",
      " [0 0 0 ... 0 0 0]]\n"
     ]
    }
   ],
   "source": [
    "print(x_train)"
   ]
  },
  {
   "cell_type": "markdown",
   "metadata": {},
   "source": [
    "# Data Preprocessing\n"
   ]
  },
  {
   "cell_type": "code",
   "execution_count": 55,
   "metadata": {},
   "outputs": [],
   "source": [
    "# create empty list\n",
    "#create list of model and accuracy dicts\n",
    "perform_list = []"
   ]
  },
  {
   "cell_type": "markdown",
   "metadata": {},
   "source": [
    "# create, fit and predict all Machine learning model\n"
   ]
  },
  {
   "cell_type": "code",
   "execution_count": 56,
   "metadata": {},
   "outputs": [],
   "source": [
    "def run_model(model_name, est_c, est_pnlty):\n",
    "    mdl=''\n",
    "    if model_name == 'Logistic Regression':\n",
    "        mdl = LogisticRegression()\n",
    "    elif model_name == 'Random Forest':\n",
    "        mdl = RandomForestClassifier(n_estimators=100 ,criterion='entropy' , random_state=0)\n",
    "    elif model_name == 'Multinomial Naive Bayes':\n",
    "        mdl = MultinomialNB(alpha=1.0,fit_prior=True)\n",
    "    elif model_name == 'Support Vector Classifer':\n",
    "        mdl = SVC()\n",
    "    elif model_name == 'Decision Tree Classifier':\n",
    "        mdl = DecisionTreeClassifier()\n",
    "    elif model_name == 'K Nearest Neighbour':\n",
    "        mdl = KNeighborsClassifier(n_neighbors=10 , metric= 'minkowski' , p = 4)\n",
    "    elif model_name == 'Gaussian Naive Bayes':\n",
    "        mdl = GaussianNB()\n",
    "   \n",
    "\n",
    "\n",
    "    oneVsRest = OneVsRestClassifier(mdl)\n",
    "    oneVsRest.fit(x_train, y_train)\n",
    "    y_pred = oneVsRest.predict(x_test)\n",
    "    \n",
    "    \n",
    "    # Performance metrics\n",
    "    accuracy = round(accuracy_score(y_test, y_pred) * 100, 2)\n",
    "    # Get precision, recall, f1 scores\n",
    "    precision, recall, f1score, support = score(y_test, y_pred, average='micro')\n",
    "\n",
    "    print(f'Test Accuracy Score of Basic {model_name}: % {accuracy}')\n",
    "    print(f'Precision : {precision}')\n",
    "    print(f'Recall    : {recall}')\n",
    "    print(f'F1-score   : {f1score}')\n",
    "\n",
    "    # Add performance parameters to list\n",
    "    perform_list.append(dict([\n",
    "        ('Model', model_name),\n",
    "        ('Test Accuracy', round(accuracy, 2)),\n",
    "        ('Precision', round(precision, 2)),\n",
    "        ('Recall', round(recall, 2)),\n",
    "        ('F1', round(f1score, 2))\n",
    "         ]))"
   ]
  },
  {
   "cell_type": "markdown",
   "metadata": {},
   "source": [
    "# Logistic Regression\n"
   ]
  },
  {
   "cell_type": "code",
   "execution_count": 57,
   "metadata": {},
   "outputs": [],
   "source": [
    "from sklearn.feature_extraction.text import CountVectorizer\n",
    "from sklearn.feature_extraction.text import TfidfVectorizer\n",
    "\n",
    "from sklearn.model_selection import train_test_split\n",
    "from sklearn.metrics import accuracy_score\n",
    "from sklearn.metrics import confusion_matrix\n",
    "from sklearn.metrics import classification_report\n",
    "from sklearn.metrics import make_scorer, roc_curve, roc_auc_score\n",
    "from sklearn.metrics import precision_recall_fscore_support as score\n",
    "from sklearn.metrics.pairwise import cosine_similarity\n",
    "\n",
    "from sklearn.multiclass import OneVsRestClassifier\n",
    "from sklearn.linear_model import LogisticRegression\n",
    "from sklearn.svm import SVC, LinearSVC\n",
    "from sklearn.tree import DecisionTreeClassifier\n",
    "from sklearn.ensemble import RandomForestClassifier\n",
    "from sklearn.neighbors import KNeighborsClassifier\n",
    "from sklearn.naive_bayes import GaussianNB,MultinomialNB,BernoulliNB"
   ]
  },
  {
   "cell_type": "code",
   "execution_count": 58,
   "metadata": {},
   "outputs": [
    {
     "name": "stdout",
     "output_type": "stream",
     "text": [
      "Test Accuracy Score of Basic Logistic Regression: % 80.95\n",
      "Precision : 0.8094904160822814\n",
      "Recall    : 0.8094904160822814\n",
      "F1-score   : 0.8094904160822816\n"
     ]
    }
   ],
   "source": [
    "run_model('Logistic Regression', est_c=None, est_pnlty=None)"
   ]
  },
  {
   "cell_type": "markdown",
   "metadata": {},
   "source": [
    "# Random Forest"
   ]
  },
  {
   "cell_type": "code",
   "execution_count": 59,
   "metadata": {},
   "outputs": [
    {
     "name": "stdout",
     "output_type": "stream",
     "text": [
      "Test Accuracy Score of Basic Random Forest: % 80.2\n",
      "Precision : 0.8020102851799906\n",
      "Recall    : 0.8020102851799906\n",
      "F1-score   : 0.8020102851799906\n"
     ]
    }
   ],
   "source": [
    "run_model('Random Forest', est_c=None, est_pnlty=None)"
   ]
  },
  {
   "cell_type": "code",
   "execution_count": 64,
   "metadata": {},
   "outputs": [],
   "source": [
    "model = MultinomialNB()\n",
    "model.fit(x_train, y_train)\n",
    "file=open(\"newsmodel.pkl\",'wb')\n",
    "pickle.dump(model,file)"
   ]
  },
  {
   "cell_type": "markdown",
   "metadata": {},
   "source": [
    "# Multinomial Naive Bayes"
   ]
  },
  {
   "cell_type": "code",
   "execution_count": 60,
   "metadata": {},
   "outputs": [
    {
     "name": "stdout",
     "output_type": "stream",
     "text": [
      "Test Accuracy Score of Basic Multinomial Naive Bayes: % 81.98\n",
      "Precision : 0.8197755960729313\n",
      "Recall    : 0.8197755960729313\n",
      "F1-score   : 0.8197755960729313\n"
     ]
    }
   ],
   "source": [
    "run_model('Multinomial Naive Bayes', est_c=None, est_pnlty=None)"
   ]
  },
  {
   "cell_type": "markdown",
   "metadata": {},
   "source": [
    "# Support vector machine"
   ]
  },
  {
   "cell_type": "code",
   "execution_count": 61,
   "metadata": {},
   "outputs": [
    {
     "name": "stdout",
     "output_type": "stream",
     "text": [
      "Test Accuracy Score of Basic Support Vector Classifer: % 81.18\n",
      "Precision : 0.8118279569892473\n",
      "Recall    : 0.8118279569892473\n",
      "F1-score   : 0.8118279569892473\n"
     ]
    }
   ],
   "source": [
    "run_model('Support Vector Classifer', est_c=None, est_pnlty=None)"
   ]
  },
  {
   "cell_type": "markdown",
   "metadata": {},
   "source": [
    "# Decision Tree"
   ]
  },
  {
   "cell_type": "code",
   "execution_count": null,
   "metadata": {},
   "outputs": [],
   "source": [
    "run_model('Decision Tree Classifier', est_c=None, est_pnlty=None)"
   ]
  },
  {
   "cell_type": "markdown",
   "metadata": {},
   "source": [
    "# KNN"
   ]
  },
  {
   "cell_type": "code",
   "execution_count": null,
   "metadata": {},
   "outputs": [],
   "source": [
    "run_model('K Nearest Neighbour', est_c=None, est_pnlty=None)"
   ]
  },
  {
   "cell_type": "markdown",
   "metadata": {},
   "source": [
    "# Gaussian Naive Bayes"
   ]
  },
  {
   "cell_type": "code",
   "execution_count": null,
   "metadata": {},
   "outputs": [],
   "source": [
    "run_model('Gaussian Naive Bayes', est_c=None, est_pnlty=None)"
   ]
  },
  {
   "cell_type": "markdown",
   "metadata": {},
   "source": [
    "# create dataframe of model, accuracy, precision,recall and f1\n"
   ]
  },
  {
   "cell_type": "code",
   "execution_count": null,
   "metadata": {},
   "outputs": [],
   "source": [
    "model_performance = pd.DataFrame(data=perform_list)\n",
    "model_performance = model_performance[['Model', 'Test Accuracy', 'Precision', 'Recall', 'F1']]\n",
    "model_performance"
   ]
  },
  {
   "cell_type": "markdown",
   "metadata": {},
   "source": [
    "# best model to perform accuracy score"
   ]
  },
  {
   "cell_type": "code",
   "execution_count": null,
   "metadata": {},
   "outputs": [],
   "source": [
    "model = model_performance[\"Model\"]\n",
    "max_value = model_performance[\"Test Accuracy\"].max()\n",
    "print(\"The best accuracy of model is\", max_value,\"from Logistic Regression\")"
   ]
  },
  {
   "cell_type": "code",
   "execution_count": null,
   "metadata": {},
   "outputs": [],
   "source": [
    "# @ Individual train, fit and predict the model\n",
    "\n",
    "# regression Model\n",
    "\n",
    "model = LogisticRegression()\n",
    "model.fit(x_train, y_train)\n",
    "\n",
    "y_pred = model.predict(x_test)\n",
    "score = accuracy_score(y_test, y_pred)\n",
    "print(\"accuracy of our model is:\",score)\n",
    "print(classification_report(y_pred, y_test, target_names=target_category))"
   ]
  },
  {
   "cell_type": "markdown",
   "metadata": {},
   "source": [
    "# Naive Bayes Model"
   ]
  },
  {
   "cell_type": "code",
   "execution_count": null,
   "metadata": {},
   "outputs": [],
   "source": [
    "gnb,mnb,bnb = GaussianNB(),MultinomialNB(alpha=1.0,fit_prior=True),BernoulliNB(alpha=1.0,fit_prior=True)\n",
    "gnb.fit(x_train,y_train)\n",
    "mnb.fit(x_train,y_train)\n",
    "bnb.fit(x_train,y_train)"
   ]
  },
  {
   "cell_type": "code",
   "execution_count": null,
   "metadata": {},
   "outputs": [],
   "source": [
    "ypg = gnb.predict(x_test)\n",
    "ypm = mnb.predict(x_test)\n",
    "ypb = bnb.predict(x_test)\n",
    "\n",
    "print(\"Gaussian = \",accuracy_score(y_test,ypg))\n",
    "print(\"Multinomial = \",accuracy_score(y_test,ypm))\n",
    "print(\"Bernoulli = \",accuracy_score(y_test,ypb))\n",
    "\n",
    "print(classification_report(ypm, y_test, target_names=target_category))"
   ]
  },
  {
   "cell_type": "markdown",
   "metadata": {},
   "source": [
    "# Support vector Model\n"
   ]
  },
  {
   "cell_type": "code",
   "execution_count": null,
   "metadata": {},
   "outputs": [],
   "source": [
    "svc = SVC()\n",
    "svc.fit(x_train,y_train)\n",
    "y_pred1 = svc.predict(x_test)\n",
    "print(accuracy_score(y_test,y_pred1))\n",
    "print(classification_report(y_pred1, y_test, target_names=target_category))"
   ]
  },
  {
   "cell_type": "code",
   "execution_count": 91,
   "metadata": {},
   "outputs": [],
   "source": [
    "# mapping for prediction"
   ]
  },
  {
   "cell_type": "code",
   "execution_count": 90,
   "metadata": {},
   "outputs": [],
   "source": [
    "mappingdata=dict(dff[['Category','CategoryId']].value_counts())"
   ]
  },
  {
   "cell_type": "code",
   "execution_count": null,
   "metadata": {},
   "outputs": [],
   "source": [
    "final_dict=dict(mappingdata.keys())"
   ]
  },
  {
   "cell_type": "code",
   "execution_count": 94,
   "metadata": {},
   "outputs": [
    {
     "data": {
      "text/plain": [
       "{'sports': 4,\n",
       " 'local-stories': 5,\n",
       " 'business': 0,\n",
       " 'entertainment': 1,\n",
       " 'international-news': 2,\n",
       " 'science': 3,\n",
       " 'politics': 6,\n",
       " 'marketing': 7,\n",
       " 'information-technology': 8,\n",
       " 'arts': 9,\n",
       " 'social-issues': 10}"
      ]
     },
     "execution_count": 94,
     "metadata": {},
     "output_type": "execute_result"
    }
   ],
   "source": [
    "final_dict.values=5"
   ]
  },
  {
   "cell_type": "code",
   "execution_count": null,
   "metadata": {},
   "outputs": [],
   "source": []
  }
 ],
 "metadata": {
  "environment": {
   "kernel": "python3",
   "name": "tf-gpu.1-15.m87",
   "type": "gcloud",
   "uri": "gcr.io/deeplearning-platform-release/tf-gpu.1-15:m87"
  },
  "kernelspec": {
   "display_name": "Python 3",
   "language": "python",
   "name": "python3"
  },
  "language_info": {
   "codemirror_mode": {
    "name": "ipython",
    "version": 3
   },
   "file_extension": ".py",
   "mimetype": "text/x-python",
   "name": "python",
   "nbconvert_exporter": "python",
   "pygments_lexer": "ipython3",
   "version": "3.7.12"
  }
 },
 "nbformat": 4,
 "nbformat_minor": 4
}
