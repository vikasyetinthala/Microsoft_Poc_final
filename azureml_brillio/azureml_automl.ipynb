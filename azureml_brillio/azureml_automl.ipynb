{
 "cells": [
  {
   "cell_type": "code",
   "execution_count": 1,
   "metadata": {},
   "outputs": [
    {
     "name": "stderr",
     "output_type": "stream",
     "text": [
      "c:\\Users\\Vikas.Yetintala\\Anaconda3\\lib\\site-packages\\paramiko\\transport.py:219: CryptographyDeprecationWarning: Blowfish has been deprecated\n",
      "  \"class\": algorithms.Blowfish,\n"
     ]
    }
   ],
   "source": [
    "from azureml.core import Workspace"
   ]
  },
  {
   "cell_type": "markdown",
   "metadata": {},
   "source": [
    "# creating workspace"
   ]
  },
  {
   "cell_type": "code",
   "execution_count": null,
   "metadata": {},
   "outputs": [],
   "source": [
    "ws= Workspace.create(name='Azureml-SDK-brillio',\n",
    "                     subscription_id=\"a4df42c9-c1d2-44c4-b2c2-05edb4b27aad\",\n",
    "                     resource_group=\"RG-MSFT-ML-POC-01\",\n",
    "                     create_resource_group=True,\n",
    "                     location=\"\")\n",
    "ws.write_config(path=\"./config\")"
   ]
  },
  {
   "cell_type": "code",
   "execution_count": null,
   "metadata": {},
   "outputs": [],
   "source": [
    "ws=Workspace.from_config(\"./config\")"
   ]
  },
  {
   "cell_type": "markdown",
   "metadata": {},
   "source": [
    "# creating a Datastore"
   ]
  },
  {
   "cell_type": "code",
   "execution_count": null,
   "metadata": {},
   "outputs": [],
   "source": [
    "from azureml.core import Datastore\n",
    "az_store = Datastore.register_azure_blob_container(workspace=ws,\n",
    "                                                    datastore_name=\"azure_sdk_blob01\",\n",
    "                                                    account_name=\"vikaspoctitanic\",\n",
    "                                                    container_name=\"msbrilliopoc\",\n",
    "                                                    account_key=\"be/0iIZOayOkNh4ouG4Z6S4JR7fgVM9+R2bpLRcMwO3Z5mne0GEas/ZUNLDldRYqo4/oPDcatLge+AStdxl7hQ==\")"
   ]
  },
  {
   "cell_type": "code",
   "execution_count": null,
   "metadata": {},
   "outputs": [],
   "source": [
    "az_store= Datastore.get(ws,\"azure_sdk_blob01\")"
   ]
  },
  {
   "cell_type": "markdown",
   "metadata": {},
   "source": [
    "# creating a Dataset"
   ]
  },
  {
   "cell_type": "code",
   "execution_count": null,
   "metadata": {},
   "outputs": [],
   "source": [
    "from azureml.core import Dataset\n",
    "csv_path= [(az_store,\"titanic.csv\")]\n",
    "dataset= Dataset.Tabular.from_delimited_files(path=csv_path)\n",
    "#register the dataset\n",
    "dataset = dataset.register(workspace=ws,\n",
    "                            name=\"Titanic_vikas\",\n",
    "                            create_new_version=True)"
   ]
  },
  {
   "cell_type": "code",
   "execution_count": null,
   "metadata": {},
   "outputs": [],
   "source": [
    "ws_list=Workspace.list(subscription_id=\"a4df42c9-c1d2-44c4-b2c2-05edb4b27aad\")\n",
    "ws_list=list(ws_list)\n",
    "az_default_store= ws.get_default_datastore()\n",
    "az_dataset=Dataset.get_by_name(ws,\"Titanic_vikas\")\n",
    "ds_list=list(ws.datasets.keys())\n",
    "for items in ds_list:\n",
    "    print(items)"
   ]
  },
  {
   "cell_type": "code",
   "execution_count": null,
   "metadata": {},
   "outputs": [],
   "source": [
    "ws=Workspace.from_config(\"./config\")\n",
    "az_store= Datastore.get(ws,\"azure_sdk_blob01\")\n",
    "az_dataset=Dataset.get_by_name(ws,\"Titanic_vikas\")\n",
    "az_default_store= ws.get_default_datastore()"
   ]
  },
  {
   "cell_type": "code",
   "execution_count": null,
   "metadata": {},
   "outputs": [],
   "source": [
    "az_ds_from_df = Dataset.Tabular.register_pandas_dataframe(dataframe=df_sub,\n",
    "                                                          target=az_store,\n",
    "                                                          name=\"Titanic_selected_columns\")"
   ]
  },
  {
   "cell_type": "code",
   "execution_count": null,
   "metadata": {},
   "outputs": [],
   "source": [
    "files_list=[\"./data/test.csv\",\"./data/test1.csv\"]\n",
    "files_list= az_store.upload_files(files=files_list,\n",
    "                                   target_path=\"folder_name/\",\n",
    "                                relative_root=\"./data/\",\n",
    "                                overwrite=True)"
   ]
  },
  {
   "cell_type": "code",
   "execution_count": null,
   "metadata": {},
   "outputs": [],
   "source": [
    "az_store.upload(src_dir=\"./data\",\n",
    "                target_path=\"folder_name/data\",\n",
    "                overwrite=True)"
   ]
  },
  {
   "cell_type": "markdown",
   "metadata": {},
   "source": [
    "# Creating Experiment"
   ]
  },
  {
   "cell_type": "code",
   "execution_count": null,
   "metadata": {},
   "outputs": [],
   "source": [
    "from azureml.core import Experiment\n",
    "experiment=Experiment(workspace=ws,name=\"azureml_exp1_vikas\")"
   ]
  },
  {
   "cell_type": "markdown",
   "metadata": {},
   "source": [
    "# Running experiment by logging simple metrics"
   ]
  },
  {
   "cell_type": "code",
   "execution_count": null,
   "metadata": {},
   "outputs": [],
   "source": [
    "new_run= experiment.start_logging()\n",
    "total_observations=len(df)\n",
    "null_df=df.isnull().sum()\n",
    "new_run.log(\"Total observations: \",total_observations)\n",
    "for columns in df.columns:\n",
    "    new_run.log(columns,nulldf[columns])\n",
    "new_run.complete()"
   ]
  },
  {
   "cell_type": "markdown",
   "metadata": {},
   "source": [
    "# Running Experiment from Local with script file"
   ]
  },
  {
   "cell_type": "code",
   "execution_count": null,
   "metadata": {},
   "outputs": [],
   "source": [
    "from azureml.core import Workspace, Experiment, ScriptRunConfig\n",
    "new_experiment=Experiment(workspace=ws,name=\"azureml_exp2\")\n",
    "script_config= ScriptRunConfig(source_directory=\".\",\n",
    "                               script=\"basicscript.py\")\n",
    "new_run = new_experiment.submit(config=script_config)\n",
    "new_run.wait_for_completion()"
   ]
  },
  {
   "cell_type": "markdown",
   "metadata": {},
   "source": [
    "# Creating Environment and attach to configuration"
   ]
  },
  {
   "cell_type": "code",
   "execution_count": null,
   "metadata": {},
   "outputs": [],
   "source": [
    "from azureml.core import Environment\n",
    "from azureml.core.environment import CondaDependencies"
   ]
  },
  {
   "cell_type": "code",
   "execution_count": null,
   "metadata": {},
   "outputs": [],
   "source": [
    "myenv= Environment(name=\"MyEnvironment\")\n",
    "myenv_dep= CondaDependencies.create(conda_packages=['scikit-learn'])\n",
    "myenv.python.conda_dependencies = myenv_dep\n",
    "myenv.register(ws)"
   ]
  },
  {
   "cell_type": "code",
   "execution_count": null,
   "metadata": {},
   "outputs": [],
   "source": [
    "myenv= Environment(name=\"MyEnvironment\")\n",
    "myenv_dep= CondaDependencies.create(conda_packages=['scikit-learn','pip'],\n",
    "                                    pip_packages=['azureml-defaults','azureml-interpret','azureml-explain-model','interpret-community'])\n",
    "myenv.python.conda_dependencies = myenv_dep\n",
    "myenv.register(ws)"
   ]
  },
  {
   "cell_type": "code",
   "execution_count": null,
   "metadata": {},
   "outputs": [],
   "source": [
    "script_config = ScriptRunConfig(source_directory=\".\",\n",
    "                                script=\"TrainingScript.py\",\n",
    "                                environment=myenv) \n",
    "new_run1 = new_experiment.submit(config=script_config)\n",
    "new_run1.wait_for_completion()"
   ]
  },
  {
   "cell_type": "markdown",
   "metadata": {},
   "source": [
    "# Creating Compute cluster in azure"
   ]
  },
  {
   "cell_type": "code",
   "execution_count": null,
   "metadata": {},
   "outputs": [],
   "source": [
    "from azureml.core.compute import AmlCompute \n",
    "cluster_name= \"comput1\"\n",
    "if cluster_name not in ws.compute_targets:\n",
    "    compute_config= AmlCompute.provisioning_configuration(vm_size=\"\",\n",
    "                                                        max_nodes=2)\n",
    "    cluster = AmlCompute.create(ws, cluster_name, compute_config)\n",
    "    cluster.wait_for_completion()\n",
    "else:\n",
    "    cluster= ws.compute_targets[cluster_name]\n",
    "print(cluster,\" compute cluster found.. using it....\")"
   ]
  },
  {
   "cell_type": "markdown",
   "metadata": {},
   "source": [
    "# Running Experiment in azure"
   ]
  },
  {
   "cell_type": "code",
   "execution_count": null,
   "metadata": {},
   "outputs": [],
   "source": [
    "from azureml.train.automl import AutoMLConfig\n",
    "automl_config= AutoMLConfig(task='classification',\n",
    "                            compute_target=cluster,\n",
    "                            training_data=input_ds,\n",
    "                            validation_size=0.3,\n",
    "                            label_column_name=\"\",\n",
    "                            primary_metric=\"norm_macro_recall\",\n",
    "                            iterations=10,\n",
    "                            max_concurrent_iterations=2,\n",
    "                            experiment_timeout_hours=0.25,\n",
    "                            featurization='auto')"
   ]
  },
  {
   "cell_type": "code",
   "execution_count": null,
   "metadata": {},
   "outputs": [],
   "source": [
    "from azureml.core.experiment import Experiment\n",
    "new_exp= Experiment(ws,\"exp_name\")\n",
    "print(\"submitting the exxperiment\")\n",
    "new_run= new_exp.submit(automl_config)\n",
    "new_run.wait_for_completion(show_output=True)"
   ]
  },
  {
   "cell_type": "code",
   "execution_count": null,
   "metadata": {},
   "outputs": [],
   "source": [
    "best_child_run= new_run.get_best_child()\n",
    "print(best_child_run)"
   ]
  },
  {
   "cell_type": "code",
   "execution_count": null,
   "metadata": {},
   "outputs": [],
   "source": [
    "for run in new_run.get_children():\n",
    "    print(\"run id: \",run.id)\n",
    "    print(\"accuracy is: \",run.get_metrics['accuracy'])\n",
    "    print(\"norm macro recall: \",run.get_metrics['norm_macro_recall'])"
   ]
  }
 ],
 "metadata": {
  "kernelspec": {
   "display_name": "Python 3.9.13 64-bit ('Anaconda3')",
   "language": "python",
   "name": "python3"
  },
  "language_info": {
   "codemirror_mode": {
    "name": "ipython",
    "version": 3
   },
   "file_extension": ".py",
   "mimetype": "text/x-python",
   "name": "python",
   "nbconvert_exporter": "python",
   "pygments_lexer": "ipython3",
   "version": "3.9.13"
  },
  "orig_nbformat": 4,
  "vscode": {
   "interpreter": {
    "hash": "6f326d9ea5a3f36b2f0746ecad6bb15bd497c3c8c2ca7601a5784643aa7cf852"
   }
  }
 },
 "nbformat": 4,
 "nbformat_minor": 2
}
