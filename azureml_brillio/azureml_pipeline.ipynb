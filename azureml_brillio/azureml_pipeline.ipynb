{
 "cells": [
  {
   "cell_type": "code",
   "execution_count": null,
   "metadata": {},
   "outputs": [],
   "source": [
    "from azureml.core import Workspace"
   ]
  },
  {
   "cell_type": "code",
   "execution_count": null,
   "metadata": {},
   "outputs": [],
   "source": [
    "ws= Workspace.create(name='Azureml-SDK-brillio',\n",
    "                     subscription_id=\"a4df42c9-c1d2-44c4-b2c2-05edb4b27aad\",\n",
    "                     resource_group=\"RG-MSFT-ML-POC-01\",\n",
    "                     create_resource_group=True,\n",
    "                     location=\"\")\n",
    "ws.write_config(path=\"./config\")"
   ]
  },
  {
   "cell_type": "code",
   "execution_count": null,
   "metadata": {},
   "outputs": [],
   "source": [
    "ws=Workspace.from_config(\"./config\")"
   ]
  },
  {
   "cell_type": "code",
   "execution_count": null,
   "metadata": {},
   "outputs": [],
   "source": [
    "from azureml.core import Datastore\n",
    "az_store = Datastore.register_azure_blob_container(workspace=ws,\n",
    "                                                    datastore_name=\"azure_sdk_blob01\",\n",
    "                                                    account_name=\"vikaspoctitanic\",\n",
    "                                                    container_name=\"msbrilliopoc\",\n",
    "                                                    account_key=\"be/0iIZOayOkNh4ouG4Z6S4JR7fgVM9+R2bpLRcMwO3Z5mne0GEas/ZUNLDldRYqo4/oPDcatLge+AStdxl7hQ==\")"
   ]
  },
  {
   "cell_type": "code",
   "execution_count": null,
   "metadata": {},
   "outputs": [],
   "source": [
    "az_store= Datastore.get(ws,\"azure_sdk_blob01\")"
   ]
  },
  {
   "cell_type": "code",
   "execution_count": null,
   "metadata": {},
   "outputs": [],
   "source": [
    "from azureml.core import Dataset\n",
    "csv_path= [(az_store,\"titanic.csv\")]\n",
    "dataset= Dataset.Tabular.from_delimited_files(path=csv_path)\n",
    "#register the dataset\n",
    "dataset = dataset.register(workspace=ws,\n",
    "                            name=\"Titanic_vikas\",\n",
    "                            create_new_version=True)"
   ]
  },
  {
   "cell_type": "code",
   "execution_count": null,
   "metadata": {},
   "outputs": [],
   "source": [
    "ws_list=Workspace.list(subscription_id=\"a4df42c9-c1d2-44c4-b2c2-05edb4b27aad\")\n",
    "ws_list=list(ws_list)\n",
    "az_default_store= ws.get_default_datastore()\n",
    "az_dataset=Dataset.get_by_name(ws,\"Titanic_vikas\")\n",
    "ds_list=list(ws.datasets.keys())\n",
    "for items in ds_list:\n",
    "    print(items)"
   ]
  },
  {
   "cell_type": "code",
   "execution_count": null,
   "metadata": {},
   "outputs": [],
   "source": [
    "ws=Workspace.from_config(\"./config\")\n",
    "az_store= Datastore.get(ws,\"azure_sdk_blob01\")\n",
    "az_dataset=Dataset.get_by_name(ws,\"Titanic_vikas\")\n",
    "az_default_store= ws.get_default_datastore()"
   ]
  },
  {
   "cell_type": "code",
   "execution_count": null,
   "metadata": {},
   "outputs": [],
   "source": [
    "az_ds_from_df = Dataset.Tabular.register_pandas_dataframe(dataframe=df_sub,\n",
    "                                                          target=az_store,\n",
    "                                                          name=\"Titanic_selected_columns\")"
   ]
  },
  {
   "cell_type": "code",
   "execution_count": null,
   "metadata": {},
   "outputs": [],
   "source": [
    "from azureml.core import Environment\n",
    "from azureml.core.environment import CondaDependencies"
   ]
  },
  {
   "cell_type": "code",
   "execution_count": null,
   "metadata": {},
   "outputs": [],
   "source": [
    "myenv= Environment(name=\"MyEnvironment\")\n",
    "myenv_dep= CondaDependencies.create(conda_packages=['scikit-learn','pip'],\n",
    "                                    pip_packages=['azureml-defaults','azureml-interpret','azureml-explain-model','interpret-community'])\n",
    "myenv.python.conda_dependencies = myenv_dep\n",
    "myenv.register(ws)"
   ]
  },
  {
   "cell_type": "code",
   "execution_count": null,
   "metadata": {},
   "outputs": [],
   "source": [
    "from azureml.core.compute import AmlCompute \n",
    "cluster_name= \"comput1\"\n",
    "if cluster_name not in ws.compute_targets:\n",
    "    compute_config= AmlCompute.provisioning_configuration(vm_size=\"\",\n",
    "                                                        max_nodes=2)\n",
    "    cluster = AmlCompute.create(ws, cluster_name, compute_config)\n",
    "    cluster.wait_for_completion()\n",
    "else:\n",
    "    cluster= ws.compute_targets[cluster_name]\n",
    "print(cluster,\" compute cluster found.. using it....\")"
   ]
  },
  {
   "cell_type": "code",
   "execution_count": null,
   "metadata": {},
   "outputs": [],
   "source": [
    "from azureml.core.compute import ComputeTarget\n",
    "compute_cluster= ComputeTarget.create(ws, cluster_name, compute_config)\n",
    "compute_cluster.wait_for_completion()"
   ]
  },
  {
   "cell_type": "code",
   "execution_count": null,
   "metadata": {},
   "outputs": [],
   "source": [
    "from azureml.core.runconfig import RunConfiguration \n",
    "run_config = RunConfiguration()\n",
    "run_config.target= cluster_name\n",
    "run_config.environment = myenv "
   ]
  },
  {
   "cell_type": "code",
   "execution_count": null,
   "metadata": {},
   "outputs": [],
   "source": [
    "from azureml.pipeline.steps import PythonScriptStep \n",
    "from azureml.pipeline.core import PipelineData \n",
    "input_ds= ws.datasets.get(\"Titanic_selected_columns\")\n",
    "datafolder= PipelineData('datafolder', datastore=ws.get_default_datastore())"
   ]
  },
  {
   "cell_type": "code",
   "execution_count": null,
   "metadata": {},
   "outputs": [],
   "source": [
    "from azureml.core import Experiment\n",
    "experiment=Experiment(workspace=ws,name=\"azureml_exp1_vikas\")"
   ]
  },
  {
   "cell_type": "code",
   "execution_count": null,
   "metadata": {},
   "outputs": [],
   "source": [
    "dataprep_step3= PythonScriptStep(name=\"Datapreparation\",\n",
    "                                source_directory=\"Training_python_scripts/\",\n",
    "                                script_name= \"Dataprep_pipeline.py\",\n",
    "                                inputs=[input_ds.as_named_input('raw_data')],\n",
    "                                outputs=[datafolder],\n",
    "                                runconfig=run_config,\n",
    "                                arguments=['--datafolder', datafolder])"
   ]
  },
  {
   "cell_type": "code",
   "execution_count": null,
   "metadata": {},
   "outputs": [],
   "source": [
    "train_step3= PythonScriptStep(name=\"ModelTraining\",\n",
    "                             source_directory=\"Training_python_scripts/\",\n",
    "                             script_name=\"Training_pipeline_explain.py\",\n",
    "                             inputs=[datafolder],\n",
    "                             runconfig=run_config,\n",
    "                             arguments=['--datafolder',datafolder])"
   ]
  },
  {
   "cell_type": "code",
   "execution_count": null,
   "metadata": {},
   "outputs": [],
   "source": [
    "steps= [dataprep_step3,train_step3]"
   ]
  },
  {
   "cell_type": "code",
   "execution_count": null,
   "metadata": {},
   "outputs": [],
   "source": [
    "from azureml.pipeline.core import Pipeline \n",
    "new_pipeline = Pipeline(workspace=ws, steps=steps)"
   ]
  },
  {
   "cell_type": "code",
   "execution_count": null,
   "metadata": {},
   "outputs": [],
   "source": [
    "new_experiment= Experiment(workspace=ws, name=\"pipelineexp01\")\n",
    "pipeline_exp_run= new_experiment.submit(new_pipeline)\n",
    "pipeline_exp_run.wait_for_completion(show_output=True)"
   ]
  },
  {
   "cell_type": "code",
   "execution_count": null,
   "metadata": {},
   "outputs": [],
   "source": []
  },
  {
   "cell_type": "code",
   "execution_count": null,
   "metadata": {},
   "outputs": [],
   "source": []
  },
  {
   "cell_type": "code",
   "execution_count": null,
   "metadata": {},
   "outputs": [],
   "source": []
  }
 ],
 "metadata": {
  "kernelspec": {
   "display_name": "Python 3.9.13 64-bit ('Anaconda3')",
   "language": "python",
   "name": "python3"
  },
  "language_info": {
   "name": "python",
   "version": "3.9.13"
  },
  "orig_nbformat": 4,
  "vscode": {
   "interpreter": {
    "hash": "6f326d9ea5a3f36b2f0746ecad6bb15bd497c3c8c2ca7601a5784643aa7cf852"
   }
  }
 },
 "nbformat": 4,
 "nbformat_minor": 2
}
