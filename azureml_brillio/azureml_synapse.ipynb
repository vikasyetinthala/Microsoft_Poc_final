{
 "cells": [
  {
   "cell_type": "code",
   "execution_count": null,
   "metadata": {},
   "outputs": [],
   "source": [
    "from azureml.core import Workspace, ScriptRunConfig, Datastore, Dataset\n",
    "from azureml.core.compute import ComputeTarget"
   ]
  },
  {
   "cell_type": "code",
   "execution_count": null,
   "metadata": {},
   "outputs": [],
   "source": [
    "ws= Workspace.from_config(\"./config\")"
   ]
  },
  {
   "cell_type": "code",
   "execution_count": null,
   "metadata": {},
   "outputs": [],
   "source": [
    "az_store= Datastore.get(ws,\"azure_sdk_blob01\")\n",
    "az_dataset=Dataset.get_by_name(ws,\"Titanic_vikas\")\n",
    "az_default_store= ws.get_default_datastore()"
   ]
  },
  {
   "cell_type": "code",
   "execution_count": null,
   "metadata": {},
   "outputs": [],
   "source": [
    "from azureml.core import LinkedService, SynapseWorkspaceLinkedServiceConfiguration\n",
    "synapse_link_config= SynapseWorkspaceLinkedServiceConfiguration(\n",
    "    subscription_id=\"\",\n",
    "    resource_group=\"\",\n",
    "    name=\"synapse_name\"   # we have to take synapse cluster name\n",
    "\n",
    ")\n",
    "linked_service = LinkedService.register(\n",
    "    workspace=ws,\n",
    "    name='synapse-link',\n",
    "    linked_service_config=synapse_link_config\n",
    ")"
   ]
  },
  {
   "cell_type": "code",
   "execution_count": null,
   "metadata": {},
   "outputs": [],
   "source": [
    "from azureml.core.compute import SynapseCompute, ComputeTarget\n",
    "spark_pool_name= \"\"     #we have to take spark pool compute name\n",
    "attached_synapse_name= \"\"\n",
    "attach_config = SynapseCompute.attach_configuration(\n",
    "    linked_service,\n",
    "    type=\"SynapseSparkPool\",\n",
    "    pool_name=spark_pool_name\n",
    ")\n",
    "synapse_compute= ComputeTarget.attach(\n",
    "    workspace=ws,\n",
    "    name=attached_synapse_name,\n",
    "    attach_config=attach_config\n",
    ")\n",
    "synapse_compute.wait_for_completion(True)"
   ]
  },
  {
   "cell_type": "code",
   "execution_count": null,
   "metadata": {},
   "outputs": [],
   "source": [
    "cluster= ws.compute_targets[attached_synapse_name]"
   ]
  },
  {
   "cell_type": "code",
   "execution_count": null,
   "metadata": {},
   "outputs": [],
   "source": [
    "from azureml.core import Environment\n",
    "from azureml.core.environment import CondaDependencies   "
   ]
  },
  {
   "cell_type": "code",
   "execution_count": null,
   "metadata": {},
   "outputs": [],
   "source": [
    "myenv= Environment(name=\"MyEnvironment\")\n",
    "myenv_dep= CondaDependencies.create(conda_packages=['scikit-learn','pip'],\n",
    "                                    pip_packages=['azureml-defaults','azureml-interpret'])\n",
    "myenv.python.conda_dependencies = myenv_dep\n",
    "myenv.register(ws)"
   ]
  },
  {
   "cell_type": "code",
   "execution_count": null,
   "metadata": {},
   "outputs": [],
   "source": [
    "from azureml.core.runconfig import RunConfiguration \n",
    "run_config = RunConfiguration()\n",
    "run_config.target= cluster\n",
    "run_config.environment = myenv "
   ]
  },
  {
   "cell_type": "code",
   "execution_count": null,
   "metadata": {},
   "outputs": [],
   "source": [
    "from azureml.core import Experiment\n",
    "experiment=Experiment(workspace=ws,name=\"azureml_databricks_step\")"
   ]
  },
  {
   "cell_type": "code",
   "execution_count": null,
   "metadata": {},
   "outputs": [],
   "source": [
    "script_config = ScriptRunConfig(source_directory=\".\",\n",
    "                                script=\"TrainingScript.py\",\n",
    "                                environment=myenv,\n",
    "                                run_config=run_config) \n",
    "new_run1 = experiment.submit(config=script_config)\n",
    "new_run1.wait_for_completion()"
   ]
  },
  {
   "cell_type": "code",
   "execution_count": null,
   "metadata": {},
   "outputs": [],
   "source": [
    "from azureml.pipeline.steps import PythonScriptStep \n",
    "from azureml.pipeline.core import PipelineData \n",
    "input_ds= ws.datasets.get(\"Titanic_selected_columns\")\n",
    "datafolder= PipelineData('datafolder', datastore=ws.get_default_datastore())"
   ]
  },
  {
   "cell_type": "code",
   "execution_count": null,
   "metadata": {},
   "outputs": [],
   "source": [
    "dataprep_step3= PythonScriptStep(name=\"Datapreparation\",\n",
    "                                source_directory=\"Training_python_scripts/\",\n",
    "                                script_name= \"Dataprep_pipeline.py\",\n",
    "                                inputs=[input_ds.as_named_input('raw_data')],\n",
    "                                outputs=[datafolder],\n",
    "                                runconfig=run_config,\n",
    "                                arguments=['--datafolder', datafolder])"
   ]
  },
  {
   "cell_type": "code",
   "execution_count": null,
   "metadata": {},
   "outputs": [],
   "source": [
    "train_step3= PythonScriptStep(name=\"ModelTraining\",\n",
    "                             source_directory=\"Training_python_scripts/\",\n",
    "                             script_name=\"Training_pipeline_explain.py\",\n",
    "                             inputs=[datafolder],\n",
    "                             runconfig=run_config,\n",
    "                             arguments=['--datafolder',datafolder])"
   ]
  },
  {
   "cell_type": "code",
   "execution_count": null,
   "metadata": {},
   "outputs": [],
   "source": [
    "steps= [dataprep_step3,train_step3]"
   ]
  },
  {
   "cell_type": "code",
   "execution_count": null,
   "metadata": {},
   "outputs": [],
   "source": [
    "from azureml.pipeline.core import Pipeline \n",
    "new_pipeline = Pipeline(workspace=ws, steps=steps)"
   ]
  },
  {
   "cell_type": "code",
   "execution_count": null,
   "metadata": {},
   "outputs": [],
   "source": [
    "new_experiment= Experiment(workspace=ws, name=\"pipelineexp01\")\n",
    "pipeline_exp_run= new_experiment.submit(new_pipeline)\n",
    "pipeline_exp_run.wait_for_completion(show_output=True)"
   ]
  },
  {
   "cell_type": "code",
   "execution_count": null,
   "metadata": {},
   "outputs": [],
   "source": []
  }
 ],
 "metadata": {
  "kernelspec": {
   "display_name": "Python 3.9.13 64-bit ('Anaconda3')",
   "language": "python",
   "name": "python3"
  },
  "language_info": {
   "name": "python",
   "version": "3.9.13"
  },
  "orig_nbformat": 4,
  "vscode": {
   "interpreter": {
    "hash": "6f326d9ea5a3f36b2f0746ecad6bb15bd497c3c8c2ca7601a5784643aa7cf852"
   }
  }
 },
 "nbformat": 4,
 "nbformat_minor": 2
}
