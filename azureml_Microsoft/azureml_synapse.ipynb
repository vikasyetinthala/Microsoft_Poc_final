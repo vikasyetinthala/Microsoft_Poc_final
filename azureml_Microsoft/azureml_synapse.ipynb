{
 "cells": [
  {
   "cell_type": "code",
   "execution_count": 2,
   "metadata": {},
   "outputs": [],
   "source": [
    "from azureml.core import Workspace, ScriptRunConfig, Datastore, Dataset\n",
    "from azureml.core.compute import ComputeTarget"
   ]
  },
  {
   "cell_type": "code",
   "execution_count": 3,
   "metadata": {},
   "outputs": [],
   "source": [
    "ws= Workspace.from_config(\"./config\")"
   ]
  },
  {
   "cell_type": "code",
   "execution_count": 4,
   "metadata": {},
   "outputs": [],
   "source": [
    "az_store= Datastore.get(ws,\"azure_sdk_blob01\")\n",
    "az_dataset=Dataset.get_by_name(ws,\"Titanic_selected_columns\")\n",
    "az_default_store= ws.get_default_datastore()"
   ]
  },
  {
   "cell_type": "code",
   "execution_count": 40,
   "metadata": {},
   "outputs": [
    {
     "name": "stderr",
     "output_type": "stream",
     "text": [
      "WARNING:azureml._base_sdk_common._docstring_wrapper:Class SynapseWorkspaceLinkedServiceConfiguration: This is an experimental class, and may change at any time. Please see https://aka.ms/azuremlexperimental for more information.\n",
      "WARNING:azureml._base_sdk_common._docstring_wrapper:Class LinkedService: This is an experimental class, and may change at any time. Please see https://aka.ms/azuremlexperimental for more information.\n"
     ]
    }
   ],
   "source": [
    "from azureml.core import LinkedService, SynapseWorkspaceLinkedServiceConfiguration\n",
    "synapse_link_config= SynapseWorkspaceLinkedServiceConfiguration(\n",
    "    subscription_id=\"a4df42c9-c1d2-44c4-b2c2-05edb4b27aad\",\n",
    "    resource_group=\"RG-MSFT-ML-POC-01\",\n",
    "    name=\"synapse-msft-ml-poc-01\"   # we have to take synapse workspace name\n",
    "\n",
    ")\n",
    "linked_service = LinkedService.register(\n",
    "    workspace=ws,\n",
    "    name='synapse-link1',\n",
    "    linked_service_config=synapse_link_config\n",
    ")"
   ]
  },
  {
   "cell_type": "code",
   "execution_count": 5,
   "metadata": {},
   "outputs": [
    {
     "name": "stderr",
     "output_type": "stream",
     "text": [
      "Class LinkedService: This is an experimental class, and may change at any time. Please see https://aka.ms/azuremlexperimental for more information.\n"
     ]
    }
   ],
   "source": [
    "from azureml.core import LinkedService\n",
    "\n",
    "linked_service = LinkedService.get(ws, 'synapse-link1')"
   ]
  },
  {
   "cell_type": "code",
   "execution_count": 6,
   "metadata": {},
   "outputs": [
    {
     "name": "stderr",
     "output_type": "stream",
     "text": [
      "Class LinkedService: This is an experimental class, and may change at any time. Please see https://aka.ms/azuremlexperimental for more information.\n"
     ]
    },
    {
     "data": {
      "text/plain": [
       "{'synapse-link1': LinkedService(workspace=Workspace.create(name='aml-msft-ml-poc1', subscription_id='a4df42c9-c1d2-44c4-b2c2-05edb4b27aad', resource_group='RG-MSFT-ML-POC-01'), name=synapse-link1, type=LinkedServiceLinkType.synapse, linked_service_resource_id=/subscriptions/a4df42c9-c1d2-44c4-b2c2-05edb4b27aad/resourceGroups/RG-MSFT-ML-POC-01/providers/Microsoft.Synapse/workspaces/synapse-msft-ml-poc-01, system_assigned_identity_principal_id=939e1162-b666-4cd3-bc98-c0ef71edda66}"
      ]
     },
     "execution_count": 6,
     "metadata": {},
     "output_type": "execute_result"
    }
   ],
   "source": [
    "ws.linked_services"
   ]
  },
  {
   "cell_type": "code",
   "execution_count": 7,
   "metadata": {},
   "outputs": [
    {
     "name": "stderr",
     "output_type": "stream",
     "text": [
      "Class SynapseCompute: This is an experimental class, and may change at any time. Please see https://aka.ms/azuremlexperimental for more information.\n"
     ]
    },
    {
     "name": "stdout",
     "output_type": "stream",
     "text": [
      "SucceededProvisioning operation finished, operation \"Succeeded\"\n"
     ]
    },
    {
     "name": "stderr",
     "output_type": "stream",
     "text": [
      "Class SynapseCompute: This is an experimental class, and may change at any time. Please see https://aka.ms/azuremlexperimental for more information.\n"
     ]
    }
   ],
   "source": [
    "from azureml.core.compute import SynapseCompute, ComputeTarget\n",
    "spark_pool_name= \"msazuremlpoc\"     #we have to take spark pool compute name\n",
    "attached_synapse_name= \"microsoftsynapse\"\n",
    "attach_config = SynapseCompute.attach_configuration(\n",
    "    linked_service=linked_service,\n",
    "    type=\"SynapseSpark\",\n",
    "    pool_name=spark_pool_name\n",
    ")\n",
    "synapse_compute= ComputeTarget.attach(\n",
    "    workspace=ws,\n",
    "    name=attached_synapse_name,\n",
    "    attach_configuration=attach_config\n",
    ")\n",
    "synapse_compute.wait_for_completion(True)"
   ]
  },
  {
   "cell_type": "code",
   "execution_count": 8,
   "metadata": {},
   "outputs": [
    {
     "name": "stdout",
     "output_type": "stream",
     "text": [
      "939e1162-b666-4cd3-bc98-c0ef71edda66\n"
     ]
    }
   ],
   "source": [
    "print(linked_service.system_assigned_identity_principal_id)"
   ]
  },
  {
   "cell_type": "code",
   "execution_count": 9,
   "metadata": {},
   "outputs": [
    {
     "name": "stderr",
     "output_type": "stream",
     "text": [
      "Class SynapseCompute: This is an experimental class, and may change at any time. Please see https://aka.ms/azuremlexperimental for more information.\n"
     ]
    }
   ],
   "source": [
    "cluster= ws.compute_targets[attached_synapse_name]"
   ]
  },
  {
   "cell_type": "code",
   "execution_count": 36,
   "metadata": {},
   "outputs": [
    {
     "data": {
      "text/plain": [
       "id: /subscriptions/a4df42c9-c1d2-44c4-b2c2-05edb4b27aad/resourceGroups/RG-MSFT-ML-POC-01/providers/Microsoft.MachineLearningServices/workspaces/aml-msft-ml-poc1/computes/microsoftsynapse,\n",
       "name: microsoftsynapse,\n",
       "tags: None,\n",
       "location: eastus,\n",
       "properties: {'computeType': 'SynapseSpark', 'computeLocation': 'eastus', 'description': None, 'resourceId': '/subscriptions/a4df42c9-c1d2-44c4-b2c2-05edb4b27aad/resourceGroups/RG-MSFT-ML-POC-01/providers/Microsoft.Synapse/workspaces/synapse-msft-ml-poc-01/bigDataPools/msazuremlpoc', 'provisioningErrors': None, 'provisioningState': 'Succeeded', 'properties': {'sparkVersion': '3.2', 'nodeCount': 10, 'nodeSizeFamily': 'MemoryOptimized', 'nodeSize': 'Medium', 'autoScaleProperties': {'enabled': True, 'maxNodeCount': 3, 'minNodeCount': 3}, 'autoPauseProperties': {'enabled': True, 'delayInMinutes': 15}}}"
      ]
     },
     "execution_count": 36,
     "metadata": {},
     "output_type": "execute_result"
    }
   ],
   "source": [
    "cluster"
   ]
  },
  {
   "cell_type": "code",
   "execution_count": 46,
   "metadata": {},
   "outputs": [
    {
     "data": {
      "text/plain": [
       "id: /subscriptions/a4df42c9-c1d2-44c4-b2c2-05edb4b27aad/resourceGroups/RG-MSFT-ML-POC-01/providers/Microsoft.MachineLearningServices/workspaces/aml-msft-ml-poc1/computes/microsoftsynapse,\n",
       "name: microsoftsynapse,\n",
       "tags: None,\n",
       "location: eastus,\n",
       "properties: {'computeType': 'SynapseSpark', 'computeLocation': 'eastus', 'description': None, 'resourceId': '/subscriptions/a4df42c9-c1d2-44c4-b2c2-05edb4b27aad/resourceGroups/RG-MSFT-ML-POC-01/providers/Microsoft.Synapse/workspaces/synapse-msft-ml-poc-01/bigDataPools/msazuremlpoc', 'provisioningErrors': None, 'provisioningState': 'Succeeded', 'properties': {'sparkVersion': '3.2', 'nodeCount': 10, 'nodeSizeFamily': 'MemoryOptimized', 'nodeSize': 'Medium', 'autoScaleProperties': {'enabled': True, 'maxNodeCount': 3, 'minNodeCount': 3}, 'autoPauseProperties': {'enabled': True, 'delayInMinutes': 15}}}"
      ]
     },
     "execution_count": 46,
     "metadata": {},
     "output_type": "execute_result"
    }
   ],
   "source": [
    "synapse_compute"
   ]
  },
  {
   "cell_type": "code",
   "execution_count": 10,
   "metadata": {},
   "outputs": [],
   "source": [
    "from azureml.core import Environment\n",
    "from azureml.core.environment import CondaDependencies"
   ]
  },
  {
   "cell_type": "code",
   "execution_count": 11,
   "metadata": {},
   "outputs": [],
   "source": [
    "from azureml.core.environment import CondaDependencies\n",
    "myenv=CondaDependencies()\n",
    "myenv.add_conda_package(\"azure-core==1.20.0\")"
   ]
  },
  {
   "cell_type": "code",
   "execution_count": 12,
   "metadata": {},
   "outputs": [],
   "source": [
    "from azureml.core.runconfig import RunConfiguration \n",
    "run_config = RunConfiguration(framework=\"pyspark\")\n",
    "run_config.target= synapse_compute\n",
    "run_config.environment = myenv \n",
    "run_config.spark.configuration[\"spark.driver.memory\"]=\"1g\"\n",
    "run_config.spark.configuration[\"spark.driver.cores\"]=2\n",
    "run_config.spark.configuration[\"spark.executor.memory\"]=\"1g\"\n",
    "run_config.spark.configuration[\"spark.executor.cores\"]=1\n",
    "run_config.spark.configuration[\"spark.executor.instances\"]=1"
   ]
  },
  {
   "cell_type": "code",
   "execution_count": 13,
   "metadata": {},
   "outputs": [],
   "source": [
    "from azureml.core import Experiment\n",
    "experiment=Experiment(workspace=ws,name=\"azureml_synapse\")"
   ]
  },
  {
   "cell_type": "code",
   "execution_count": 50,
   "metadata": {},
   "outputs": [],
   "source": [
    "from azureml.pipeline.steps import PythonScriptStep \n",
    "from azureml.pipeline.core import PipelineData \n",
    "input_ds= ws.datasets.get(\"Titanic_selected_columns\")\n",
    "datafolder= PipelineData('datafolder', datastore=ws.get_default_datastore())"
   ]
  },
  {
   "cell_type": "code",
   "execution_count": 14,
   "metadata": {},
   "outputs": [
    {
     "name": "stderr",
     "output_type": "stream",
     "text": [
      "Class SynapseSparkStep: This is an experimental class, and may change at any time. Please see https://aka.ms/azuremlexperimental for more information.\n"
     ]
    },
    {
     "name": "stdout",
     "output_type": "stream",
     "text": [
      "only conda_dependencies specified in environment will be used in Synapse Spark run.\n"
     ]
    }
   ],
   "source": [
    "from azureml.pipeline.steps import PythonScriptStep, SynapseSparkStep\n",
    "from azureml.core.environment import Environment\n",
    "env = Environment(name=\"myenv\")\n",
    "env.python.conda_dependencies.add_pip_package(\"azureml-core==1.20.0\")\n",
    "\n",
    "step_1 = SynapseSparkStep(name = 'synapse-spark',\n",
    "                          file = 'Singlestep_Training.py',\n",
    "                          source_directory=\"Training_python_scripts/\", \n",
    "                          compute_target = synapse_compute,\n",
    "                          driver_memory = \"7g\",\n",
    "                          driver_cores = 4,\n",
    "                          executor_memory = \"7g\",\n",
    "                          executor_cores = 2,\n",
    "                          num_executors = 1,\n",
    "                          environment = env)"
   ]
  },
  {
   "cell_type": "code",
   "execution_count": 15,
   "metadata": {},
   "outputs": [],
   "source": [
    "steps=[step_1]\n",
    "from azureml.pipeline.core import Pipeline \n",
    "new_pipeline = Pipeline(workspace=ws, steps=steps)"
   ]
  },
  {
   "cell_type": "code",
   "execution_count": 16,
   "metadata": {},
   "outputs": [
    {
     "name": "stdout",
     "output_type": "stream",
     "text": [
      "Created step synapse-spark [a6d0b633][514426c2-e8d7-493e-91f7-08dc46741dba], (This step is eligible to reuse a previous run's output)\n",
      "Submitted PipelineRun eee4575c-ffdd-47e1-a626-8381f9285b8f\n",
      "Link to Azure Machine Learning Portal: https://ml.azure.com/runs/eee4575c-ffdd-47e1-a626-8381f9285b8f?wsid=/subscriptions/a4df42c9-c1d2-44c4-b2c2-05edb4b27aad/resourcegroups/RG-MSFT-ML-POC-01/workspaces/aml-msft-ml-poc1&tid=3882b70d-a91e-468c-9928-820358bfbd73\n",
      "PipelineRunId: eee4575c-ffdd-47e1-a626-8381f9285b8f\n",
      "Link to Azure Machine Learning Portal: https://ml.azure.com/runs/eee4575c-ffdd-47e1-a626-8381f9285b8f?wsid=/subscriptions/a4df42c9-c1d2-44c4-b2c2-05edb4b27aad/resourcegroups/RG-MSFT-ML-POC-01/workspaces/aml-msft-ml-poc1&tid=3882b70d-a91e-468c-9928-820358bfbd73\n",
      "PipelineRun Status: Running\n",
      "\n",
      "\n",
      "StepRunId: 13f3a7e0-9914-4e29-99ae-cf5ef2f357eb\n",
      "Link to Azure Machine Learning Portal: https://ml.azure.com/runs/13f3a7e0-9914-4e29-99ae-cf5ef2f357eb?wsid=/subscriptions/a4df42c9-c1d2-44c4-b2c2-05edb4b27aad/resourcegroups/RG-MSFT-ML-POC-01/workspaces/aml-msft-ml-poc1&tid=3882b70d-a91e-468c-9928-820358bfbd73\n",
      "StepRun( synapse-spark ) Status: NotStarted\n",
      "StepRun( synapse-spark ) Status: Running\n",
      "\n",
      "StepRun(synapse-spark) Execution Summary\n",
      "=========================================\n",
      "StepRun( synapse-spark ) Status: Failed\n",
      "\n",
      "Warnings:\n",
      "Service invocation failed!\n",
      "Request: POST account-rp.vienna-eastus.svc/rp/workspaces/subscriptions/a4df42c9-c1d2-44c4-b2c2-05edb4b27aad/resourceGroups/RG-MSFT-ML-POC-01/workspaces/aml-msft-ml-poc1/listResourceKeys\n",
      "Status Code: 400 BadRequest\n",
      "Error Code:\n"
     ]
    },
    {
     "ename": "ActivityFailedException",
     "evalue": "ActivityFailedException:\n\tMessage: Activity Failed:\n{\n    \"error\": {\n        \"code\": \"UserError\",\n        \"message\": \"Service invocation failed!\\r\\nRequest: POST account-rp.vienna-eastus.svc/rp/workspaces/subscriptions/a4df42c9-c1d2-44c4-b2c2-05edb4b27aad/resourceGroups/RG-MSFT-ML-POC-01/workspaces/aml-msft-ml-poc1/listResourceKeys\\r\\nStatus Code: 400 BadRequest\\r\\nError Code: ValidationError\\r\\nReason Phrase: Not Found response body: {\\\"error\\\":{\\\"code\\\":\\\"ResourceNotFound\\\",\\\"message\\\":\\\"The Resource 'Microsoft.insi\\r\\nResponse Body: {\\n  \\\"error\\\": {\\n    \\\"code\\\": \\\"ValidationError\\\",\\n    \\\"severity\\\": null,\\n    \\\"message\\\": \\\"Not Found response body: {\\\\\\\"error\\\\\\\":{\\\\\\\"code\\\\\\\":\\\\\\\"ResourceNotFound\\\\\\\",\\\\\\\"message\\\\\\\":\\\\\\\"The Resource 'Microsoft.insights/components/appinsamlmsftmlpoc119092022' under resource group 'RG-MSFT-ML-POC-01' was not found. For more details please go to https://aka.ms/ARMResourceNotFoundFix\\\\\\\"}}\\\",\\n    \\\"messageFormat\\\": null,\\n    \\\"messageParameters\\\": null,\\n    \\\"referenceCode\\\": null,\\n    \\\"detailsUri\\\": null,\\n    \\\"target\\\": \\\"s2s\\\",\\n    \\\"details\\\": [\\n      {\\n        \\\"code\\\": \\\"Invalid\\\",\\n        \\\"severity\\\": null,\\n        \\\"message\\\": \\\"Not Found response body: {\\\\\\\"error\\\\\\\":{\\\\\\\"code\\\\\\\":\\\\\\\"ResourceNotFound\\\\\\\",\\\\\\\"message\\\\\\\":\\\\\\\"The Resource 'Microsoft.insights/components/appinsamlmsftmlpoc119092022' under resource group 'RG-MSFT-ML-POC-01' was not found. For more details please go to https://aka.ms/ARMResourceNotFoundFix\\\\\\\"}}\\\",\\n        \\\"messageFormat\\\": null,\\n        \\\"messageParameters\\\": {},\\n        \\\"referenceCode\\\": null,\\n        \\\"detailsUri\\\": null,\\n        \\\"target\\\": \\\"s2s\\\",\\n        \\\"details\\\": [],\\n        \\\"innerError\\\": null,\\n        \\\"debugInfo\\\": null,\\n        \\\"additionalInfo\\\": null\\n      }\\n    ],\\n    \\\"innerError\\\": null,\\n    \\\"debugInfo\\\": null,\\n    \\\"additionalInfo\\\": null\\n  },\\n  \\\"correlation\\\": {\\n    \\\"operation\\\": \\\"0d2918be93e412edd72e64c23ed761ad\\\",\\n    \\\"request\\\": \\\"1216d898dedb62d3\\\"\\n  },\\n  \\\"environment\\\": \\\"eastus\\\",\\n  \\\"location\\\": \\\"eastus\\\",\\n  \\\"time\\\": \\\"2022-11-04T17:07:57.4256005+00:00\\\",\\n  \\\"componentName\\\": \\\"account-rp\\\"\\n}\",\n        \"details\": []\n    },\n    \"correlation\": {\n        \"operation\": \"0d2918be93e412edd72e64c23ed761ad\",\n        \"request\": \"115329d9b22bc7b8\"\n    },\n    \"environment\": \"eastus\",\n    \"location\": \"eastus\",\n    \"time\": \"2022-11-04T17:07:57.440308Z\",\n    \"componentName\": \"Execution\"\n}\n\tInnerException None\n\tErrorResponse \n{\n    \"error\": {\n        \"message\": \"Activity Failed:\\n{\\n    \\\"error\\\": {\\n        \\\"code\\\": \\\"UserError\\\",\\n        \\\"message\\\": \\\"Service invocation failed!\\\\r\\\\nRequest: POST account-rp.vienna-eastus.svc/rp/workspaces/subscriptions/a4df42c9-c1d2-44c4-b2c2-05edb4b27aad/resourceGroups/RG-MSFT-ML-POC-01/workspaces/aml-msft-ml-poc1/listResourceKeys\\\\r\\\\nStatus Code: 400 BadRequest\\\\r\\\\nError Code: ValidationError\\\\r\\\\nReason Phrase: Not Found response body: {\\\\\\\"error\\\\\\\":{\\\\\\\"code\\\\\\\":\\\\\\\"ResourceNotFound\\\\\\\",\\\\\\\"message\\\\\\\":\\\\\\\"The Resource 'Microsoft.insi\\\\r\\\\nResponse Body: {\\\\n  \\\\\\\"error\\\\\\\": {\\\\n    \\\\\\\"code\\\\\\\": \\\\\\\"ValidationError\\\\\\\",\\\\n    \\\\\\\"severity\\\\\\\": null,\\\\n    \\\\\\\"message\\\\\\\": \\\\\\\"Not Found response body: {\\\\\\\\\\\\\\\"error\\\\\\\\\\\\\\\":{\\\\\\\\\\\\\\\"code\\\\\\\\\\\\\\\":\\\\\\\\\\\\\\\"ResourceNotFound\\\\\\\\\\\\\\\",\\\\\\\\\\\\\\\"message\\\\\\\\\\\\\\\":\\\\\\\\\\\\\\\"The Resource 'Microsoft.insights/components/appinsamlmsftmlpoc119092022' under resource group 'RG-MSFT-ML-POC-01' was not found. For more details please go to https://aka.ms/ARMResourceNotFoundFix\\\\\\\\\\\\\\\"}}\\\\\\\",\\\\n    \\\\\\\"messageFormat\\\\\\\": null,\\\\n    \\\\\\\"messageParameters\\\\\\\": null,\\\\n    \\\\\\\"referenceCode\\\\\\\": null,\\\\n    \\\\\\\"detailsUri\\\\\\\": null,\\\\n    \\\\\\\"target\\\\\\\": \\\\\\\"s2s\\\\\\\",\\\\n    \\\\\\\"details\\\\\\\": [\\\\n      {\\\\n        \\\\\\\"code\\\\\\\": \\\\\\\"Invalid\\\\\\\",\\\\n        \\\\\\\"severity\\\\\\\": null,\\\\n        \\\\\\\"message\\\\\\\": \\\\\\\"Not Found response body: {\\\\\\\\\\\\\\\"error\\\\\\\\\\\\\\\":{\\\\\\\\\\\\\\\"code\\\\\\\\\\\\\\\":\\\\\\\\\\\\\\\"ResourceNotFound\\\\\\\\\\\\\\\",\\\\\\\\\\\\\\\"message\\\\\\\\\\\\\\\":\\\\\\\\\\\\\\\"The Resource 'Microsoft.insights/components/appinsamlmsftmlpoc119092022' under resource group 'RG-MSFT-ML-POC-01' was not found. For more details please go to https://aka.ms/ARMResourceNotFoundFix\\\\\\\\\\\\\\\"}}\\\\\\\",\\\\n        \\\\\\\"messageFormat\\\\\\\": null,\\\\n        \\\\\\\"messageParameters\\\\\\\": {},\\\\n        \\\\\\\"referenceCode\\\\\\\": null,\\\\n        \\\\\\\"detailsUri\\\\\\\": null,\\\\n        \\\\\\\"target\\\\\\\": \\\\\\\"s2s\\\\\\\",\\\\n        \\\\\\\"details\\\\\\\": [],\\\\n        \\\\\\\"innerError\\\\\\\": null,\\\\n        \\\\\\\"debugInfo\\\\\\\": null,\\\\n        \\\\\\\"additionalInfo\\\\\\\": null\\\\n      }\\\\n    ],\\\\n    \\\\\\\"innerError\\\\\\\": null,\\\\n    \\\\\\\"debugInfo\\\\\\\": null,\\\\n    \\\\\\\"additionalInfo\\\\\\\": null\\\\n  },\\\\n  \\\\\\\"correlation\\\\\\\": {\\\\n    \\\\\\\"operation\\\\\\\": \\\\\\\"0d2918be93e412edd72e64c23ed761ad\\\\\\\",\\\\n    \\\\\\\"request\\\\\\\": \\\\\\\"1216d898dedb62d3\\\\\\\"\\\\n  },\\\\n  \\\\\\\"environment\\\\\\\": \\\\\\\"eastus\\\\\\\",\\\\n  \\\\\\\"location\\\\\\\": \\\\\\\"eastus\\\\\\\",\\\\n  \\\\\\\"time\\\\\\\": \\\\\\\"2022-11-04T17:07:57.4256005+00:00\\\\\\\",\\\\n  \\\\\\\"componentName\\\\\\\": \\\\\\\"account-rp\\\\\\\"\\\\n}\\\",\\n        \\\"details\\\": []\\n    },\\n    \\\"correlation\\\": {\\n        \\\"operation\\\": \\\"0d2918be93e412edd72e64c23ed761ad\\\",\\n        \\\"request\\\": \\\"115329d9b22bc7b8\\\"\\n    },\\n    \\\"environment\\\": \\\"eastus\\\",\\n    \\\"location\\\": \\\"eastus\\\",\\n    \\\"time\\\": \\\"2022-11-04T17:07:57.440308Z\\\",\\n    \\\"componentName\\\": \\\"Execution\\\"\\n}\"\n    }\n}",
     "output_type": "error",
     "traceback": [
      "\u001b[1;31m---------------------------------------------------------------------------\u001b[0m",
      "\u001b[1;31mActivityFailedException\u001b[0m                   Traceback (most recent call last)",
      "\u001b[1;32m~\\AppData\\Local\\Temp\\ipykernel_11732\\312785081.py\u001b[0m in \u001b[0;36m<module>\u001b[1;34m\u001b[0m\n\u001b[0;32m      1\u001b[0m \u001b[0mnew_experiment\u001b[0m\u001b[1;33m=\u001b[0m \u001b[0mExperiment\u001b[0m\u001b[1;33m(\u001b[0m\u001b[0mworkspace\u001b[0m\u001b[1;33m=\u001b[0m\u001b[0mws\u001b[0m\u001b[1;33m,\u001b[0m \u001b[0mname\u001b[0m\u001b[1;33m=\u001b[0m\u001b[1;34m\"pipelineexp01\"\u001b[0m\u001b[1;33m)\u001b[0m\u001b[1;33m\u001b[0m\u001b[1;33m\u001b[0m\u001b[0m\n\u001b[0;32m      2\u001b[0m \u001b[0mpipeline_exp_run\u001b[0m\u001b[1;33m=\u001b[0m \u001b[0mnew_experiment\u001b[0m\u001b[1;33m.\u001b[0m\u001b[0msubmit\u001b[0m\u001b[1;33m(\u001b[0m\u001b[0mnew_pipeline\u001b[0m\u001b[1;33m)\u001b[0m\u001b[1;33m\u001b[0m\u001b[1;33m\u001b[0m\u001b[0m\n\u001b[1;32m----> 3\u001b[1;33m \u001b[0mpipeline_exp_run\u001b[0m\u001b[1;33m.\u001b[0m\u001b[0mwait_for_completion\u001b[0m\u001b[1;33m(\u001b[0m\u001b[0mshow_output\u001b[0m\u001b[1;33m=\u001b[0m\u001b[1;32mTrue\u001b[0m\u001b[1;33m)\u001b[0m\u001b[1;33m\u001b[0m\u001b[1;33m\u001b[0m\u001b[0m\n\u001b[0m",
      "\u001b[1;32mc:\\Users\\Vikas.Yetintala\\Anaconda3\\lib\\site-packages\\azureml\\pipeline\\core\\run.py\u001b[0m in \u001b[0;36mwait_for_completion\u001b[1;34m(self, show_output, timeout_seconds, raise_on_error)\u001b[0m\n\u001b[0;32m    293\u001b[0m                             \u001b[0mprint\u001b[0m\u001b[1;33m(\u001b[0m\u001b[1;34m'\\n'\u001b[0m\u001b[1;33m)\u001b[0m\u001b[1;33m\u001b[0m\u001b[1;33m\u001b[0m\u001b[0m\n\u001b[0;32m    294\u001b[0m                             \u001b[1;32mtry\u001b[0m\u001b[1;33m:\u001b[0m\u001b[1;33m\u001b[0m\u001b[1;33m\u001b[0m\u001b[0m\n\u001b[1;32m--> 295\u001b[1;33m                                 step_run.wait_for_completion(timeout_seconds=timeout_seconds - time_elapsed,\n\u001b[0m\u001b[0;32m    296\u001b[0m                                                              raise_on_error=raise_on_error)\n\u001b[0;32m    297\u001b[0m                             \u001b[1;32mexcept\u001b[0m \u001b[0mTypeError\u001b[0m \u001b[1;32mas\u001b[0m \u001b[0me\u001b[0m\u001b[1;33m:\u001b[0m\u001b[1;33m\u001b[0m\u001b[1;33m\u001b[0m\u001b[0m\n",
      "\u001b[1;32mc:\\Users\\Vikas.Yetintala\\Anaconda3\\lib\\site-packages\\azureml\\pipeline\\core\\run.py\u001b[0m in \u001b[0;36mwait_for_completion\u001b[1;34m(self, show_output, timeout_seconds, raise_on_error)\u001b[0m\n\u001b[0;32m    736\u001b[0m         \u001b[1;32mif\u001b[0m \u001b[0mshow_output\u001b[0m\u001b[1;33m:\u001b[0m\u001b[1;33m\u001b[0m\u001b[1;33m\u001b[0m\u001b[0m\n\u001b[0;32m    737\u001b[0m             \u001b[1;32mtry\u001b[0m\u001b[1;33m:\u001b[0m\u001b[1;33m\u001b[0m\u001b[1;33m\u001b[0m\u001b[0m\n\u001b[1;32m--> 738\u001b[1;33m                 return self._stream_run_output(timeout_seconds=timeout_seconds,\n\u001b[0m\u001b[0;32m    739\u001b[0m                                                raise_on_error=raise_on_error)\n\u001b[0;32m    740\u001b[0m             \u001b[1;32mexcept\u001b[0m \u001b[0mKeyboardInterrupt\u001b[0m\u001b[1;33m:\u001b[0m\u001b[1;33m\u001b[0m\u001b[1;33m\u001b[0m\u001b[0m\n",
      "\u001b[1;32mc:\\Users\\Vikas.Yetintala\\Anaconda3\\lib\\site-packages\\azureml\\pipeline\\core\\run.py\u001b[0m in \u001b[0;36m_stream_run_output\u001b[1;34m(self, timeout_seconds, raise_on_error)\u001b[0m\n\u001b[0;32m    829\u001b[0m             \u001b[0mprint\u001b[0m\u001b[1;33m(\u001b[0m\u001b[0mjson\u001b[0m\u001b[1;33m.\u001b[0m\u001b[0mdumps\u001b[0m\u001b[1;33m(\u001b[0m\u001b[0merror\u001b[0m\u001b[1;33m,\u001b[0m \u001b[0mindent\u001b[0m\u001b[1;33m=\u001b[0m\u001b[1;36m4\u001b[0m\u001b[1;33m)\u001b[0m\u001b[1;33m)\u001b[0m\u001b[1;33m\u001b[0m\u001b[1;33m\u001b[0m\u001b[0m\n\u001b[0;32m    830\u001b[0m         \u001b[1;32mif\u001b[0m \u001b[0merror\u001b[0m \u001b[1;32mand\u001b[0m \u001b[0mraise_on_error\u001b[0m\u001b[1;33m:\u001b[0m\u001b[1;33m\u001b[0m\u001b[1;33m\u001b[0m\u001b[0m\n\u001b[1;32m--> 831\u001b[1;33m             \u001b[1;32mraise\u001b[0m \u001b[0mActivityFailedException\u001b[0m\u001b[1;33m(\u001b[0m\u001b[0merror_details\u001b[0m\u001b[1;33m=\u001b[0m\u001b[0mjson\u001b[0m\u001b[1;33m.\u001b[0m\u001b[0mdumps\u001b[0m\u001b[1;33m(\u001b[0m\u001b[0merror\u001b[0m\u001b[1;33m,\u001b[0m \u001b[0mindent\u001b[0m\u001b[1;33m=\u001b[0m\u001b[1;36m4\u001b[0m\u001b[1;33m)\u001b[0m\u001b[1;33m)\u001b[0m\u001b[1;33m\u001b[0m\u001b[1;33m\u001b[0m\u001b[0m\n\u001b[0m\u001b[0;32m    832\u001b[0m \u001b[1;33m\u001b[0m\u001b[0m\n\u001b[0;32m    833\u001b[0m         \u001b[0mprint\u001b[0m\u001b[1;33m(\u001b[0m\u001b[0mfinal_details\u001b[0m\u001b[1;33m)\u001b[0m\u001b[1;33m\u001b[0m\u001b[1;33m\u001b[0m\u001b[0m\n",
      "\u001b[1;31mActivityFailedException\u001b[0m: ActivityFailedException:\n\tMessage: Activity Failed:\n{\n    \"error\": {\n        \"code\": \"UserError\",\n        \"message\": \"Service invocation failed!\\r\\nRequest: POST account-rp.vienna-eastus.svc/rp/workspaces/subscriptions/a4df42c9-c1d2-44c4-b2c2-05edb4b27aad/resourceGroups/RG-MSFT-ML-POC-01/workspaces/aml-msft-ml-poc1/listResourceKeys\\r\\nStatus Code: 400 BadRequest\\r\\nError Code: ValidationError\\r\\nReason Phrase: Not Found response body: {\\\"error\\\":{\\\"code\\\":\\\"ResourceNotFound\\\",\\\"message\\\":\\\"The Resource 'Microsoft.insi\\r\\nResponse Body: {\\n  \\\"error\\\": {\\n    \\\"code\\\": \\\"ValidationError\\\",\\n    \\\"severity\\\": null,\\n    \\\"message\\\": \\\"Not Found response body: {\\\\\\\"error\\\\\\\":{\\\\\\\"code\\\\\\\":\\\\\\\"ResourceNotFound\\\\\\\",\\\\\\\"message\\\\\\\":\\\\\\\"The Resource 'Microsoft.insights/components/appinsamlmsftmlpoc119092022' under resource group 'RG-MSFT-ML-POC-01' was not found. For more details please go to https://aka.ms/ARMResourceNotFoundFix\\\\\\\"}}\\\",\\n    \\\"messageFormat\\\": null,\\n    \\\"messageParameters\\\": null,\\n    \\\"referenceCode\\\": null,\\n    \\\"detailsUri\\\": null,\\n    \\\"target\\\": \\\"s2s\\\",\\n    \\\"details\\\": [\\n      {\\n        \\\"code\\\": \\\"Invalid\\\",\\n        \\\"severity\\\": null,\\n        \\\"message\\\": \\\"Not Found response body: {\\\\\\\"error\\\\\\\":{\\\\\\\"code\\\\\\\":\\\\\\\"ResourceNotFound\\\\\\\",\\\\\\\"message\\\\\\\":\\\\\\\"The Resource 'Microsoft.insights/components/appinsamlmsftmlpoc119092022' under resource group 'RG-MSFT-ML-POC-01' was not found. For more details please go to https://aka.ms/ARMResourceNotFoundFix\\\\\\\"}}\\\",\\n        \\\"messageFormat\\\": null,\\n        \\\"messageParameters\\\": {},\\n        \\\"referenceCode\\\": null,\\n        \\\"detailsUri\\\": null,\\n        \\\"target\\\": \\\"s2s\\\",\\n        \\\"details\\\": [],\\n        \\\"innerError\\\": null,\\n        \\\"debugInfo\\\": null,\\n        \\\"additionalInfo\\\": null\\n      }\\n    ],\\n    \\\"innerError\\\": null,\\n    \\\"debugInfo\\\": null,\\n    \\\"additionalInfo\\\": null\\n  },\\n  \\\"correlation\\\": {\\n    \\\"operation\\\": \\\"0d2918be93e412edd72e64c23ed761ad\\\",\\n    \\\"request\\\": \\\"1216d898dedb62d3\\\"\\n  },\\n  \\\"environment\\\": \\\"eastus\\\",\\n  \\\"location\\\": \\\"eastus\\\",\\n  \\\"time\\\": \\\"2022-11-04T17:07:57.4256005+00:00\\\",\\n  \\\"componentName\\\": \\\"account-rp\\\"\\n}\",\n        \"details\": []\n    },\n    \"correlation\": {\n        \"operation\": \"0d2918be93e412edd72e64c23ed761ad\",\n        \"request\": \"115329d9b22bc7b8\"\n    },\n    \"environment\": \"eastus\",\n    \"location\": \"eastus\",\n    \"time\": \"2022-11-04T17:07:57.440308Z\",\n    \"componentName\": \"Execution\"\n}\n\tInnerException None\n\tErrorResponse \n{\n    \"error\": {\n        \"message\": \"Activity Failed:\\n{\\n    \\\"error\\\": {\\n        \\\"code\\\": \\\"UserError\\\",\\n        \\\"message\\\": \\\"Service invocation failed!\\\\r\\\\nRequest: POST account-rp.vienna-eastus.svc/rp/workspaces/subscriptions/a4df42c9-c1d2-44c4-b2c2-05edb4b27aad/resourceGroups/RG-MSFT-ML-POC-01/workspaces/aml-msft-ml-poc1/listResourceKeys\\\\r\\\\nStatus Code: 400 BadRequest\\\\r\\\\nError Code: ValidationError\\\\r\\\\nReason Phrase: Not Found response body: {\\\\\\\"error\\\\\\\":{\\\\\\\"code\\\\\\\":\\\\\\\"ResourceNotFound\\\\\\\",\\\\\\\"message\\\\\\\":\\\\\\\"The Resource 'Microsoft.insi\\\\r\\\\nResponse Body: {\\\\n  \\\\\\\"error\\\\\\\": {\\\\n    \\\\\\\"code\\\\\\\": \\\\\\\"ValidationError\\\\\\\",\\\\n    \\\\\\\"severity\\\\\\\": null,\\\\n    \\\\\\\"message\\\\\\\": \\\\\\\"Not Found response body: {\\\\\\\\\\\\\\\"error\\\\\\\\\\\\\\\":{\\\\\\\\\\\\\\\"code\\\\\\\\\\\\\\\":\\\\\\\\\\\\\\\"ResourceNotFound\\\\\\\\\\\\\\\",\\\\\\\\\\\\\\\"message\\\\\\\\\\\\\\\":\\\\\\\\\\\\\\\"The Resource 'Microsoft.insights/components/appinsamlmsftmlpoc119092022' under resource group 'RG-MSFT-ML-POC-01' was not found. For more details please go to https://aka.ms/ARMResourceNotFoundFix\\\\\\\\\\\\\\\"}}\\\\\\\",\\\\n    \\\\\\\"messageFormat\\\\\\\": null,\\\\n    \\\\\\\"messageParameters\\\\\\\": null,\\\\n    \\\\\\\"referenceCode\\\\\\\": null,\\\\n    \\\\\\\"detailsUri\\\\\\\": null,\\\\n    \\\\\\\"target\\\\\\\": \\\\\\\"s2s\\\\\\\",\\\\n    \\\\\\\"details\\\\\\\": [\\\\n      {\\\\n        \\\\\\\"code\\\\\\\": \\\\\\\"Invalid\\\\\\\",\\\\n        \\\\\\\"severity\\\\\\\": null,\\\\n        \\\\\\\"message\\\\\\\": \\\\\\\"Not Found response body: {\\\\\\\\\\\\\\\"error\\\\\\\\\\\\\\\":{\\\\\\\\\\\\\\\"code\\\\\\\\\\\\\\\":\\\\\\\\\\\\\\\"ResourceNotFound\\\\\\\\\\\\\\\",\\\\\\\\\\\\\\\"message\\\\\\\\\\\\\\\":\\\\\\\\\\\\\\\"The Resource 'Microsoft.insights/components/appinsamlmsftmlpoc119092022' under resource group 'RG-MSFT-ML-POC-01' was not found. For more details please go to https://aka.ms/ARMResourceNotFoundFix\\\\\\\\\\\\\\\"}}\\\\\\\",\\\\n        \\\\\\\"messageFormat\\\\\\\": null,\\\\n        \\\\\\\"messageParameters\\\\\\\": {},\\\\n        \\\\\\\"referenceCode\\\\\\\": null,\\\\n        \\\\\\\"detailsUri\\\\\\\": null,\\\\n        \\\\\\\"target\\\\\\\": \\\\\\\"s2s\\\\\\\",\\\\n        \\\\\\\"details\\\\\\\": [],\\\\n        \\\\\\\"innerError\\\\\\\": null,\\\\n        \\\\\\\"debugInfo\\\\\\\": null,\\\\n        \\\\\\\"additionalInfo\\\\\\\": null\\\\n      }\\\\n    ],\\\\n    \\\\\\\"innerError\\\\\\\": null,\\\\n    \\\\\\\"debugInfo\\\\\\\": null,\\\\n    \\\\\\\"additionalInfo\\\\\\\": null\\\\n  },\\\\n  \\\\\\\"correlation\\\\\\\": {\\\\n    \\\\\\\"operation\\\\\\\": \\\\\\\"0d2918be93e412edd72e64c23ed761ad\\\\\\\",\\\\n    \\\\\\\"request\\\\\\\": \\\\\\\"1216d898dedb62d3\\\\\\\"\\\\n  },\\\\n  \\\\\\\"environment\\\\\\\": \\\\\\\"eastus\\\\\\\",\\\\n  \\\\\\\"location\\\\\\\": \\\\\\\"eastus\\\\\\\",\\\\n  \\\\\\\"time\\\\\\\": \\\\\\\"2022-11-04T17:07:57.4256005+00:00\\\\\\\",\\\\n  \\\\\\\"componentName\\\\\\\": \\\\\\\"account-rp\\\\\\\"\\\\n}\\\",\\n        \\\"details\\\": []\\n    },\\n    \\\"correlation\\\": {\\n        \\\"operation\\\": \\\"0d2918be93e412edd72e64c23ed761ad\\\",\\n        \\\"request\\\": \\\"115329d9b22bc7b8\\\"\\n    },\\n    \\\"environment\\\": \\\"eastus\\\",\\n    \\\"location\\\": \\\"eastus\\\",\\n    \\\"time\\\": \\\"2022-11-04T17:07:57.440308Z\\\",\\n    \\\"componentName\\\": \\\"Execution\\\"\\n}\"\n    }\n}"
     ]
    }
   ],
   "source": [
    "new_experiment= Experiment(workspace=ws, name=\"pipelineexp01\")\n",
    "pipeline_exp_run= new_experiment.submit(new_pipeline)\n",
    "pipeline_exp_run.wait_for_completion(show_output=True)"
   ]
  },
  {
   "cell_type": "code",
   "execution_count": 51,
   "metadata": {},
   "outputs": [],
   "source": [
    "dataprep_step3= PythonScriptStep(name=\"Datapreparation\",\n",
    "                                source_directory=\"Training_python_scripts/\",\n",
    "                                script_name= \"Dataprep_pipeline.py\",\n",
    "                                inputs=[input_ds.as_named_input('raw_data')],\n",
    "                                outputs=[datafolder],\n",
    "                                runconfig=run_config,\n",
    "                                arguments=['--datafolder', datafolder])"
   ]
  },
  {
   "cell_type": "code",
   "execution_count": 52,
   "metadata": {},
   "outputs": [],
   "source": [
    "train_step3= PythonScriptStep(name=\"ModelTraining\",\n",
    "                             source_directory=\"Training_python_scripts/\",\n",
    "                             script_name=\"Training_pipeline_explain.py\",\n",
    "                             inputs=[datafolder],\n",
    "                             runconfig=run_config,\n",
    "                             arguments=['--datafolder',datafolder])"
   ]
  },
  {
   "cell_type": "code",
   "execution_count": 53,
   "metadata": {},
   "outputs": [],
   "source": [
    "steps= [dataprep_step3,train_step3]"
   ]
  },
  {
   "cell_type": "code",
   "execution_count": 54,
   "metadata": {},
   "outputs": [
    {
     "name": "stderr",
     "output_type": "stream",
     "text": [
      "WARNING:azureml._base_sdk_common._docstring_wrapper:Class SynapseCompute: This is an experimental class, and may change at any time. Please see https://aka.ms/azuremlexperimental for more information.\n"
     ]
    }
   ],
   "source": [
    "from azureml.pipeline.core import Pipeline \n",
    "new_pipeline = Pipeline(workspace=ws, steps=steps)"
   ]
  },
  {
   "cell_type": "code",
   "execution_count": 55,
   "metadata": {},
   "outputs": [
    {
     "name": "stdout",
     "output_type": "stream",
     "text": [
      "Created step Datapreparation [4225c369][b09e6dcb-9c43-4913-a6ef-cbead9d2c73d], (This step is eligible to reuse a previous run's output)\n",
      "Created step ModelTraining [195cb667][492cce95-8a3b-462c-adb3-3ef7d9a92b21], (This step is eligible to reuse a previous run's output)\n",
      "Submitted PipelineRun c183d196-f09b-4403-a8f5-a405b7762216\n",
      "Link to Azure Machine Learning Portal: https://ml.azure.com/runs/c183d196-f09b-4403-a8f5-a405b7762216?wsid=/subscriptions/a4df42c9-c1d2-44c4-b2c2-05edb4b27aad/resourcegroups/RG-MSFT-ML-POC-01/workspaces/aml-msft-ml-poc1&tid=3882b70d-a91e-468c-9928-820358bfbd73\n",
      "PipelineRunId: c183d196-f09b-4403-a8f5-a405b7762216\n",
      "Link to Azure Machine Learning Portal: https://ml.azure.com/runs/c183d196-f09b-4403-a8f5-a405b7762216?wsid=/subscriptions/a4df42c9-c1d2-44c4-b2c2-05edb4b27aad/resourcegroups/RG-MSFT-ML-POC-01/workspaces/aml-msft-ml-poc1&tid=3882b70d-a91e-468c-9928-820358bfbd73\n",
      "\n",
      "PipelineRun Execution Summary\n",
      "==============================\n",
      "PipelineRun Status: Failed\n"
     ]
    },
    {
     "ename": "ActivityFailedException",
     "evalue": "ActivityFailedException:\n\tMessage: Activity Failed:\n{\n    \"error\": {\n        \"code\": \"UserError\",\n        \"message\": \"Pipeline has some failed steps. See child run or execution logs for more details.\",\n        \"messageFormat\": \"Pipeline has some failed steps. {0}\",\n        \"messageParameters\": {},\n        \"referenceCode\": \"PipelineHasStepJobFailed\",\n        \"details\": []\n    },\n    \"environment\": \"eastus\",\n    \"location\": \"eastus\",\n    \"time\": \"2022-11-04T15:20:16.748737Z\",\n    \"componentName\": \"\"\n}\n\tInnerException None\n\tErrorResponse \n{\n    \"error\": {\n        \"message\": \"Activity Failed:\\n{\\n    \\\"error\\\": {\\n        \\\"code\\\": \\\"UserError\\\",\\n        \\\"message\\\": \\\"Pipeline has some failed steps. See child run or execution logs for more details.\\\",\\n        \\\"messageFormat\\\": \\\"Pipeline has some failed steps. {0}\\\",\\n        \\\"messageParameters\\\": {},\\n        \\\"referenceCode\\\": \\\"PipelineHasStepJobFailed\\\",\\n        \\\"details\\\": []\\n    },\\n    \\\"environment\\\": \\\"eastus\\\",\\n    \\\"location\\\": \\\"eastus\\\",\\n    \\\"time\\\": \\\"2022-11-04T15:20:16.748737Z\\\",\\n    \\\"componentName\\\": \\\"\\\"\\n}\"\n    }\n}",
     "output_type": "error",
     "traceback": [
      "\u001b[1;31m---------------------------------------------------------------------------\u001b[0m",
      "\u001b[1;31mActivityFailedException\u001b[0m                   Traceback (most recent call last)",
      "\u001b[1;32m~\\AppData\\Local\\Temp\\ipykernel_13644\\312785081.py\u001b[0m in \u001b[0;36m<module>\u001b[1;34m\u001b[0m\n\u001b[0;32m      1\u001b[0m \u001b[0mnew_experiment\u001b[0m\u001b[1;33m=\u001b[0m \u001b[0mExperiment\u001b[0m\u001b[1;33m(\u001b[0m\u001b[0mworkspace\u001b[0m\u001b[1;33m=\u001b[0m\u001b[0mws\u001b[0m\u001b[1;33m,\u001b[0m \u001b[0mname\u001b[0m\u001b[1;33m=\u001b[0m\u001b[1;34m\"pipelineexp01\"\u001b[0m\u001b[1;33m)\u001b[0m\u001b[1;33m\u001b[0m\u001b[1;33m\u001b[0m\u001b[0m\n\u001b[0;32m      2\u001b[0m \u001b[0mpipeline_exp_run\u001b[0m\u001b[1;33m=\u001b[0m \u001b[0mnew_experiment\u001b[0m\u001b[1;33m.\u001b[0m\u001b[0msubmit\u001b[0m\u001b[1;33m(\u001b[0m\u001b[0mnew_pipeline\u001b[0m\u001b[1;33m)\u001b[0m\u001b[1;33m\u001b[0m\u001b[1;33m\u001b[0m\u001b[0m\n\u001b[1;32m----> 3\u001b[1;33m \u001b[0mpipeline_exp_run\u001b[0m\u001b[1;33m.\u001b[0m\u001b[0mwait_for_completion\u001b[0m\u001b[1;33m(\u001b[0m\u001b[0mshow_output\u001b[0m\u001b[1;33m=\u001b[0m\u001b[1;32mTrue\u001b[0m\u001b[1;33m)\u001b[0m\u001b[1;33m\u001b[0m\u001b[1;33m\u001b[0m\u001b[0m\n\u001b[0m",
      "\u001b[1;32mc:\\Users\\Vikas.Yetintala\\Anaconda3\\lib\\site-packages\\azureml\\pipeline\\core\\run.py\u001b[0m in \u001b[0;36mwait_for_completion\u001b[1;34m(self, show_output, timeout_seconds, raise_on_error)\u001b[0m\n\u001b[0;32m    351\u001b[0m         \u001b[0merror\u001b[0m \u001b[1;33m=\u001b[0m \u001b[0mfinal_details\u001b[0m\u001b[1;33m.\u001b[0m\u001b[0mget\u001b[0m\u001b[1;33m(\u001b[0m\u001b[1;34m\"error\"\u001b[0m\u001b[1;33m)\u001b[0m\u001b[1;33m\u001b[0m\u001b[1;33m\u001b[0m\u001b[0m\n\u001b[0;32m    352\u001b[0m         \u001b[1;32mif\u001b[0m \u001b[0merror\u001b[0m \u001b[1;32mand\u001b[0m \u001b[0mraise_on_error\u001b[0m\u001b[1;33m:\u001b[0m\u001b[1;33m\u001b[0m\u001b[1;33m\u001b[0m\u001b[0m\n\u001b[1;32m--> 353\u001b[1;33m             \u001b[1;32mraise\u001b[0m \u001b[0mActivityFailedException\u001b[0m\u001b[1;33m(\u001b[0m\u001b[0merror_details\u001b[0m\u001b[1;33m=\u001b[0m\u001b[0mjson\u001b[0m\u001b[1;33m.\u001b[0m\u001b[0mdumps\u001b[0m\u001b[1;33m(\u001b[0m\u001b[0merror\u001b[0m\u001b[1;33m,\u001b[0m \u001b[0mindent\u001b[0m\u001b[1;33m=\u001b[0m\u001b[1;36m4\u001b[0m\u001b[1;33m)\u001b[0m\u001b[1;33m)\u001b[0m\u001b[1;33m\u001b[0m\u001b[1;33m\u001b[0m\u001b[0m\n\u001b[0m\u001b[0;32m    354\u001b[0m \u001b[1;33m\u001b[0m\u001b[0m\n\u001b[0;32m    355\u001b[0m         \u001b[1;32mif\u001b[0m \u001b[0mshow_output\u001b[0m\u001b[1;33m:\u001b[0m\u001b[1;33m\u001b[0m\u001b[1;33m\u001b[0m\u001b[0m\n",
      "\u001b[1;31mActivityFailedException\u001b[0m: ActivityFailedException:\n\tMessage: Activity Failed:\n{\n    \"error\": {\n        \"code\": \"UserError\",\n        \"message\": \"Pipeline has some failed steps. See child run or execution logs for more details.\",\n        \"messageFormat\": \"Pipeline has some failed steps. {0}\",\n        \"messageParameters\": {},\n        \"referenceCode\": \"PipelineHasStepJobFailed\",\n        \"details\": []\n    },\n    \"environment\": \"eastus\",\n    \"location\": \"eastus\",\n    \"time\": \"2022-11-04T15:20:16.748737Z\",\n    \"componentName\": \"\"\n}\n\tInnerException None\n\tErrorResponse \n{\n    \"error\": {\n        \"message\": \"Activity Failed:\\n{\\n    \\\"error\\\": {\\n        \\\"code\\\": \\\"UserError\\\",\\n        \\\"message\\\": \\\"Pipeline has some failed steps. See child run or execution logs for more details.\\\",\\n        \\\"messageFormat\\\": \\\"Pipeline has some failed steps. {0}\\\",\\n        \\\"messageParameters\\\": {},\\n        \\\"referenceCode\\\": \\\"PipelineHasStepJobFailed\\\",\\n        \\\"details\\\": []\\n    },\\n    \\\"environment\\\": \\\"eastus\\\",\\n    \\\"location\\\": \\\"eastus\\\",\\n    \\\"time\\\": \\\"2022-11-04T15:20:16.748737Z\\\",\\n    \\\"componentName\\\": \\\"\\\"\\n}\"\n    }\n}"
     ]
    }
   ],
   "source": [
    "new_experiment= Experiment(workspace=ws, name=\"pipelineexp01\")\n",
    "pipeline_exp_run= new_experiment.submit(new_pipeline)\n",
    "pipeline_exp_run.wait_for_completion(show_output=True)"
   ]
  },
  {
   "cell_type": "code",
   "execution_count": null,
   "metadata": {},
   "outputs": [],
   "source": []
  }
 ],
 "metadata": {
  "kernelspec": {
   "display_name": "Python 3.9.13 64-bit ('Anaconda3')",
   "language": "python",
   "name": "python3"
  },
  "language_info": {
   "codemirror_mode": {
    "name": "ipython",
    "version": 3
   },
   "file_extension": ".py",
   "mimetype": "text/x-python",
   "name": "python",
   "nbconvert_exporter": "python",
   "pygments_lexer": "ipython3",
   "version": "3.9.13"
  },
  "orig_nbformat": 4,
  "vscode": {
   "interpreter": {
    "hash": "6f326d9ea5a3f36b2f0746ecad6bb15bd497c3c8c2ca7601a5784643aa7cf852"
   }
  }
 },
 "nbformat": 4,
 "nbformat_minor": 2
}
