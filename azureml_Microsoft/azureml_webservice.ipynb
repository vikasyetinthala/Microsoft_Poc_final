{
 "cells": [
  {
   "cell_type": "code",
   "execution_count": null,
   "metadata": {},
   "outputs": [],
   "source": [
    "from azureml.core import Workspace, Model\n",
    "ws= Workspace.from_config(\"./config\")\n",
    "new_run= ws.get_run(\"d1295ce7-3e98-4de9-a302-3ad271adbe55\")\n",
    "new_run.register_model(model_path='outputs/models.pkl',\n",
    "                        model_name='MS_POC_Titanic_Model',\n",
    "                        tags={'source':'sdk-run','algorithm':'LogisticRegression'},\n",
    "                        description=\"Microsoft POC for Titanic Dataset\")"
   ]
  },
  {
   "cell_type": "code",
   "execution_count": null,
   "metadata": {},
   "outputs": [],
   "source": [
    "from azureml.core import Workspace, Model\n",
    "ws= Workspace.from_config(\"./config\")\n",
    "new_run= ws.get_run(\"df204f6d-b25f-4b1f-85f7-8f45b0cbe60b\")\n",
    "print(new_run)"
   ]
  },
  {
   "cell_type": "code",
   "execution_count": null,
   "metadata": {},
   "outputs": [],
   "source": [
    "models=Model.list(ws)\n",
    "for model in Model.list(ws):\n",
    "    print(\"\\n\",model.name, 'version: ',model.version)\n",
    "    print(\"model run id \",model.run_id)\n",
    "    print(\"model name: \",model.name)"
   ]
  },
  {
   "cell_type": "code",
   "execution_count": null,
   "metadata": {},
   "outputs": [],
   "source": [
    "from azureml.core import Environment\n",
    "from azureml.core.environment import CondaDependencies   "
   ]
  },
  {
   "cell_type": "code",
   "execution_count": null,
   "metadata": {},
   "outputs": [],
   "source": [
    "myenv= Environment(name=\"MyEnvironment\")\n",
    "myenv_dep= CondaDependencies.create(conda_packages=['scikit-learn','pip'],\n",
    "                                    pip_packages=['azureml-defaults'])\n",
    "myenv.python.conda_dependencies = myenv_dep\n",
    "myenv.register(ws)"
   ]
  },
  {
   "cell_type": "code",
   "execution_count": null,
   "metadata": {},
   "outputs": [],
   "source": [
    "from azureml.core.compute import AksCompute, ComputeTarget\n",
    "cluster_name= 'mspoctitanicaks'\n",
    "if cluster_name not in ws.compute_targets:\n",
    "    aks_config = AksCompute.provisioning_configuration(location='eastus',\n",
    "                                                        vm_size='STANDARD_D11_V2',\n",
    "                                                        agent_count=1,\n",
    "                                                        cluster_purpose='DevTest')\n",
    "    production_cluster= ComputeTarget.create(ws, cluster_name, aks_config)\n",
    "    production_cluster.wait_for_completion(show_output=True)\n",
    "    cluster= ws.compute_targets[cluster_name]\n",
    "else:\n",
    "    cluster= ws.compute_targets[cluster_name]\n",
    "    print(\"cluster found here...\")"
   ]
  },
  {
   "cell_type": "code",
   "execution_count": null,
   "metadata": {},
   "outputs": [],
   "source": [
    "from azureml.core.model import InferenceConfig\n",
    "infernece_config = InferenceConfig(environment=myenv,\n",
    "                                    entry_script='scoring_script.py',\n",
    "                                    source_directory='kubernetes_script/')"
   ]
  },
  {
   "cell_type": "code",
   "execution_count": null,
   "metadata": {},
   "outputs": [],
   "source": [
    "from azureml.core.webservice import AksWebservice\n",
    "deploy_config = AksWebservice.deploy_configuration(cpu_cores=1,memory_gb=1,enable_app_insights=True)"
   ]
  },
  {
   "cell_type": "code",
   "execution_count": null,
   "metadata": {},
   "outputs": [],
   "source": [
    "model=ws.models['MS_POC_Titanic_Model']"
   ]
  },
  {
   "cell_type": "code",
   "execution_count": null,
   "metadata": {},
   "outputs": [],
   "source": [
    "service = Model.deploy(workspace=ws,\n",
    "                        name='ms-poc-titanic-webservice',\n",
    "                        models=[model],\n",
    "                        inference_config=infernece_config,\n",
    "                        deployment_config=deploy_config,\n",
    "                        deployment_target=cluster)\n",
    "service.wait_for_deployment(show_output=True)"
   ]
  },
  {
   "cell_type": "code",
   "execution_count": null,
   "metadata": {},
   "outputs": [],
   "source": []
  },
  {
   "cell_type": "code",
   "execution_count": null,
   "metadata": {},
   "outputs": [],
   "source": []
  }
 ],
 "metadata": {
  "kernelspec": {
   "display_name": "Python 3.9.13 64-bit ('Anaconda3')",
   "language": "python",
   "name": "python3"
  },
  "language_info": {
   "name": "python",
   "version": "3.9.13"
  },
  "orig_nbformat": 4,
  "vscode": {
   "interpreter": {
    "hash": "6f326d9ea5a3f36b2f0746ecad6bb15bd497c3c8c2ca7601a5784643aa7cf852"
   }
  }
 },
 "nbformat": 4,
 "nbformat_minor": 2
}
