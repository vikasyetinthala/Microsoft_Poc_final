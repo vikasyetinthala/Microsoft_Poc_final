{
 "cells": [
  {
   "cell_type": "code",
   "execution_count": 1,
   "metadata": {},
   "outputs": [
    {
     "name": "stderr",
     "output_type": "stream",
     "text": [
      "c:\\Users\\Vikas.Yetintala\\Anaconda3\\lib\\site-packages\\paramiko\\transport.py:219: CryptographyDeprecationWarning: Blowfish has been deprecated\n",
      "  \"class\": algorithms.Blowfish,\n"
     ]
    }
   ],
   "source": [
    "from azureml.core import Workspace, ScriptRunConfig\n",
    "from azureml.core.compute import DatabricksCompute, ComputeTarget"
   ]
  },
  {
   "cell_type": "code",
   "execution_count": 2,
   "metadata": {},
   "outputs": [],
   "source": [
    "ws= Workspace.from_config(\"./config\")"
   ]
  },
  {
   "cell_type": "code",
   "execution_count": null,
   "metadata": {},
   "outputs": [],
   "source": [
    "db_resource_group = \"\"\n",
    "db_workspace_name = \"\"\n",
    "db_access_token = \"\"\n",
    "db_compute_name = \"\""
   ]
  },
  {
   "cell_type": "code",
   "execution_count": null,
   "metadata": {},
   "outputs": [],
   "source": [
    "if db_compute_name not in ws.compute_targets:\n",
    "    attach_config = DatabricksCompute.attach_configuration(resource_group=db_resource_group,\n",
    "                                                            workspace_name=db_workspace_name,\n",
    "                                                            access_token=db_access_token)\n",
    "    print(\"Attaching the compute target\")\n",
    "    db_cluster = ComputeTarget.attach(ws,db_compute_name,attach_config)\n",
    "    db_cluster.wait_for_completion(True)\n",
    "else:\n",
    "    db_cluster= ws.compute_targets[db_compute_name]"
   ]
  },
  {
   "cell_type": "code",
   "execution_count": null,
   "metadata": {},
   "outputs": [],
   "source": [
    "from azureml.core import Environment\n",
    "from azureml.core.environment import CondaDependencies   "
   ]
  },
  {
   "cell_type": "code",
   "execution_count": null,
   "metadata": {},
   "outputs": [],
   "source": [
    "myenv= Environment(name=\"MyEnvironment\")\n",
    "myenv_dep= CondaDependencies.create(conda_packages=['scikit-learn','pip'],\n",
    "                                    pip_packages=['azureml-defaults','azureml-interpret','azureml-explain-model','interpret-community'])\n",
    "myenv.python.conda_dependencies = myenv_dep\n",
    "myenv.register(ws)"
   ]
  },
  {
   "cell_type": "code",
   "execution_count": null,
   "metadata": {},
   "outputs": [],
   "source": [
    "from azureml.core.runconfig import RunConfiguration \n",
    "run_config = RunConfiguration()\n",
    "run_config.target= db_cluster\n",
    "run_config.environment = myenv "
   ]
  },
  {
   "cell_type": "code",
   "execution_count": null,
   "metadata": {},
   "outputs": [],
   "source": [
    "from azureml.core import Experiment\n",
    "experiment=Experiment(workspace=ws,name=\"azureml_databricks_step\")"
   ]
  },
  {
   "cell_type": "code",
   "execution_count": null,
   "metadata": {},
   "outputs": [],
   "source": [
    "script_config = ScriptRunConfig(source_directory=\".\",\n",
    "                                script=\"TrainingScript.py\",\n",
    "                                environment=myenv,\n",
    "                                run_config=run_config) \n",
    "new_run1 = experiment.submit(config=script_config)\n",
    "new_run1.wait_for_completion()"
   ]
  },
  {
   "cell_type": "code",
   "execution_count": null,
   "metadata": {},
   "outputs": [],
   "source": []
  }
 ],
 "metadata": {
  "kernelspec": {
   "display_name": "Python 3.9.13 64-bit ('Anaconda3')",
   "language": "python",
   "name": "python3"
  },
  "language_info": {
   "codemirror_mode": {
    "name": "ipython",
    "version": 3
   },
   "file_extension": ".py",
   "mimetype": "text/x-python",
   "name": "python",
   "nbconvert_exporter": "python",
   "pygments_lexer": "ipython3",
   "version": "3.9.13"
  },
  "orig_nbformat": 4,
  "vscode": {
   "interpreter": {
    "hash": "6f326d9ea5a3f36b2f0746ecad6bb15bd497c3c8c2ca7601a5784643aa7cf852"
   }
  }
 },
 "nbformat": 4,
 "nbformat_minor": 2
}
