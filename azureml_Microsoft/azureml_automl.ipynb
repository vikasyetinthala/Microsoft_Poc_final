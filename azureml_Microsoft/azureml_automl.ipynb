{
 "cells": [
  {
   "cell_type": "code",
   "execution_count": 1,
   "metadata": {},
   "outputs": [],
   "source": [
    "from azureml.core import Workspace, Dataset, Datastore, Experiment"
   ]
  },
  {
   "cell_type": "code",
   "execution_count": 2,
   "metadata": {},
   "outputs": [],
   "source": [
    "ws=Workspace.from_config(\"./config\")"
   ]
  },
  {
   "cell_type": "code",
   "execution_count": 3,
   "metadata": {},
   "outputs": [],
   "source": [
    "ws=Workspace.from_config(\"./config\")\n",
    "az_store= Datastore.get(ws,\"azure_sdk_blob01\")\n",
    "az_dataset=Dataset.get_by_name(ws,\"Titanic_vikas\")\n",
    "az_default_store= ws.get_default_datastore()"
   ]
  },
  {
   "cell_type": "code",
   "execution_count": null,
   "metadata": {},
   "outputs": [],
   "source": [
    "files_list=[\"./data/test.csv\",\"./data/test1.csv\"]\n",
    "files_list= az_store.upload_files(files=files_list,\n",
    "                                   target_path=\"folder_name/\",\n",
    "                                relative_root=\"./data/\",\n",
    "                                overwrite=True)"
   ]
  },
  {
   "cell_type": "code",
   "execution_count": null,
   "metadata": {},
   "outputs": [],
   "source": [
    "az_store.upload(src_dir=\"./data\",\n",
    "                target_path=\"folder_name/data\",\n",
    "                overwrite=True)"
   ]
  },
  {
   "cell_type": "markdown",
   "metadata": {},
   "source": [
    "# Creating Experiment"
   ]
  },
  {
   "cell_type": "code",
   "execution_count": 4,
   "metadata": {},
   "outputs": [],
   "source": [
    "from azureml.core import Experiment\n",
    "experiment=Experiment(workspace=ws,name=\"azureml_exp1_vikas\")"
   ]
  },
  {
   "cell_type": "markdown",
   "metadata": {},
   "source": [
    "# Running Experiment from Local with script file"
   ]
  },
  {
   "cell_type": "markdown",
   "metadata": {},
   "source": [
    "# Creating Environment and attach to configuration"
   ]
  },
  {
   "cell_type": "code",
   "execution_count": null,
   "metadata": {},
   "outputs": [],
   "source": [
    "from azureml.core import Environment\n",
    "from azureml.core.environment import CondaDependencies"
   ]
  },
  {
   "cell_type": "code",
   "execution_count": null,
   "metadata": {},
   "outputs": [],
   "source": [
    "myenv= Environment(name=\"MyEnvironment\")\n",
    "myenv_dep= CondaDependencies.create(conda_packages=['scikit-learn'])\n",
    "myenv.python.conda_dependencies = myenv_dep\n",
    "myenv.register(ws)"
   ]
  },
  {
   "cell_type": "code",
   "execution_count": null,
   "metadata": {},
   "outputs": [],
   "source": [
    "myenv= Environment(name=\"MyEnvironment\")\n",
    "myenv_dep= CondaDependencies.create(conda_packages=['scikit-learn','pip'],\n",
    "                                    pip_packages=['azureml-defaults','azureml-interpret','azureml-explain-model','interpret-community'])\n",
    "myenv.python.conda_dependencies = myenv_dep\n",
    "myenv.register(ws)"
   ]
  },
  {
   "cell_type": "code",
   "execution_count": null,
   "metadata": {},
   "outputs": [],
   "source": [
    "script_config = ScriptRunConfig(source_directory=\".\",\n",
    "                                script=\"TrainingScript.py\",\n",
    "                                environment=myenv) \n",
    "new_run1 = new_experiment.submit(config=script_config)\n",
    "new_run1.wait_for_completion()"
   ]
  },
  {
   "cell_type": "markdown",
   "metadata": {},
   "source": [
    "# Creating Compute cluster in azure"
   ]
  },
  {
   "cell_type": "code",
   "execution_count": 7,
   "metadata": {},
   "outputs": [
    {
     "name": "stdout",
     "output_type": "stream",
     "text": [
      "AmlCompute(workspace=Workspace.create(name='aml-msft-ml-poc1', subscription_id='a4df42c9-c1d2-44c4-b2c2-05edb4b27aad', resource_group='RG-MSFT-ML-POC-01'), name=comput1, id=/subscriptions/a4df42c9-c1d2-44c4-b2c2-05edb4b27aad/resourceGroups/RG-MSFT-ML-POC-01/providers/Microsoft.MachineLearningServices/workspaces/aml-msft-ml-poc1/computes/comput1, type=AmlCompute, provisioning_state=Succeeded, location=eastus, tags={})  compute cluster found.. using it....\n"
     ]
    }
   ],
   "source": [
    "from azureml.core.compute import AmlCompute \n",
    "cluster_name= \"comput1\"\n",
    "if cluster_name not in ws.compute_targets:\n",
    "    compute_config= AmlCompute.provisioning_configuration(vm_size=\"\",\n",
    "                                                        max_nodes=2)\n",
    "    cluster = AmlCompute.create(ws, cluster_name, compute_config)\n",
    "    cluster.wait_for_completion()\n",
    "else:\n",
    "    cluster= ws.compute_targets[cluster_name]\n",
    "print(cluster,\" compute cluster found.. using it....\")"
   ]
  },
  {
   "cell_type": "code",
   "execution_count": 5,
   "metadata": {},
   "outputs": [],
   "source": [
    "input_ds=ws.datasets.get(\"Titanic_selected_columns\")"
   ]
  },
  {
   "cell_type": "markdown",
   "metadata": {},
   "source": [
    "# Running Experiment in azure"
   ]
  },
  {
   "cell_type": "code",
   "execution_count": 8,
   "metadata": {},
   "outputs": [],
   "source": [
    "from azureml.train.automl import AutoMLConfig\n",
    "automl_config= AutoMLConfig(task='classification',\n",
    "                            compute_target=cluster,\n",
    "                            training_data=input_ds,\n",
    "                            validation_size=0.3,\n",
    "                            label_column_name=\"Survived\",\n",
    "                            primary_metric=\"norm_macro_recall\",\n",
    "                            iterations=10,\n",
    "                            max_concurrent_iterations=2,\n",
    "                            experiment_timeout_hours=0.25,\n",
    "                            featurization='auto')"
   ]
  },
  {
   "cell_type": "code",
   "execution_count": 9,
   "metadata": {},
   "outputs": [
    {
     "name": "stdout",
     "output_type": "stream",
     "text": [
      "submitting the exxperiment\n",
      "Submitting remote run.\n"
     ]
    },
    {
     "data": {
      "text/html": [
       "<table style=\"width:100%\"><tr><th>Experiment</th><th>Id</th><th>Type</th><th>Status</th><th>Details Page</th><th>Docs Page</th></tr><tr><td>azureml_titanic_vikas</td><td>AutoML_821a400b-4034-4d54-92e9-bfb3f9400860</td><td>automl</td><td>NotStarted</td><td><a href=\"https://ml.azure.com/runs/AutoML_821a400b-4034-4d54-92e9-bfb3f9400860?wsid=/subscriptions/a4df42c9-c1d2-44c4-b2c2-05edb4b27aad/resourcegroups/RG-MSFT-ML-POC-01/workspaces/aml-msft-ml-poc1&amp;tid=3882b70d-a91e-468c-9928-820358bfbd73\" target=\"_blank\" rel=\"noopener\">Link to Azure Machine Learning studio</a></td><td><a href=\"https://docs.microsoft.com/en-us/python/api/overview/azure/ml/intro?view=azure-ml-py\" target=\"_blank\" rel=\"noopener\">Link to Documentation</a></td></tr></table>"
      ],
      "text/plain": [
       "<IPython.core.display.HTML object>"
      ]
     },
     "metadata": {},
     "output_type": "display_data"
    },
    {
     "data": {
      "text/html": [
       "<table style=\"width:100%\"><tr><th>Experiment</th><th>Id</th><th>Type</th><th>Status</th><th>Details Page</th><th>Docs Page</th></tr><tr><td>azureml_titanic_vikas</td><td>AutoML_821a400b-4034-4d54-92e9-bfb3f9400860</td><td>automl</td><td>NotStarted</td><td><a href=\"https://ml.azure.com/runs/AutoML_821a400b-4034-4d54-92e9-bfb3f9400860?wsid=/subscriptions/a4df42c9-c1d2-44c4-b2c2-05edb4b27aad/resourcegroups/RG-MSFT-ML-POC-01/workspaces/aml-msft-ml-poc1&amp;tid=3882b70d-a91e-468c-9928-820358bfbd73\" target=\"_blank\" rel=\"noopener\">Link to Azure Machine Learning studio</a></td><td><a href=\"https://docs.microsoft.com/en-us/python/api/overview/azure/ml/intro?view=azure-ml-py\" target=\"_blank\" rel=\"noopener\">Link to Documentation</a></td></tr></table>"
      ],
      "text/plain": [
       "<IPython.core.display.HTML object>"
      ]
     },
     "metadata": {},
     "output_type": "display_data"
    },
    {
     "name": "stdout",
     "output_type": "stream",
     "text": [
      "\n",
      "Current status: FeaturesGeneration. Generating features for the dataset.\n",
      "Current status: ModelSelection. Beginning model selection.\n",
      "\n",
      "********************************************************************************************\n",
      "DATA GUARDRAILS: \n",
      "\n",
      "TYPE:         Class balancing detection\n",
      "STATUS:       PASSED\n",
      "DESCRIPTION:  Your inputs were analyzed, and all classes are balanced in your training data.\n",
      "              Learn more about imbalanced data: https://aka.ms/AutomatedMLImbalancedData\n",
      "\n",
      "********************************************************************************************\n",
      "\n",
      "TYPE:         Missing feature values imputation\n",
      "STATUS:       DONE\n",
      "DESCRIPTION:  If the missing values are expected, let the run complete. Otherwise cancel the current run and use a script to customize the handling of missing feature values that may be more appropriate based on the data type and business requirement.\n",
      "              Learn more about missing value imputation: https://aka.ms/AutomatedMLFeaturization\n",
      "DETAILS:      \n",
      "+------------------------------+------------------------------+------------------------------+\n",
      "|Column name                   |Missing value count           |Imputation type               |\n",
      "+==============================+==============================+==============================+\n",
      "|Age                           |119                           |mean                          |\n",
      "|Embarked                      |2                             |                              |\n",
      "+------------------------------+------------------------------+------------------------------+\n",
      "\n",
      "********************************************************************************************\n",
      "\n",
      "TYPE:         High cardinality feature detection\n",
      "STATUS:       PASSED\n",
      "DESCRIPTION:  Your inputs were analyzed, and no high cardinality features were detected.\n",
      "              Learn more about high cardinality feature handling: https://aka.ms/AutomatedMLFeaturization\n",
      "\n",
      "********************************************************************************************\n",
      "\n",
      "********************************************************************************************\n",
      "ITER: The iteration being evaluated.\n",
      "PIPELINE: A summary description of the pipeline being evaluated.\n",
      "DURATION: Time taken for the current iteration.\n",
      "METRIC: The result of computing score on the fitted pipeline.\n",
      "BEST: The best observed score thus far.\n",
      "********************************************************************************************\n",
      "\n",
      " ITER   PIPELINE                                       DURATION            METRIC      BEST\n",
      "    0   MaxAbsScaler LightGBM                          0:00:14             0.5135    0.5135\n",
      "    1   MaxAbsScaler XGBoostClassifier                 0:00:18             0.5014    0.5135\n",
      "    2   StandardScalerWrapper ExtremeRandomTrees       0:00:18             0.4917    0.5135\n",
      "    3   MaxAbsScaler ExtremeRandomTrees                0:00:18             0.5633    0.5633\n",
      "    4   StandardScalerWrapper RandomForest             0:00:18             0.4847    0.5633\n",
      "    5   MaxAbsScaler ExtremeRandomTrees                0:00:19             0.5440    0.5633\n",
      "    6   SparseNormalizer ExtremeRandomTrees            0:00:18             0.5742    0.5742\n",
      "    7   SparseNormalizer XGBoostClassifier             0:00:18             0.5135    0.5742\n",
      "    8    VotingEnsemble                                0:00:46             0.5851    0.5851\n",
      "    9    StackEnsemble                                 0:00:58             0.4941    0.5851\n"
     ]
    },
    {
     "data": {
      "text/plain": [
       "{'runId': 'AutoML_821a400b-4034-4d54-92e9-bfb3f9400860',\n",
       " 'target': 'comput1',\n",
       " 'status': 'Completed',\n",
       " 'startTimeUtc': '2022-11-03T16:29:10.294294Z',\n",
       " 'endTimeUtc': '2022-11-03T16:39:20.05976Z',\n",
       " 'services': {},\n",
       " 'properties': {'num_iterations': '10',\n",
       "  'training_type': 'TrainFull',\n",
       "  'acquisition_function': 'EI',\n",
       "  'primary_metric': 'norm_macro_recall',\n",
       "  'train_split': '0.3',\n",
       "  'acquisition_parameter': '0',\n",
       "  'num_cross_validation': None,\n",
       "  'target': 'comput1',\n",
       "  'AMLSettingsJsonString': '{\"path\":null,\"name\":\"azureml_titanic_vikas\",\"subscription_id\":\"a4df42c9-c1d2-44c4-b2c2-05edb4b27aad\",\"resource_group\":\"RG-MSFT-ML-POC-01\",\"workspace_name\":\"aml-msft-ml-poc1\",\"region\":\"eastus\",\"compute_target\":\"comput1\",\"spark_service\":null,\"azure_service\":\"remote\",\"many_models\":false,\"pipeline_fetch_max_batch_size\":1,\"enable_batch_run\":true,\"enable_parallel_run\":false,\"num_procs\":null,\"enable_run_restructure\":false,\"start_auxiliary_runs_before_parent_complete\":false,\"enable_code_generation\":true,\"iterations\":10,\"primary_metric\":\"norm_macro_recall\",\"task_type\":\"classification\",\"positive_label\":null,\"data_script\":null,\"test_size\":0.0,\"test_include_predictions_only\":false,\"validation_size\":0.3,\"n_cross_validations\":null,\"y_min\":null,\"y_max\":null,\"num_classes\":null,\"featurization\":\"auto\",\"_ignore_package_version_incompatibilities\":false,\"is_timeseries\":false,\"max_cores_per_iteration\":1,\"max_concurrent_iterations\":2,\"iteration_timeout_minutes\":null,\"mem_in_mb\":null,\"enforce_time_on_windows\":true,\"experiment_timeout_minutes\":15,\"experiment_exit_score\":null,\"partition_column_names\":null,\"whitelist_models\":null,\"blacklist_algos\":[\"TensorFlowLinearClassifier\",\"TensorFlowDNN\"],\"supported_models\":[\"LinearSVM\",\"LogisticRegression\",\"GradientBoosting\",\"ExtremeRandomTrees\",\"TabnetClassifier\",\"XGBoostClassifier\",\"AveragedPerceptronClassifier\",\"DecisionTree\",\"SGD\",\"TensorFlowLinearClassifier\",\"KNN\",\"SVM\",\"TensorFlowDNN\",\"LightGBM\",\"RandomForest\",\"BernoulliNaiveBayes\",\"MultinomialNaiveBayes\"],\"private_models\":[],\"auto_blacklist\":true,\"blacklist_samples_reached\":false,\"exclude_nan_labels\":true,\"verbosity\":20,\"_debug_log\":\"azureml_automl.log\",\"show_warnings\":false,\"model_explainability\":true,\"service_url\":null,\"sdk_url\":null,\"sdk_packages\":null,\"enable_onnx_compatible_models\":false,\"enable_split_onnx_featurizer_estimator_models\":false,\"vm_type\":\"STANDARD_D2_V2\",\"telemetry_verbosity\":20,\"send_telemetry\":true,\"enable_dnn\":false,\"scenario\":\"AutoML\",\"environment_label\":null,\"save_mlflow\":false,\"enable_categorical_indicators\":false,\"force_text_dnn\":false,\"enable_feature_sweeping\":true,\"enable_early_stopping\":true,\"early_stopping_n_iters\":10,\"arguments\":null,\"dataset_id\":\"c0139533-b8f4-458d-9501-85e0ed66c123\",\"hyperdrive_config\":null,\"validation_dataset_id\":null,\"run_source\":null,\"metrics\":null,\"enable_metric_confidence\":false,\"enable_ensembling\":true,\"enable_stack_ensembling\":true,\"ensemble_iterations\":10,\"enable_tf\":false,\"enable_subsampling\":false,\"subsample_seed\":null,\"enable_nimbusml\":false,\"enable_streaming\":false,\"force_streaming\":false,\"track_child_runs\":true,\"n_best_runs\":1,\"allowed_private_models\":[],\"label_column_name\":\"Survived\",\"weight_column_name\":null,\"cv_split_column_names\":null,\"enable_local_managed\":false,\"_local_managed_run_id\":null,\"cost_mode\":1,\"lag_length\":0,\"metric_operation\":\"maximize\",\"preprocess\":true}',\n",
       "  'DataPrepJsonString': '{\\\\\"training_data\\\\\": {\\\\\"datasetId\\\\\": \\\\\"c0139533-b8f4-458d-9501-85e0ed66c123\\\\\"}, \\\\\"datasets\\\\\": 0}',\n",
       "  'EnableSubsampling': 'False',\n",
       "  'runTemplate': 'AutoML',\n",
       "  'azureml.runsource': 'automl',\n",
       "  'display_task_type': 'classification',\n",
       "  'dependencies_versions': '{\"azureml-dataprep-native\": \"38.0.0\", \"azureml-dataprep\": \"4.5.7\", \"azureml-dataprep-rslex\": \"2.11.4\", \"azureml-automl-core\": \"1.47.0\", \"azureml-core\": \"1.47.0\", \"azureml-dataset-runtime\": \"1.47.0\", \"azureml-pipeline\": \"1.47.0\", \"azureml-pipeline-core\": \"1.47.0\", \"azureml-pipeline-steps\": \"1.47.0\", \"azureml-sdk\": \"1.47.0\", \"azureml-telemetry\": \"1.47.0\", \"azureml-train-automl-client\": \"1.47.0\", \"azureml-train-core\": \"1.47.0\", \"azureml-train-restclients-hyperdrive\": \"1.47.0\"}',\n",
       "  '_aml_system_scenario_identification': 'Remote.Parent',\n",
       "  'ClientType': 'SDK',\n",
       "  'environment_cpu_name': 'AzureML-AutoML',\n",
       "  'environment_cpu_label': 'prod',\n",
       "  'environment_gpu_name': 'AzureML-AutoML-GPU',\n",
       "  'environment_gpu_label': 'prod',\n",
       "  'root_attribution': 'automl',\n",
       "  'attribution': 'AutoML',\n",
       "  'Orchestrator': 'AutoML',\n",
       "  'CancelUri': 'https://eastus.api.azureml.ms/jasmine/v1.0/subscriptions/a4df42c9-c1d2-44c4-b2c2-05edb4b27aad/resourceGroups/RG-MSFT-ML-POC-01/providers/Microsoft.MachineLearningServices/workspaces/aml-msft-ml-poc1/experimentids/8b715fc1-04a1-4c31-b147-f7410c110805/cancel/AutoML_821a400b-4034-4d54-92e9-bfb3f9400860',\n",
       "  'azureml.git.repository_uri': 'https://github.com/vikasyetinthala/azureml_brillio.git',\n",
       "  'mlflow.source.git.repoURL': 'https://github.com/vikasyetinthala/azureml_brillio.git',\n",
       "  'azureml.git.branch': 'master',\n",
       "  'mlflow.source.git.branch': 'master',\n",
       "  'azureml.git.commit': '9b7194e399bf3942ba7e2739c38b69d88f20f896',\n",
       "  'mlflow.source.git.commit': '9b7194e399bf3942ba7e2739c38b69d88f20f896',\n",
       "  'azureml.git.dirty': 'True',\n",
       "  'ClientSdkVersion': '1.46.1',\n",
       "  'snapshotId': '00000000-0000-0000-0000-000000000000',\n",
       "  'SetupRunId': 'AutoML_821a400b-4034-4d54-92e9-bfb3f9400860_setup',\n",
       "  'SetupRunContainerId': 'dcid.AutoML_821a400b-4034-4d54-92e9-bfb3f9400860_setup',\n",
       "  'FeaturizationRunJsonPath': 'featurizer_container.json',\n",
       "  'FeaturizationRunId': 'AutoML_821a400b-4034-4d54-92e9-bfb3f9400860_featurize',\n",
       "  'ProblemInfoJsonString': '{\"dataset_num_categorical\": 0, \"is_sparse\": true, \"subsampling\": false, \"has_extra_col\": true, \"dataset_classes\": 2, \"dataset_features\": 32, \"dataset_samples\": 623, \"single_frequency_class_detected\": false}',\n",
       "  'ModelExplainRunId': 'AutoML_821a400b-4034-4d54-92e9-bfb3f9400860_ModelExplain'},\n",
       " 'inputDatasets': [{'dataset': {'id': 'c0139533-b8f4-458d-9501-85e0ed66c123'}, 'consumptionDetails': {'type': 'RunInput', 'inputName': 'training_data', 'mechanism': 'Direct'}}],\n",
       " 'outputDatasets': [],\n",
       " 'logFiles': {},\n",
       " 'submittedBy': 'Vikas Yetintala'}"
      ]
     },
     "execution_count": 9,
     "metadata": {},
     "output_type": "execute_result"
    }
   ],
   "source": [
    "from azureml.core.experiment import Experiment\n",
    "new_exp= Experiment(ws,\"azureml_titanic_vikas\")\n",
    "print(\"submitting the exxperiment\")\n",
    "new_run= new_exp.submit(automl_config)\n",
    "new_run.wait_for_completion(show_output=True)"
   ]
  },
  {
   "cell_type": "code",
   "execution_count": null,
   "metadata": {},
   "outputs": [],
   "source": [
    "best_child_run= new_run.get_best_child()"
   ]
  },
  {
   "cell_type": "code",
   "execution_count": null,
   "metadata": {},
   "outputs": [],
   "source": [
    "for run in new_run.get_children():\n",
    "    print(\"run id: \",run.id)\n",
    "    print(\"accuracy is: \",run.get_metrics['accuracy'])\n",
    "    print(\"norm macro recall: \",run.get_metrics['norm_macro_recall'])"
   ]
  }
 ],
 "metadata": {
  "kernelspec": {
   "display_name": "Python 3.9.13 64-bit ('Anaconda3')",
   "language": "python",
   "name": "python3"
  },
  "language_info": {
   "codemirror_mode": {
    "name": "ipython",
    "version": 3
   },
   "file_extension": ".py",
   "mimetype": "text/x-python",
   "name": "python",
   "nbconvert_exporter": "python",
   "pygments_lexer": "ipython3",
   "version": "3.9.13"
  },
  "orig_nbformat": 4,
  "vscode": {
   "interpreter": {
    "hash": "6f326d9ea5a3f36b2f0746ecad6bb15bd497c3c8c2ca7601a5784643aa7cf852"
   }
  }
 },
 "nbformat": 4,
 "nbformat_minor": 2
}
